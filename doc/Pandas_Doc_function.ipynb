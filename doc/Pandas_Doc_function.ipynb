{
 "cells": [
  {
   "cell_type": "markdown",
   "metadata": {},
   "source": [
    "### General Functions"
   ]
  },
  {
   "cell_type": "code",
   "execution_count": 1,
   "metadata": {},
   "outputs": [],
   "source": [
    "import pandas as pd\n",
    "import numpy as np"
   ]
  },
  {
   "cell_type": "markdown",
   "metadata": {},
   "source": [
    "https://pandas.pydata.org/docs/reference/general_functions.html"
   ]
  },
  {
   "cell_type": "markdown",
   "metadata": {},
   "source": [
    "1 melt"
   ]
  },
  {
   "cell_type": "markdown",
   "metadata": {},
   "source": [
    "The pandas.melt function is used to transform a DataFrame from a wide format (where each column represents a different variable) into a long format (where each variable is placed in a single column). This is often useful when you want to analyze data with multiple variables that can be represented as one column instead of separate ones."
   ]
  },
  {
   "cell_type": "markdown",
   "metadata": {},
   "source": [
    "Parameters:\n",
    "- frame: The DataFrame you want to melt.\n",
    "\n",
    "- id_vars: Columns to use as identifier variables (not melted). You can specify one or multiple columns.\n",
    "\n",
    "- value_vars: Columns to unpivot. If not specified, it will use all columns that are not listed as id_vars.\n",
    "\n",
    "- var_name: The name of the \"variable\" column. By default, it's either frame.columns.name or 'variable'.\n",
    "\n",
    "- value_name: The name of the \"value\" column. This will hold the values from the unpivoted columns. The default is 'value'.\n",
    "\n",
    "- col_level: If the DataFrame has a MultiIndex for columns, this specifies which level to melt.\n",
    "\n",
    "- ignore_index: If True (default), the index is ignored and replaced with a new integer-based index. If False, the original index is kept."
   ]
  },
  {
   "cell_type": "code",
   "execution_count": 3,
   "metadata": {},
   "outputs": [],
   "source": [
    "# Create the DataFrame\n",
    "df = pd.DataFrame({\n",
    "    'Name': ['Alice', 'Bob'],\n",
    "    'Math': [90, 80],\n",
    "    'English': [85, 88],\n",
    "    'Science': [92, 75]\n",
    "})"
   ]
  },
  {
   "cell_type": "code",
   "execution_count": 4,
   "metadata": {},
   "outputs": [
    {
     "data": {
      "application/vnd.microsoft.datawrangler.viewer.v0+json": {
       "columns": [
        {
         "name": "index",
         "rawType": "int64",
         "type": "integer"
        },
        {
         "name": "Name",
         "rawType": "object",
         "type": "string"
        },
        {
         "name": "Subject",
         "rawType": "object",
         "type": "string"
        },
        {
         "name": "Score",
         "rawType": "int64",
         "type": "integer"
        }
       ],
       "conversionMethod": "pd.DataFrame",
       "ref": "1a6b4d7d-1ecb-4f2e-acc2-234e6eaedf91",
       "rows": [
        [
         "0",
         "Alice",
         "Math",
         "90"
        ],
        [
         "1",
         "Bob",
         "Math",
         "80"
        ],
        [
         "2",
         "Alice",
         "English",
         "85"
        ],
        [
         "3",
         "Bob",
         "English",
         "88"
        ],
        [
         "4",
         "Alice",
         "Science",
         "92"
        ],
        [
         "5",
         "Bob",
         "Science",
         "75"
        ]
       ],
       "shape": {
        "columns": 3,
        "rows": 6
       }
      },
      "text/html": [
       "<div>\n",
       "<style scoped>\n",
       "    .dataframe tbody tr th:only-of-type {\n",
       "        vertical-align: middle;\n",
       "    }\n",
       "\n",
       "    .dataframe tbody tr th {\n",
       "        vertical-align: top;\n",
       "    }\n",
       "\n",
       "    .dataframe thead th {\n",
       "        text-align: right;\n",
       "    }\n",
       "</style>\n",
       "<table border=\"1\" class=\"dataframe\">\n",
       "  <thead>\n",
       "    <tr style=\"text-align: right;\">\n",
       "      <th></th>\n",
       "      <th>Name</th>\n",
       "      <th>Subject</th>\n",
       "      <th>Score</th>\n",
       "    </tr>\n",
       "  </thead>\n",
       "  <tbody>\n",
       "    <tr>\n",
       "      <th>0</th>\n",
       "      <td>Alice</td>\n",
       "      <td>Math</td>\n",
       "      <td>90</td>\n",
       "    </tr>\n",
       "    <tr>\n",
       "      <th>1</th>\n",
       "      <td>Bob</td>\n",
       "      <td>Math</td>\n",
       "      <td>80</td>\n",
       "    </tr>\n",
       "    <tr>\n",
       "      <th>2</th>\n",
       "      <td>Alice</td>\n",
       "      <td>English</td>\n",
       "      <td>85</td>\n",
       "    </tr>\n",
       "    <tr>\n",
       "      <th>3</th>\n",
       "      <td>Bob</td>\n",
       "      <td>English</td>\n",
       "      <td>88</td>\n",
       "    </tr>\n",
       "    <tr>\n",
       "      <th>4</th>\n",
       "      <td>Alice</td>\n",
       "      <td>Science</td>\n",
       "      <td>92</td>\n",
       "    </tr>\n",
       "    <tr>\n",
       "      <th>5</th>\n",
       "      <td>Bob</td>\n",
       "      <td>Science</td>\n",
       "      <td>75</td>\n",
       "    </tr>\n",
       "  </tbody>\n",
       "</table>\n",
       "</div>"
      ],
      "text/plain": [
       "    Name  Subject  Score\n",
       "0  Alice     Math     90\n",
       "1    Bob     Math     80\n",
       "2  Alice  English     85\n",
       "3    Bob  English     88\n",
       "4  Alice  Science     92\n",
       "5    Bob  Science     75"
      ]
     },
     "execution_count": 4,
     "metadata": {},
     "output_type": "execute_result"
    }
   ],
   "source": [
    "# Melt the DataFrame\n",
    "melted_df = pd.melt(df, id_vars=['Name'], value_vars=['Math', 'English', 'Science'],\n",
    "                    var_name='Subject', value_name='Score')\n",
    "melted_df"
   ]
  },
  {
   "cell_type": "code",
   "execution_count": 5,
   "metadata": {},
   "outputs": [
    {
     "data": {
      "text/plain": [
       "Name       object\n",
       "Subject    object\n",
       "Score       int64\n",
       "dtype: object"
      ]
     },
     "execution_count": 5,
     "metadata": {},
     "output_type": "execute_result"
    }
   ],
   "source": [
    "melted_df.dtypes"
   ]
  },
  {
   "cell_type": "code",
   "execution_count": 3,
   "metadata": {},
   "outputs": [
    {
     "data": {
      "application/vnd.microsoft.datawrangler.viewer.v0+json": {
       "columns": [
        {
         "name": "index",
         "rawType": "int64",
         "type": "integer"
        },
        {
         "name": "index",
         "rawType": "object",
         "type": "string"
        },
        {
         "name": "Subject_Term",
         "rawType": "object",
         "type": "string"
        },
        {
         "name": "Score",
         "rawType": "int64",
         "type": "integer"
        }
       ],
       "conversionMethod": "pd.DataFrame",
       "ref": "e9202605-cc56-4b93-90b4-4fec11da09fe",
       "rows": [
        [
         "0",
         "Alice",
         "Math",
         "90"
        ],
        [
         "1",
         "Bob",
         "Math",
         "80"
        ],
        [
         "2",
         "Alice",
         "Math",
         "85"
        ],
        [
         "3",
         "Bob",
         "Math",
         "79"
        ],
        [
         "4",
         "Alice",
         "English",
         "88"
        ],
        [
         "5",
         "Bob",
         "English",
         "91"
        ],
        [
         "6",
         "Alice",
         "English",
         "92"
        ],
        [
         "7",
         "Bob",
         "English",
         "86"
        ]
       ],
       "shape": {
        "columns": 3,
        "rows": 8
       }
      },
      "text/html": [
       "<div>\n",
       "<style scoped>\n",
       "    .dataframe tbody tr th:only-of-type {\n",
       "        vertical-align: middle;\n",
       "    }\n",
       "\n",
       "    .dataframe tbody tr th {\n",
       "        vertical-align: top;\n",
       "    }\n",
       "\n",
       "    .dataframe thead th {\n",
       "        text-align: right;\n",
       "    }\n",
       "</style>\n",
       "<table border=\"1\" class=\"dataframe\">\n",
       "  <thead>\n",
       "    <tr style=\"text-align: right;\">\n",
       "      <th></th>\n",
       "      <th>index</th>\n",
       "      <th>Subject_Term</th>\n",
       "      <th>Score</th>\n",
       "    </tr>\n",
       "  </thead>\n",
       "  <tbody>\n",
       "    <tr>\n",
       "      <th>0</th>\n",
       "      <td>Alice</td>\n",
       "      <td>Math</td>\n",
       "      <td>90</td>\n",
       "    </tr>\n",
       "    <tr>\n",
       "      <th>1</th>\n",
       "      <td>Bob</td>\n",
       "      <td>Math</td>\n",
       "      <td>80</td>\n",
       "    </tr>\n",
       "    <tr>\n",
       "      <th>2</th>\n",
       "      <td>Alice</td>\n",
       "      <td>Math</td>\n",
       "      <td>85</td>\n",
       "    </tr>\n",
       "    <tr>\n",
       "      <th>3</th>\n",
       "      <td>Bob</td>\n",
       "      <td>Math</td>\n",
       "      <td>79</td>\n",
       "    </tr>\n",
       "    <tr>\n",
       "      <th>4</th>\n",
       "      <td>Alice</td>\n",
       "      <td>English</td>\n",
       "      <td>88</td>\n",
       "    </tr>\n",
       "    <tr>\n",
       "      <th>5</th>\n",
       "      <td>Bob</td>\n",
       "      <td>English</td>\n",
       "      <td>91</td>\n",
       "    </tr>\n",
       "    <tr>\n",
       "      <th>6</th>\n",
       "      <td>Alice</td>\n",
       "      <td>English</td>\n",
       "      <td>92</td>\n",
       "    </tr>\n",
       "    <tr>\n",
       "      <th>7</th>\n",
       "      <td>Bob</td>\n",
       "      <td>English</td>\n",
       "      <td>86</td>\n",
       "    </tr>\n",
       "  </tbody>\n",
       "</table>\n",
       "</div>"
      ],
      "text/plain": [
       "   index Subject_Term  Score\n",
       "0  Alice         Math     90\n",
       "1    Bob         Math     80\n",
       "2  Alice         Math     85\n",
       "3    Bob         Math     79\n",
       "4  Alice      English     88\n",
       "5    Bob      English     91\n",
       "6  Alice      English     92\n",
       "7    Bob      English     86"
      ]
     },
     "execution_count": 3,
     "metadata": {},
     "output_type": "execute_result"
    }
   ],
   "source": [
    "df = pd.DataFrame({\n",
    "    ('Math', 'Term1'): [90, 80],\n",
    "    ('Math', 'Term2'): [85, 79],\n",
    "    ('English', 'Term1'): [88, 91],\n",
    "    ('English', 'Term2'): [92, 86]\n",
    "}, index=['Alice', 'Bob'])\n",
    "\n",
    "# Melt the DataFrame with a MultiIndex column\n",
    "melted_df = pd.melt(df.reset_index(), id_vars=['index'], col_level=0, var_name='Subject_Term', value_name='Score')\n",
    "melted_df"
   ]
  },
  {
   "cell_type": "markdown",
   "metadata": {},
   "source": [
    "2 pivot"
   ]
  },
  {
   "cell_type": "markdown",
   "metadata": {},
   "source": [
    "The pandas.pivot function reshapes the data in a DataFrame by rearranging it based on unique values from specified columns, allowing you to create a \"pivot table.\" The values from one column are transformed into the new frame's columns, and the rows are indexed by one or more columns. This function is typically used for restructuring data when you want to pivot it into a more accessible format for analysis."
   ]
  },
  {
   "cell_type": "markdown",
   "metadata": {},
   "source": [
    "Parameters:\n",
    "- data: The DataFrame you want to pivot.\n",
    "\n",
    "- columns: The column(s) that will be used to form the new columns in the resulting DataFrame.\n",
    "\n",
    "- index: The column(s) that will be used to form the new index (rows) of the DataFrame. If not provided, the - current index is used.\n",
    "\n",
    "- values: The column(s) whose values will populate the new DataFrame's values. If not specified, all columns not used in index and columns will be included in the result."
   ]
  },
  {
   "cell_type": "code",
   "execution_count": 6,
   "metadata": {},
   "outputs": [
    {
     "data": {
      "application/vnd.microsoft.datawrangler.viewer.v0+json": {
       "columns": [
        {
         "name": "Name",
         "rawType": "object",
         "type": "string"
        },
        {
         "name": "English",
         "rawType": "int64",
         "type": "integer"
        },
        {
         "name": "Math",
         "rawType": "int64",
         "type": "integer"
        }
       ],
       "conversionMethod": "pd.DataFrame",
       "ref": "a20c7038-6c7a-446a-a207-d1c63e055643",
       "rows": [
        [
         "Alice",
         "85",
         "90"
        ],
        [
         "Bob",
         "88",
         "80"
        ]
       ],
       "shape": {
        "columns": 2,
        "rows": 2
       }
      },
      "text/html": [
       "<div>\n",
       "<style scoped>\n",
       "    .dataframe tbody tr th:only-of-type {\n",
       "        vertical-align: middle;\n",
       "    }\n",
       "\n",
       "    .dataframe tbody tr th {\n",
       "        vertical-align: top;\n",
       "    }\n",
       "\n",
       "    .dataframe thead th {\n",
       "        text-align: right;\n",
       "    }\n",
       "</style>\n",
       "<table border=\"1\" class=\"dataframe\">\n",
       "  <thead>\n",
       "    <tr style=\"text-align: right;\">\n",
       "      <th>Subject</th>\n",
       "      <th>English</th>\n",
       "      <th>Math</th>\n",
       "    </tr>\n",
       "    <tr>\n",
       "      <th>Name</th>\n",
       "      <th></th>\n",
       "      <th></th>\n",
       "    </tr>\n",
       "  </thead>\n",
       "  <tbody>\n",
       "    <tr>\n",
       "      <th>Alice</th>\n",
       "      <td>85</td>\n",
       "      <td>90</td>\n",
       "    </tr>\n",
       "    <tr>\n",
       "      <th>Bob</th>\n",
       "      <td>88</td>\n",
       "      <td>80</td>\n",
       "    </tr>\n",
       "  </tbody>\n",
       "</table>\n",
       "</div>"
      ],
      "text/plain": [
       "Subject  English  Math\n",
       "Name                  \n",
       "Alice         85    90\n",
       "Bob           88    80"
      ]
     },
     "execution_count": 6,
     "metadata": {},
     "output_type": "execute_result"
    }
   ],
   "source": [
    "df = pd.DataFrame({\n",
    "    'Name': ['Alice', 'Bob', 'Alice', 'Bob'],\n",
    "    'Subject': ['Math', 'Math', 'English', 'English'],\n",
    "    'Score': [90, 80, 85, 88]\n",
    "})\n",
    "\n",
    "# Pivot the DataFrame\n",
    "pivoted_df = pd.pivot(df, index='Name', columns='Subject', values='Score')\n",
    "\n",
    "pivoted_df"
   ]
  },
  {
   "cell_type": "code",
   "execution_count": 7,
   "metadata": {},
   "outputs": [
    {
     "data": {
      "application/vnd.microsoft.datawrangler.viewer.v0+json": {
       "columns": [
        {
         "name": "Name",
         "rawType": "object",
         "type": "string"
        },
        {
         "name": "('Score', 'Math', 'Term1')",
         "rawType": "object",
         "type": "unknown"
        },
        {
         "name": "('Score', 'English', 'Term1')",
         "rawType": "object",
         "type": "unknown"
        },
        {
         "name": "('Grade', 'Math', 'Term1')",
         "rawType": "object",
         "type": "string"
        },
        {
         "name": "('Grade', 'English', 'Term1')",
         "rawType": "object",
         "type": "string"
        }
       ],
       "conversionMethod": "pd.DataFrame",
       "ref": "861bb145-f9e6-4bf9-9f60-00f64be0ee95",
       "rows": [
        [
         "Alice",
         "90",
         "85",
         "A",
         "B"
        ],
        [
         "Bob",
         "80",
         "88",
         "B",
         "A"
        ]
       ],
       "shape": {
        "columns": 4,
        "rows": 2
       }
      },
      "text/html": [
       "<div>\n",
       "<style scoped>\n",
       "    .dataframe tbody tr th:only-of-type {\n",
       "        vertical-align: middle;\n",
       "    }\n",
       "\n",
       "    .dataframe tbody tr th {\n",
       "        vertical-align: top;\n",
       "    }\n",
       "\n",
       "    .dataframe thead tr th {\n",
       "        text-align: left;\n",
       "    }\n",
       "\n",
       "    .dataframe thead tr:last-of-type th {\n",
       "        text-align: right;\n",
       "    }\n",
       "</style>\n",
       "<table border=\"1\" class=\"dataframe\">\n",
       "  <thead>\n",
       "    <tr>\n",
       "      <th></th>\n",
       "      <th colspan=\"2\" halign=\"left\">Score</th>\n",
       "      <th colspan=\"2\" halign=\"left\">Grade</th>\n",
       "    </tr>\n",
       "    <tr>\n",
       "      <th>Subject</th>\n",
       "      <th>Math</th>\n",
       "      <th>English</th>\n",
       "      <th>Math</th>\n",
       "      <th>English</th>\n",
       "    </tr>\n",
       "    <tr>\n",
       "      <th>Term</th>\n",
       "      <th>Term1</th>\n",
       "      <th>Term1</th>\n",
       "      <th>Term1</th>\n",
       "      <th>Term1</th>\n",
       "    </tr>\n",
       "    <tr>\n",
       "      <th>Name</th>\n",
       "      <th></th>\n",
       "      <th></th>\n",
       "      <th></th>\n",
       "      <th></th>\n",
       "    </tr>\n",
       "  </thead>\n",
       "  <tbody>\n",
       "    <tr>\n",
       "      <th>Alice</th>\n",
       "      <td>90</td>\n",
       "      <td>85</td>\n",
       "      <td>A</td>\n",
       "      <td>B</td>\n",
       "    </tr>\n",
       "    <tr>\n",
       "      <th>Bob</th>\n",
       "      <td>80</td>\n",
       "      <td>88</td>\n",
       "      <td>B</td>\n",
       "      <td>A</td>\n",
       "    </tr>\n",
       "  </tbody>\n",
       "</table>\n",
       "</div>"
      ],
      "text/plain": [
       "        Score         Grade        \n",
       "Subject  Math English  Math English\n",
       "Term    Term1   Term1 Term1   Term1\n",
       "Name                               \n",
       "Alice      90      85     A       B\n",
       "Bob        80      88     B       A"
      ]
     },
     "execution_count": 7,
     "metadata": {},
     "output_type": "execute_result"
    }
   ],
   "source": [
    "df = pd.DataFrame({\n",
    "    'Name': ['Alice', 'Bob', 'Alice', 'Bob'],\n",
    "    'Subject': ['Math', 'Math', 'English', 'English'],\n",
    "    'Term': ['Term1', 'Term1', 'Term1', 'Term1'],\n",
    "    'Score': [90, 80, 85, 88],\n",
    "    'Grade': ['A', 'B', 'B', 'A']\n",
    "})\n",
    "\n",
    "# Pivot the DataFrame with multiple values columns\n",
    "pivoted_df = pd.pivot(df, index='Name', columns=['Subject', 'Term'], values=['Score', 'Grade'])\n",
    "\n",
    "pivoted_df"
   ]
  },
  {
   "attachments": {
    "image.png": {
     "image/png": "[encoded data removed]"
    }
   },
   "cell_type": "markdown",
   "metadata": {},
   "source": [
    "![image.png](attachment:image.png)"
   ]
  },
  {
   "cell_type": "markdown",
   "metadata": {},
   "source": [
    "3 crosstab"
   ]
  },
  {
   "cell_type": "markdown",
   "metadata": {},
   "source": [
    "The pandas.crosstab() function creates a cross-tabulation (contingency table) of two or more categorical variables, summarizing their frequency or applying aggregation functions."
   ]
  },
  {
   "cell_type": "markdown",
   "metadata": {},
   "source": [
    "Parameters:\n",
    "- index:\tThe rows (categorical variable or list of variables).\n",
    "- columns:\tThe columns (categorical variable or list of variables).\n",
    "- values:\tArray to aggregate (requires aggfunc).\n",
    "- aggfunc:\tFunction to aggregate (sum, mean, count, etc.).\n",
    "- margins:\tIf True, adds row/column totals (subtotals).\n",
    "- normalize:\tIf True, normalizes the table (proportions instead of counts)."
   ]
  },
  {
   "cell_type": "markdown",
   "metadata": {},
   "source": [
    "pandas.crosstab(index, columns, values=None, rownames=None, colnames=None,\n",
    "                aggfunc=None, margins=False, margins_name='All', \n",
    "                dropna=True, normalize=False)"
   ]
  },
  {
   "cell_type": "code",
   "execution_count": 9,
   "metadata": {},
   "outputs": [],
   "source": [
    "data = {\n",
    "    'Gender': ['Male', 'Female', 'Male', 'Female', 'Male', 'Female'],\n",
    "    'Preference': ['A', 'B', 'A', 'A', 'B', 'B']\n",
    "}\n",
    "\n",
    "df = pd.DataFrame(data)"
   ]
  },
  {
   "cell_type": "code",
   "execution_count": 10,
   "metadata": {},
   "outputs": [
    {
     "data": {
      "application/vnd.microsoft.datawrangler.viewer.v0+json": {
       "columns": [
        {
         "name": "Gender",
         "rawType": "object",
         "type": "string"
        },
        {
         "name": "A",
         "rawType": "int64",
         "type": "integer"
        },
        {
         "name": "B",
         "rawType": "int64",
         "type": "integer"
        }
       ],
       "conversionMethod": "pd.DataFrame",
       "ref": "97cf1de4-9cef-4b6b-b8c4-4ed658d1ec89",
       "rows": [
        [
         "Female",
         "1",
         "2"
        ],
        [
         "Male",
         "2",
         "1"
        ]
       ],
       "shape": {
        "columns": 2,
        "rows": 2
       }
      },
      "text/html": [
       "<div>\n",
       "<style scoped>\n",
       "    .dataframe tbody tr th:only-of-type {\n",
       "        vertical-align: middle;\n",
       "    }\n",
       "\n",
       "    .dataframe tbody tr th {\n",
       "        vertical-align: top;\n",
       "    }\n",
       "\n",
       "    .dataframe thead th {\n",
       "        text-align: right;\n",
       "    }\n",
       "</style>\n",
       "<table border=\"1\" class=\"dataframe\">\n",
       "  <thead>\n",
       "    <tr style=\"text-align: right;\">\n",
       "      <th>Preference</th>\n",
       "      <th>A</th>\n",
       "      <th>B</th>\n",
       "    </tr>\n",
       "    <tr>\n",
       "      <th>Gender</th>\n",
       "      <th></th>\n",
       "      <th></th>\n",
       "    </tr>\n",
       "  </thead>\n",
       "  <tbody>\n",
       "    <tr>\n",
       "      <th>Female</th>\n",
       "      <td>1</td>\n",
       "      <td>2</td>\n",
       "    </tr>\n",
       "    <tr>\n",
       "      <th>Male</th>\n",
       "      <td>2</td>\n",
       "      <td>1</td>\n",
       "    </tr>\n",
       "  </tbody>\n",
       "</table>\n",
       "</div>"
      ],
      "text/plain": [
       "Preference  A  B\n",
       "Gender          \n",
       "Female      1  2\n",
       "Male        2  1"
      ]
     },
     "execution_count": 10,
     "metadata": {},
     "output_type": "execute_result"
    }
   ],
   "source": [
    "# Create crosstab\n",
    "table = pd.crosstab(df['Gender'], df['Preference'])\n",
    "table"
   ]
  },
  {
   "cell_type": "code",
   "execution_count": 20,
   "metadata": {},
   "outputs": [
    {
     "data": {
      "text/plain": [
       "Gender  Preference\n",
       "Female  B             2\n",
       "        A             1\n",
       "Male    A             2\n",
       "        B             1\n",
       "Name: count, dtype: int64"
      ]
     },
     "execution_count": 20,
     "metadata": {},
     "output_type": "execute_result"
    }
   ],
   "source": [
    "df.groupby(\"Gender\").value_counts()"
   ]
  },
  {
   "cell_type": "code",
   "execution_count": 22,
   "metadata": {},
   "outputs": [
    {
     "data": {
      "application/vnd.microsoft.datawrangler.viewer.v0+json": {
       "columns": [
        {
         "name": "Gender",
         "rawType": "object",
         "type": "string"
        },
        {
         "name": "A",
         "rawType": "int64",
         "type": "integer"
        },
        {
         "name": "B",
         "rawType": "int64",
         "type": "integer"
        },
        {
         "name": "All",
         "rawType": "int64",
         "type": "integer"
        }
       ],
       "conversionMethod": "pd.DataFrame",
       "ref": "2ef26b19-b348-4ea4-93fa-91266302f57a",
       "rows": [
        [
         "Female",
         "1",
         "2",
         "3"
        ],
        [
         "Male",
         "2",
         "1",
         "3"
        ],
        [
         "All",
         "3",
         "3",
         "6"
        ]
       ],
       "shape": {
        "columns": 3,
        "rows": 3
       }
      },
      "text/html": [
       "<div>\n",
       "<style scoped>\n",
       "    .dataframe tbody tr th:only-of-type {\n",
       "        vertical-align: middle;\n",
       "    }\n",
       "\n",
       "    .dataframe tbody tr th {\n",
       "        vertical-align: top;\n",
       "    }\n",
       "\n",
       "    .dataframe thead th {\n",
       "        text-align: right;\n",
       "    }\n",
       "</style>\n",
       "<table border=\"1\" class=\"dataframe\">\n",
       "  <thead>\n",
       "    <tr style=\"text-align: right;\">\n",
       "      <th>Preference</th>\n",
       "      <th>A</th>\n",
       "      <th>B</th>\n",
       "      <th>All</th>\n",
       "    </tr>\n",
       "    <tr>\n",
       "      <th>Gender</th>\n",
       "      <th></th>\n",
       "      <th></th>\n",
       "      <th></th>\n",
       "    </tr>\n",
       "  </thead>\n",
       "  <tbody>\n",
       "    <tr>\n",
       "      <th>Female</th>\n",
       "      <td>1</td>\n",
       "      <td>2</td>\n",
       "      <td>3</td>\n",
       "    </tr>\n",
       "    <tr>\n",
       "      <th>Male</th>\n",
       "      <td>2</td>\n",
       "      <td>1</td>\n",
       "      <td>3</td>\n",
       "    </tr>\n",
       "    <tr>\n",
       "      <th>All</th>\n",
       "      <td>3</td>\n",
       "      <td>3</td>\n",
       "      <td>6</td>\n",
       "    </tr>\n",
       "  </tbody>\n",
       "</table>\n",
       "</div>"
      ],
      "text/plain": [
       "Preference  A  B  All\n",
       "Gender               \n",
       "Female      1  2    3\n",
       "Male        2  1    3\n",
       "All         3  3    6"
      ]
     },
     "execution_count": 22,
     "metadata": {},
     "output_type": "execute_result"
    }
   ],
   "source": [
    "# Adding Totals (margins=True)\n",
    "table = pd.crosstab(df['Gender'], df['Preference'], margins=True)\n",
    "table"
   ]
  },
  {
   "cell_type": "code",
   "execution_count": null,
   "metadata": {},
   "outputs": [
    {
     "data": {
      "application/vnd.microsoft.datawrangler.viewer.v0+json": {
       "columns": [
        {
         "name": "Gender",
         "rawType": "object",
         "type": "string"
        },
        {
         "name": "A",
         "rawType": "float64",
         "type": "float"
        },
        {
         "name": "B",
         "rawType": "float64",
         "type": "float"
        }
       ],
       "conversionMethod": "pd.DataFrame",
       "ref": "b4643841-5463-4267-b809-2928366c76bf",
       "rows": [
        [
         "Female",
         "85.0",
         "85.0"
        ],
        [
         "Male",
         "85.0",
         "70.0"
        ]
       ],
       "shape": {
        "columns": 2,
        "rows": 2
       }
      },
      "text/html": [
       "<div>\n",
       "<style scoped>\n",
       "    .dataframe tbody tr th:only-of-type {\n",
       "        vertical-align: middle;\n",
       "    }\n",
       "\n",
       "    .dataframe tbody tr th {\n",
       "        vertical-align: top;\n",
       "    }\n",
       "\n",
       "    .dataframe thead th {\n",
       "        text-align: right;\n",
       "    }\n",
       "</style>\n",
       "<table border=\"1\" class=\"dataframe\">\n",
       "  <thead>\n",
       "    <tr style=\"text-align: right;\">\n",
       "      <th>Preference</th>\n",
       "      <th>A</th>\n",
       "      <th>B</th>\n",
       "    </tr>\n",
       "    <tr>\n",
       "      <th>Gender</th>\n",
       "      <th></th>\n",
       "      <th></th>\n",
       "    </tr>\n",
       "  </thead>\n",
       "  <tbody>\n",
       "    <tr>\n",
       "      <th>Female</th>\n",
       "      <td>85.0</td>\n",
       "      <td>85.0</td>\n",
       "    </tr>\n",
       "    <tr>\n",
       "      <th>Male</th>\n",
       "      <td>85.0</td>\n",
       "      <td>70.0</td>\n",
       "    </tr>\n",
       "  </tbody>\n",
       "</table>\n",
       "</div>"
      ],
      "text/plain": [
       "Preference     A     B\n",
       "Gender                \n",
       "Female      85.0  85.0\n",
       "Male        85.0  70.0"
      ]
     },
     "execution_count": 23,
     "metadata": {},
     "output_type": "execute_result"
    }
   ],
   "source": [
    "data = {\n",
    "    'Gender': ['Male', 'Female', 'Male', 'Female', 'Male', 'Female'],\n",
    "    'Preference': ['A', 'B', 'A', 'A', 'B', 'B'],\n",
    "    'Score': [80, 75, 90, 85, 70, 95]\n",
    "}\n",
    "\n",
    "df = pd.DataFrame(data)\n",
    "\n",
    "# Compute average scores per category\n",
    "table = pd.crosstab(df['Gender'], df['Preference'], values = df['Score'], aggfunc='mean')\n",
    "table"
   ]
  },
  {
   "cell_type": "code",
   "execution_count": 24,
   "metadata": {},
   "outputs": [
    {
     "data": {
      "application/vnd.microsoft.datawrangler.viewer.v0+json": {
       "columns": [
        {
         "name": "Gender",
         "rawType": "object",
         "type": "string"
        },
        {
         "name": "A",
         "rawType": "float64",
         "type": "float"
        },
        {
         "name": "B",
         "rawType": "float64",
         "type": "float"
        }
       ],
       "conversionMethod": "pd.DataFrame",
       "ref": "4f03ae5f-d4f0-4b0e-9ba0-12f5909c0612",
       "rows": [
        [
         "Female",
         "0.16666666666666666",
         "0.3333333333333333"
        ],
        [
         "Male",
         "0.3333333333333333",
         "0.16666666666666666"
        ]
       ],
       "shape": {
        "columns": 2,
        "rows": 2
       }
      },
      "text/html": [
       "<div>\n",
       "<style scoped>\n",
       "    .dataframe tbody tr th:only-of-type {\n",
       "        vertical-align: middle;\n",
       "    }\n",
       "\n",
       "    .dataframe tbody tr th {\n",
       "        vertical-align: top;\n",
       "    }\n",
       "\n",
       "    .dataframe thead th {\n",
       "        text-align: right;\n",
       "    }\n",
       "</style>\n",
       "<table border=\"1\" class=\"dataframe\">\n",
       "  <thead>\n",
       "    <tr style=\"text-align: right;\">\n",
       "      <th>Preference</th>\n",
       "      <th>A</th>\n",
       "      <th>B</th>\n",
       "    </tr>\n",
       "    <tr>\n",
       "      <th>Gender</th>\n",
       "      <th></th>\n",
       "      <th></th>\n",
       "    </tr>\n",
       "  </thead>\n",
       "  <tbody>\n",
       "    <tr>\n",
       "      <th>Female</th>\n",
       "      <td>0.166667</td>\n",
       "      <td>0.333333</td>\n",
       "    </tr>\n",
       "    <tr>\n",
       "      <th>Male</th>\n",
       "      <td>0.333333</td>\n",
       "      <td>0.166667</td>\n",
       "    </tr>\n",
       "  </tbody>\n",
       "</table>\n",
       "</div>"
      ],
      "text/plain": [
       "Preference         A         B\n",
       "Gender                        \n",
       "Female      0.166667  0.333333\n",
       "Male        0.333333  0.166667"
      ]
     },
     "execution_count": 24,
     "metadata": {},
     "output_type": "execute_result"
    }
   ],
   "source": [
    "table = pd.crosstab(df['Gender'], df['Preference'], normalize=True)\n",
    "table"
   ]
  },
  {
   "cell_type": "markdown",
   "metadata": {},
   "source": [
    "- Summarizing categorical data (e.g., survey responses, customer preferences).\n",
    "- Computing frequency distributions.\n",
    "- Performing contingency table analysis (e.g., Chi-square test).\n",
    "- Normalizing data to compare proportions."
   ]
  },
  {
   "cell_type": "markdown",
   "metadata": {},
   "source": [
    "4 cut"
   ]
  },
  {
   "cell_type": "markdown",
   "metadata": {},
   "source": [
    "Parameters:\n",
    "- x:\tThe data to be binned (array-like or Series).\n",
    "\n",
    "- bins:\tThe number of bins or an explicit list of bin edges.\n",
    "\n",
    "- right: (default: True)\tIf True, bins are right-inclusive (1,2] (includes 2 but not 1).\n",
    "\n",
    "- labels: (default: None)\tThe labels for the bins. If False, it returns integer bin indices.\n",
    "\n",
    "- retbins: (default: False)\tIf True, returns the bin edges along with the binned output.\n",
    "\n",
    "- precision: (default: 3)\tNumber of decimal places to store bin labels.\n",
    "\n",
    "- include_lowest: (default: False)\tIf True, includes the lowest value in the first bin.\n",
    "\n",
    "- duplicates: (default: 'raise')\tHandles duplicate bin edges: 'raise' (error) or 'drop' (remove).\n",
    "\n",
    "- ordered: (default: True)\tIf False, treats labels as unordered categorical values."
   ]
  },
  {
   "cell_type": "markdown",
   "metadata": {},
   "source": [
    "pandas.cut() - Convert Continuous Data into Bins (Categories)\n",
    "\n",
    "The cut() function divides continuous numerical data into discrete bins (categories). It’s useful for transforming numerical data into categorical groups."
   ]
  },
  {
   "cell_type": "code",
   "execution_count": 25,
   "metadata": {},
   "outputs": [
    {
     "data": {
      "text/plain": [
       "['Child', 'Child', 'Young Adult', 'Young Adult', 'Young Adult', 'Adult', 'Adult', 'Senior', 'Senior', 'Senior']\n",
       "Categories (4, object): ['Child' < 'Young Adult' < 'Adult' < 'Senior']"
      ]
     },
     "execution_count": 25,
     "metadata": {},
     "output_type": "execute_result"
    }
   ],
   "source": [
    "ages = [5, 12, 20, 25, 30, 40, 50, 60, 70, 80]\n",
    "bins = [0, 18, 35, 55, 100]  # Define bin edges\n",
    "labels = ['Child', 'Young Adult', 'Adult', 'Senior']  # Labels for bins\n",
    "\n",
    "\n",
    "age_groups = pd.cut(ages, bins=bins, labels=labels)\n",
    "age_groups"
   ]
  },
  {
   "cell_type": "code",
   "execution_count": 27,
   "metadata": {},
   "outputs": [
    {
     "data": {
      "text/plain": [
       "[(1.972, 11.333], (1.972, 11.333], (1.972, 11.333], (11.333, 20.667], (11.333, 20.667], (20.667, 30.0], (20.667, 30.0]]\n",
       "Categories (3, interval[float64, right]): [(1.972, 11.333] < (11.333, 20.667] < (20.667, 30.0]]"
      ]
     },
     "execution_count": 27,
     "metadata": {},
     "output_type": "execute_result"
    }
   ],
   "source": [
    "values = [2, 5, 10, 15, 20, 25, 30]\n",
    "binned_values = pd.cut(values, bins=3)  # 3 equal-width bins\n",
    "binned_values"
   ]
  },
  {
   "cell_type": "code",
   "execution_count": null,
   "metadata": {},
   "outputs": [
    {
     "data": {
      "application/vnd.microsoft.datawrangler.viewer.v0+json": {
       "columns": [
        {
         "name": "index",
         "rawType": "int64",
         "type": "integer"
        },
        {
         "name": "Employee",
         "rawType": "object",
         "type": "string"
        },
        {
         "name": "Salary",
         "rawType": "int64",
         "type": "integer"
        },
        {
         "name": "Salary Category",
         "rawType": "category",
         "type": "unknown"
        }
       ],
       "conversionMethod": "pd.DataFrame",
       "ref": "2ebb7b96-7ac5-4140-9149-8e231e6f4a15",
       "rows": [
        [
         "0",
         "Alice",
         "2500",
         "Low"
        ],
        [
         "1",
         "Bob",
         "4000",
         "Medium"
        ],
        [
         "2",
         "Charlie",
         "6000",
         "Medium"
        ],
        [
         "3",
         "David",
         "7500",
         "High"
        ],
        [
         "4",
         "Eve",
         "10000",
         "High"
        ],
        [
         "5",
         "Frank",
         "12000",
         "Very High"
        ],
        [
         "6",
         "Grace",
         "15000",
         "Very High"
        ]
       ],
       "shape": {
        "columns": 3,
        "rows": 7
       }
      },
      "text/html": [
       "<div>\n",
       "<style scoped>\n",
       "    .dataframe tbody tr th:only-of-type {\n",
       "        vertical-align: middle;\n",
       "    }\n",
       "\n",
       "    .dataframe tbody tr th {\n",
       "        vertical-align: top;\n",
       "    }\n",
       "\n",
       "    .dataframe thead th {\n",
       "        text-align: right;\n",
       "    }\n",
       "</style>\n",
       "<table border=\"1\" class=\"dataframe\">\n",
       "  <thead>\n",
       "    <tr style=\"text-align: right;\">\n",
       "      <th></th>\n",
       "      <th>Employee</th>\n",
       "      <th>Salary</th>\n",
       "      <th>Salary Category</th>\n",
       "    </tr>\n",
       "  </thead>\n",
       "  <tbody>\n",
       "    <tr>\n",
       "      <th>0</th>\n",
       "      <td>Alice</td>\n",
       "      <td>2500</td>\n",
       "      <td>Low</td>\n",
       "    </tr>\n",
       "    <tr>\n",
       "      <th>1</th>\n",
       "      <td>Bob</td>\n",
       "      <td>4000</td>\n",
       "      <td>Medium</td>\n",
       "    </tr>\n",
       "    <tr>\n",
       "      <th>2</th>\n",
       "      <td>Charlie</td>\n",
       "      <td>6000</td>\n",
       "      <td>Medium</td>\n",
       "    </tr>\n",
       "    <tr>\n",
       "      <th>3</th>\n",
       "      <td>David</td>\n",
       "      <td>7500</td>\n",
       "      <td>High</td>\n",
       "    </tr>\n",
       "    <tr>\n",
       "      <th>4</th>\n",
       "      <td>Eve</td>\n",
       "      <td>10000</td>\n",
       "      <td>High</td>\n",
       "    </tr>\n",
       "    <tr>\n",
       "      <th>5</th>\n",
       "      <td>Frank</td>\n",
       "      <td>12000</td>\n",
       "      <td>Very High</td>\n",
       "    </tr>\n",
       "    <tr>\n",
       "      <th>6</th>\n",
       "      <td>Grace</td>\n",
       "      <td>15000</td>\n",
       "      <td>Very High</td>\n",
       "    </tr>\n",
       "  </tbody>\n",
       "</table>\n",
       "</div>"
      ],
      "text/plain": [
       "  Employee  Salary Salary Category\n",
       "0    Alice    2500             Low\n",
       "1      Bob    4000          Medium\n",
       "2  Charlie    6000          Medium\n",
       "3    David    7500            High\n",
       "4      Eve   10000            High\n",
       "5    Frank   12000       Very High\n",
       "6    Grace   15000       Very High"
      ]
     },
     "execution_count": 29,
     "metadata": {},
     "output_type": "execute_result"
    }
   ],
   "source": [
    "# Sample DataFrame with employee salaries\n",
    "df = pd.DataFrame({\n",
    "    'Employee': ['Alice', 'Bob', 'Charlie', 'David', 'Eve', 'Frank', 'Grace'],\n",
    "    'Salary': [2500, 4000, 6000, 7500, 10000, 12000, 15000]\n",
    "})\n",
    "\n",
    "# Define salary bins and labels\n",
    "bins = [0, 3000, 7000, 10000, 20000]  # Salary ranges\n",
    "labels = ['Low', 'Medium', 'High', 'Very High']\n",
    "\n",
    "# Categorize salaries into bins\n",
    "df['Salary Category'] = pd.cut(df['Salary'], bins=bins, labels=labels, include_lowest=True)\n",
    "\n",
    "# Display the DataFrame\n",
    "df\n"
   ]
  },
  {
   "cell_type": "code",
   "execution_count": 7,
   "metadata": {},
   "outputs": [
    {
     "data": {
      "text/plain": [
       "0    Q1\n",
       "1    Q1\n",
       "2    Q1\n",
       "3    Q2\n",
       "4    Q2\n",
       "5    Q3\n",
       "6    Q3\n",
       "7    Q4\n",
       "8    Q4\n",
       "9    Q4\n",
       "dtype: category\n",
       "Categories (4, object): ['Q1' < 'Q2' < 'Q3' < 'Q4']"
      ]
     },
     "execution_count": 7,
     "metadata": {},
     "output_type": "execute_result"
    }
   ],
   "source": [
    "data = pd.Series([5, 12, 15, 24, 32, 40, 55, 60, 72, 100])\n",
    "\n",
    "# Divide data into 4 equal-sized quantiles (quartiles)\n",
    "quantiles = pd.qcut(data, 4, labels=[\"Q1\", \"Q2\", \"Q3\", \"Q4\"])\n",
    "quantiles"
   ]
  },
  {
   "cell_type": "code",
   "execution_count": 6,
   "metadata": {},
   "outputs": [
    {
     "data": {
      "application/vnd.microsoft.datawrangler.viewer.v0+json": {
       "columns": [
        {
         "name": "index",
         "rawType": "int64",
         "type": "integer"
        },
        {
         "name": "Employee",
         "rawType": "object",
         "type": "string"
        },
        {
         "name": "Salary",
         "rawType": "int64",
         "type": "integer"
        },
        {
         "name": "Salary Category",
         "rawType": "category",
         "type": "unknown"
        }
       ],
       "conversionMethod": "pd.DataFrame",
       "ref": "97095d3f-9c69-45af-96c8-2395509fdbf2",
       "rows": [
        [
         "0",
         "Alice",
         "2500",
         "Low"
        ],
        [
         "1",
         "Bob",
         "4000",
         "Low"
        ],
        [
         "2",
         "Charlie",
         "6000",
         "Low"
        ],
        [
         "3",
         "David",
         "7500",
         "Low"
        ],
        [
         "4",
         "Eve",
         "10000",
         "Medium"
        ],
        [
         "5",
         "Frank",
         "12000",
         "Medium"
        ],
        [
         "6",
         "Grace",
         "15000",
         "Medium"
        ]
       ],
       "shape": {
        "columns": 3,
        "rows": 7
       }
      },
      "text/html": [
       "<div>\n",
       "<style scoped>\n",
       "    .dataframe tbody tr th:only-of-type {\n",
       "        vertical-align: middle;\n",
       "    }\n",
       "\n",
       "    .dataframe tbody tr th {\n",
       "        vertical-align: top;\n",
       "    }\n",
       "\n",
       "    .dataframe thead th {\n",
       "        text-align: right;\n",
       "    }\n",
       "</style>\n",
       "<table border=\"1\" class=\"dataframe\">\n",
       "  <thead>\n",
       "    <tr style=\"text-align: right;\">\n",
       "      <th></th>\n",
       "      <th>Employee</th>\n",
       "      <th>Salary</th>\n",
       "      <th>Salary Category</th>\n",
       "    </tr>\n",
       "  </thead>\n",
       "  <tbody>\n",
       "    <tr>\n",
       "      <th>0</th>\n",
       "      <td>Alice</td>\n",
       "      <td>2500</td>\n",
       "      <td>Low</td>\n",
       "    </tr>\n",
       "    <tr>\n",
       "      <th>1</th>\n",
       "      <td>Bob</td>\n",
       "      <td>4000</td>\n",
       "      <td>Low</td>\n",
       "    </tr>\n",
       "    <tr>\n",
       "      <th>2</th>\n",
       "      <td>Charlie</td>\n",
       "      <td>6000</td>\n",
       "      <td>Low</td>\n",
       "    </tr>\n",
       "    <tr>\n",
       "      <th>3</th>\n",
       "      <td>David</td>\n",
       "      <td>7500</td>\n",
       "      <td>Low</td>\n",
       "    </tr>\n",
       "    <tr>\n",
       "      <th>4</th>\n",
       "      <td>Eve</td>\n",
       "      <td>10000</td>\n",
       "      <td>Medium</td>\n",
       "    </tr>\n",
       "    <tr>\n",
       "      <th>5</th>\n",
       "      <td>Frank</td>\n",
       "      <td>12000</td>\n",
       "      <td>Medium</td>\n",
       "    </tr>\n",
       "    <tr>\n",
       "      <th>6</th>\n",
       "      <td>Grace</td>\n",
       "      <td>15000</td>\n",
       "      <td>Medium</td>\n",
       "    </tr>\n",
       "  </tbody>\n",
       "</table>\n",
       "</div>"
      ],
      "text/plain": [
       "  Employee  Salary Salary Category\n",
       "0    Alice    2500             Low\n",
       "1      Bob    4000             Low\n",
       "2  Charlie    6000             Low\n",
       "3    David    7500             Low\n",
       "4      Eve   10000          Medium\n",
       "5    Frank   12000          Medium\n",
       "6    Grace   15000          Medium"
      ]
     },
     "execution_count": 6,
     "metadata": {},
     "output_type": "execute_result"
    }
   ],
   "source": [
    "# Sample DataFrame with employee salaries\n",
    "df = pd.DataFrame({\n",
    "    'Employee': ['Alice', 'Bob', 'Charlie', 'David', 'Eve', 'Frank', 'Grace'],\n",
    "    'Salary': [2500, 4000, 6000, 7500, 10000, 12000, 15000]\n",
    "})\n",
    "\n",
    "# Define salary bins and labels\n",
    "labels = ['Low', 'Medium']\n",
    "\n",
    "# Categorize salaries into bins\n",
    "df['Salary Category'] = pd.qcut(df['Salary'],q=2, labels=labels)\n",
    "\n",
    "# Display the DataFrame\n",
    "df\n"
   ]
  },
  {
   "cell_type": "markdown",
   "metadata": {},
   "source": [
    "5 merge"
   ]
  },
  {
   "cell_type": "markdown",
   "metadata": {},
   "source": [
    "merged_df = pd.merge(left, right, how='inner', on=None, left_on=None, right_on=None, \n",
    "                     left_index=False, right_index=False, sort=False, \n",
    "                     suffixes=('_x', '_y'), copy=True, indicator=False, validate=None)\n"
   ]
  },
  {
   "cell_type": "markdown",
   "metadata": {},
   "source": [
    "Parameters:\n",
    "\n",
    "- left, right: The DataFrames (or named Series) to merge.\n",
    "\n",
    "- how (default: 'inner'): Specifies the type of merge:\n",
    "    - 'inner' → Intersection of keys (only common values).\n",
    "    - 'left' → All keys from the left DataFrame, matching with the right (SQL left join).\n",
    "    - 'right' → All keys from the right DataFrame, matching with the left (SQL right join).\n",
    "    - 'outer' → Union of keys (all values from both DataFrames).\n",
    "    - 'cross' → Cartesian product (combines every row from left with every row from right).\n",
    "    \n",
    "- on: Column(s) to merge on (must be in both DataFrames).\n",
    "left_on, right_on: Use different column names from left and right DataFrames to merge.\n",
    "left_index, right_index: Use index as the join key instead of columns.\n",
    "suffixes=('_x', '_y'): Suffixes for duplicate column names from left and right DataFrames.\n",
    "\n",
    "- indicator: If True, adds a column _merge showing the source of each row ('left_only', 'right_only', 'both').\n",
    "\n",
    "- validate: Ensures the merge follows a specific relationship (e.g., \"1:1\", \"1:m\", \"m:1\")."
   ]
  },
  {
   "cell_type": "code",
   "execution_count": null,
   "metadata": {},
   "outputs": [],
   "source": [
    "df1 = pd.DataFrame({'ID': [1, 2, 3], 'Name': ['Alice', 'Bob', 'Charlie']})\n",
    "df2 = pd.DataFrame({'ID': [2, 3, 4], 'Score': [90, 85, 78]})"
   ]
  },
  {
   "cell_type": "code",
   "execution_count": 8,
   "metadata": {},
   "outputs": [
    {
     "data": {
      "application/vnd.microsoft.datawrangler.viewer.v0+json": {
       "columns": [
        {
         "name": "index",
         "rawType": "int64",
         "type": "integer"
        },
        {
         "name": "ID",
         "rawType": "int64",
         "type": "integer"
        },
        {
         "name": "Name",
         "rawType": "object",
         "type": "string"
        },
        {
         "name": "Score",
         "rawType": "int64",
         "type": "integer"
        }
       ],
       "conversionMethod": "pd.DataFrame",
       "ref": "3670c2c1-afed-486d-a51e-a86434d43a08",
       "rows": [
        [
         "0",
         "2",
         "Bob",
         "90"
        ],
        [
         "1",
         "3",
         "Charlie",
         "85"
        ]
       ],
       "shape": {
        "columns": 3,
        "rows": 2
       }
      },
      "text/html": [
       "<div>\n",
       "<style scoped>\n",
       "    .dataframe tbody tr th:only-of-type {\n",
       "        vertical-align: middle;\n",
       "    }\n",
       "\n",
       "    .dataframe tbody tr th {\n",
       "        vertical-align: top;\n",
       "    }\n",
       "\n",
       "    .dataframe thead th {\n",
       "        text-align: right;\n",
       "    }\n",
       "</style>\n",
       "<table border=\"1\" class=\"dataframe\">\n",
       "  <thead>\n",
       "    <tr style=\"text-align: right;\">\n",
       "      <th></th>\n",
       "      <th>ID</th>\n",
       "      <th>Name</th>\n",
       "      <th>Score</th>\n",
       "    </tr>\n",
       "  </thead>\n",
       "  <tbody>\n",
       "    <tr>\n",
       "      <th>0</th>\n",
       "      <td>2</td>\n",
       "      <td>Bob</td>\n",
       "      <td>90</td>\n",
       "    </tr>\n",
       "    <tr>\n",
       "      <th>1</th>\n",
       "      <td>3</td>\n",
       "      <td>Charlie</td>\n",
       "      <td>85</td>\n",
       "    </tr>\n",
       "  </tbody>\n",
       "</table>\n",
       "</div>"
      ],
      "text/plain": [
       "   ID     Name  Score\n",
       "0   2      Bob     90\n",
       "1   3  Charlie     85"
      ]
     },
     "execution_count": 8,
     "metadata": {},
     "output_type": "execute_result"
    }
   ],
   "source": [
    "merged = pd.merge(df1, df2, on='ID', how='inner')\n",
    "merged"
   ]
  },
  {
   "cell_type": "code",
   "execution_count": 9,
   "metadata": {},
   "outputs": [
    {
     "data": {
      "application/vnd.microsoft.datawrangler.viewer.v0+json": {
       "columns": [
        {
         "name": "index",
         "rawType": "int64",
         "type": "integer"
        },
        {
         "name": "ID",
         "rawType": "int64",
         "type": "integer"
        },
        {
         "name": "Name",
         "rawType": "object",
         "type": "string"
        },
        {
         "name": "Score",
         "rawType": "float64",
         "type": "float"
        }
       ],
       "conversionMethod": "pd.DataFrame",
       "ref": "fae0a3b0-7b7e-45eb-8d51-855d447696a4",
       "rows": [
        [
         "0",
         "1",
         "Alice",
         null
        ],
        [
         "1",
         "2",
         "Bob",
         "90.0"
        ],
        [
         "2",
         "3",
         "Charlie",
         "85.0"
        ]
       ],
       "shape": {
        "columns": 3,
        "rows": 3
       }
      },
      "text/html": [
       "<div>\n",
       "<style scoped>\n",
       "    .dataframe tbody tr th:only-of-type {\n",
       "        vertical-align: middle;\n",
       "    }\n",
       "\n",
       "    .dataframe tbody tr th {\n",
       "        vertical-align: top;\n",
       "    }\n",
       "\n",
       "    .dataframe thead th {\n",
       "        text-align: right;\n",
       "    }\n",
       "</style>\n",
       "<table border=\"1\" class=\"dataframe\">\n",
       "  <thead>\n",
       "    <tr style=\"text-align: right;\">\n",
       "      <th></th>\n",
       "      <th>ID</th>\n",
       "      <th>Name</th>\n",
       "      <th>Score</th>\n",
       "    </tr>\n",
       "  </thead>\n",
       "  <tbody>\n",
       "    <tr>\n",
       "      <th>0</th>\n",
       "      <td>1</td>\n",
       "      <td>Alice</td>\n",
       "      <td>NaN</td>\n",
       "    </tr>\n",
       "    <tr>\n",
       "      <th>1</th>\n",
       "      <td>2</td>\n",
       "      <td>Bob</td>\n",
       "      <td>90.0</td>\n",
       "    </tr>\n",
       "    <tr>\n",
       "      <th>2</th>\n",
       "      <td>3</td>\n",
       "      <td>Charlie</td>\n",
       "      <td>85.0</td>\n",
       "    </tr>\n",
       "  </tbody>\n",
       "</table>\n",
       "</div>"
      ],
      "text/plain": [
       "   ID     Name  Score\n",
       "0   1    Alice    NaN\n",
       "1   2      Bob   90.0\n",
       "2   3  Charlie   85.0"
      ]
     },
     "execution_count": 9,
     "metadata": {},
     "output_type": "execute_result"
    }
   ],
   "source": [
    "merged = pd.merge(df1, df2, on='ID', how='left')\n",
    "merged"
   ]
  },
  {
   "cell_type": "code",
   "execution_count": 11,
   "metadata": {},
   "outputs": [
    {
     "data": {
      "application/vnd.microsoft.datawrangler.viewer.v0+json": {
       "columns": [
        {
         "name": "index",
         "rawType": "int64",
         "type": "integer"
        },
        {
         "name": "ID",
         "rawType": "int64",
         "type": "integer"
        },
        {
         "name": "Name",
         "rawType": "object",
         "type": "unknown"
        },
        {
         "name": "Score",
         "rawType": "float64",
         "type": "float"
        },
        {
         "name": "_merge",
         "rawType": "category",
         "type": "unknown"
        }
       ],
       "conversionMethod": "pd.DataFrame",
       "ref": "506316b2-d504-4f3d-83db-506b6f0a54de",
       "rows": [
        [
         "0",
         "1",
         "Alice",
         null,
         "left_only"
        ],
        [
         "1",
         "2",
         "Bob",
         "90.0",
         "both"
        ],
        [
         "2",
         "3",
         "Charlie",
         "85.0",
         "both"
        ],
        [
         "3",
         "4",
         null,
         "78.0",
         "right_only"
        ]
       ],
       "shape": {
        "columns": 4,
        "rows": 4
       }
      },
      "text/html": [
       "<div>\n",
       "<style scoped>\n",
       "    .dataframe tbody tr th:only-of-type {\n",
       "        vertical-align: middle;\n",
       "    }\n",
       "\n",
       "    .dataframe tbody tr th {\n",
       "        vertical-align: top;\n",
       "    }\n",
       "\n",
       "    .dataframe thead th {\n",
       "        text-align: right;\n",
       "    }\n",
       "</style>\n",
       "<table border=\"1\" class=\"dataframe\">\n",
       "  <thead>\n",
       "    <tr style=\"text-align: right;\">\n",
       "      <th></th>\n",
       "      <th>ID</th>\n",
       "      <th>Name</th>\n",
       "      <th>Score</th>\n",
       "      <th>_merge</th>\n",
       "    </tr>\n",
       "  </thead>\n",
       "  <tbody>\n",
       "    <tr>\n",
       "      <th>0</th>\n",
       "      <td>1</td>\n",
       "      <td>Alice</td>\n",
       "      <td>NaN</td>\n",
       "      <td>left_only</td>\n",
       "    </tr>\n",
       "    <tr>\n",
       "      <th>1</th>\n",
       "      <td>2</td>\n",
       "      <td>Bob</td>\n",
       "      <td>90.0</td>\n",
       "      <td>both</td>\n",
       "    </tr>\n",
       "    <tr>\n",
       "      <th>2</th>\n",
       "      <td>3</td>\n",
       "      <td>Charlie</td>\n",
       "      <td>85.0</td>\n",
       "      <td>both</td>\n",
       "    </tr>\n",
       "    <tr>\n",
       "      <th>3</th>\n",
       "      <td>4</td>\n",
       "      <td>NaN</td>\n",
       "      <td>78.0</td>\n",
       "      <td>right_only</td>\n",
       "    </tr>\n",
       "  </tbody>\n",
       "</table>\n",
       "</div>"
      ],
      "text/plain": [
       "   ID     Name  Score      _merge\n",
       "0   1    Alice    NaN   left_only\n",
       "1   2      Bob   90.0        both\n",
       "2   3  Charlie   85.0        both\n",
       "3   4      NaN   78.0  right_only"
      ]
     },
     "execution_count": 11,
     "metadata": {},
     "output_type": "execute_result"
    }
   ],
   "source": [
    "merged = pd.merge(df1, df2, on='ID', how='outer',indicator=True)\n",
    "merged"
   ]
  },
  {
   "cell_type": "code",
   "execution_count": 17,
   "metadata": {},
   "outputs": [],
   "source": [
    "df1 = pd.DataFrame({'A_ID': [1, 2, 3], 'Name': ['Alice', 'Bob', 'Charlie']})\n",
    "df2 = pd.DataFrame({'B_ID': [2, 3, 4], 'Score': [90, 85, 78]})"
   ]
  },
  {
   "cell_type": "code",
   "execution_count": null,
   "metadata": {},
   "outputs": [
    {
     "data": {
      "application/vnd.microsoft.datawrangler.viewer.v0+json": {
       "columns": [
        {
         "name": "index",
         "rawType": "int64",
         "type": "integer"
        },
        {
         "name": "A_ID",
         "rawType": "int64",
         "type": "integer"
        },
        {
         "name": "Name",
         "rawType": "object",
         "type": "string"
        },
        {
         "name": "B_ID",
         "rawType": "int64",
         "type": "integer"
        },
        {
         "name": "Score",
         "rawType": "int64",
         "type": "integer"
        }
       ],
       "conversionMethod": "pd.DataFrame",
       "ref": "3d380c2c-b30d-44be-b58c-736588826db9",
       "rows": [
        [
         "0",
         "2",
         "Bob",
         "2",
         "90"
        ],
        [
         "1",
         "3",
         "Charlie",
         "3",
         "85"
        ]
       ],
       "shape": {
        "columns": 4,
        "rows": 2
       }
      },
      "text/html": [
       "<div>\n",
       "<style scoped>\n",
       "    .dataframe tbody tr th:only-of-type {\n",
       "        vertical-align: middle;\n",
       "    }\n",
       "\n",
       "    .dataframe tbody tr th {\n",
       "        vertical-align: top;\n",
       "    }\n",
       "\n",
       "    .dataframe thead th {\n",
       "        text-align: right;\n",
       "    }\n",
       "</style>\n",
       "<table border=\"1\" class=\"dataframe\">\n",
       "  <thead>\n",
       "    <tr style=\"text-align: right;\">\n",
       "      <th></th>\n",
       "      <th>A_ID</th>\n",
       "      <th>Name</th>\n",
       "      <th>B_ID</th>\n",
       "      <th>Score</th>\n",
       "    </tr>\n",
       "  </thead>\n",
       "  <tbody>\n",
       "    <tr>\n",
       "      <th>0</th>\n",
       "      <td>2</td>\n",
       "      <td>Bob</td>\n",
       "      <td>2</td>\n",
       "      <td>90</td>\n",
       "    </tr>\n",
       "    <tr>\n",
       "      <th>1</th>\n",
       "      <td>3</td>\n",
       "      <td>Charlie</td>\n",
       "      <td>3</td>\n",
       "      <td>85</td>\n",
       "    </tr>\n",
       "  </tbody>\n",
       "</table>\n",
       "</div>"
      ],
      "text/plain": [
       "   A_ID     Name  B_ID  Score\n",
       "0     2      Bob     2     90\n",
       "1     3  Charlie     3     85"
      ]
     },
     "execution_count": 15,
     "metadata": {},
     "output_type": "execute_result"
    }
   ],
   "source": [
    "merged = pd.merge(df1, df2, left_on='A_ID', right_on='B_ID', how='inner')\n",
    "merged"
   ]
  },
  {
   "cell_type": "code",
   "execution_count": 20,
   "metadata": {},
   "outputs": [
    {
     "data": {
      "application/vnd.microsoft.datawrangler.viewer.v0+json": {
       "columns": [
        {
         "name": "index",
         "rawType": "int64",
         "type": "integer"
        },
        {
         "name": "B_ID",
         "rawType": "int64",
         "type": "integer"
        },
        {
         "name": "Score",
         "rawType": "int64",
         "type": "integer"
        },
        {
         "name": "A_ID",
         "rawType": "int64",
         "type": "integer"
        },
        {
         "name": "Name",
         "rawType": "object",
         "type": "string"
        }
       ],
       "conversionMethod": "pd.DataFrame",
       "ref": "7140cd5d-f1a7-4606-b780-a898389a661a",
       "rows": [
        [
         "0",
         "2",
         "90",
         "2",
         "Bob"
        ],
        [
         "1",
         "3",
         "85",
         "3",
         "Charlie"
        ]
       ],
       "shape": {
        "columns": 4,
        "rows": 2
       }
      },
      "text/html": [
       "<div>\n",
       "<style scoped>\n",
       "    .dataframe tbody tr th:only-of-type {\n",
       "        vertical-align: middle;\n",
       "    }\n",
       "\n",
       "    .dataframe tbody tr th {\n",
       "        vertical-align: top;\n",
       "    }\n",
       "\n",
       "    .dataframe thead th {\n",
       "        text-align: right;\n",
       "    }\n",
       "</style>\n",
       "<table border=\"1\" class=\"dataframe\">\n",
       "  <thead>\n",
       "    <tr style=\"text-align: right;\">\n",
       "      <th></th>\n",
       "      <th>B_ID</th>\n",
       "      <th>Score</th>\n",
       "      <th>A_ID</th>\n",
       "      <th>Name</th>\n",
       "    </tr>\n",
       "  </thead>\n",
       "  <tbody>\n",
       "    <tr>\n",
       "      <th>0</th>\n",
       "      <td>2</td>\n",
       "      <td>90</td>\n",
       "      <td>2</td>\n",
       "      <td>Bob</td>\n",
       "    </tr>\n",
       "    <tr>\n",
       "      <th>1</th>\n",
       "      <td>3</td>\n",
       "      <td>85</td>\n",
       "      <td>3</td>\n",
       "      <td>Charlie</td>\n",
       "    </tr>\n",
       "  </tbody>\n",
       "</table>\n",
       "</div>"
      ],
      "text/plain": [
       "   B_ID  Score  A_ID     Name\n",
       "0     2     90     2      Bob\n",
       "1     3     85     3  Charlie"
      ]
     },
     "execution_count": 20,
     "metadata": {},
     "output_type": "execute_result"
    }
   ],
   "source": [
    "merged = pd.merge(df2,df1, left_on='B_ID', right_on='A_ID',suffixes=('_left', '_right'))\n",
    "merged"
   ]
  },
  {
   "cell_type": "markdown",
   "metadata": {},
   "source": [
    "pandas.merge_ordered is useful for merging ordered data, such as time series or datasets with chronological records. It is particularly handy when you need to align data from two sources while maintaining order and optionally filling missing values using forward fill (ffill)."
   ]
  },
  {
   "cell_type": "markdown",
   "metadata": {},
   "source": [
    "Parameter from pandas.merge-order:\n",
    "\n",
    "- left: DataFrame or named Series\n",
    "- right: DataFrame or named Series\n",
    "- on: label or list Field names to join on. Must be found in both DataFrames.\n",
    "- left_on: label or list, or array-like\n",
    "    Field names to join on in left DataFrame. Can be a vector or list of vectors of the length of the DataFrame to use a particular vector as the join key instead of columns.\n",
    "- right_on: label or list, or array-like\n",
    "    Field names to join on in right DataFrame or vector/list of vectors per left_on docs.\n",
    "- left_by: column name or list of column names\n",
    "    Group left DataFrame by group columns and merge piece by piece with right DataFrame. Must be None if either left or right are a Series.\n",
    "\n",
    "- right_by: column name or list of column names\n",
    "    Group right DataFrame by group columns and merge piece by piece with left DataFrame. Must be None if either left or right are a Series.\n",
    "- fill_method:\n",
    "{‘ffill’, None}, default None\n",
    "Interpolation method for data.\n",
    "\n",
    "- suffixes:list-like, default is (“_x”, “_y”)\n",
    "    A length-2 sequence where each element is optionally a string indicating the suffix to add to overlapping column names in left and right respectively. Pass a value of None instead of a string to indicate that the column name from left or right should be left as-is, with no suffix. At least one of the values must not be None.\n",
    "\n",
    "- how: {‘left’, ‘right’, ‘outer’, ‘inner’}, default ‘outer’\n",
    "\n",
    "    - left: use only keys from left frame (SQL: left outer join)\n",
    "\n",
    "    - right: use only keys from right frame (SQL: right outer join)\n",
    "\n",
    "    - outer: use union of keys from both frames (SQL: full outer join)\n",
    "\n",
    "    - inner: use intersection of keys from both frames (SQL: inner join).\n",
    "\n"
   ]
  },
  {
   "cell_type": "code",
   "execution_count": null,
   "metadata": {},
   "outputs": [],
   "source": [
    "df1 = pd.DataFrame({'date': ['2024-01-01', '2024-01-03'], 'value1': [10, 30]})\n",
    "df2 = pd.DataFrame({'date': ['2024-01-02', '2024-01-03'], 'value2': [20, 40]})"
   ]
  },
  {
   "cell_type": "code",
   "execution_count": 25,
   "metadata": {},
   "outputs": [
    {
     "data": {
      "application/vnd.microsoft.datawrangler.viewer.v0+json": {
       "columns": [
        {
         "name": "index",
         "rawType": "int64",
         "type": "integer"
        },
        {
         "name": "date",
         "rawType": "object",
         "type": "string"
        },
        {
         "name": "value1",
         "rawType": "float64",
         "type": "float"
        },
        {
         "name": "value2",
         "rawType": "float64",
         "type": "float"
        }
       ],
       "conversionMethod": "pd.DataFrame",
       "ref": "d6ff2492-a3b6-48b9-a4ab-cc63fa54d726",
       "rows": [
        [
         "0",
         "2024-01-01",
         "10.0",
         null
        ],
        [
         "1",
         "2024-01-02",
         null,
         "20.0"
        ],
        [
         "2",
         "2024-01-03",
         "30.0",
         "40.0"
        ]
       ],
       "shape": {
        "columns": 3,
        "rows": 3
       }
      },
      "text/html": [
       "<div>\n",
       "<style scoped>\n",
       "    .dataframe tbody tr th:only-of-type {\n",
       "        vertical-align: middle;\n",
       "    }\n",
       "\n",
       "    .dataframe tbody tr th {\n",
       "        vertical-align: top;\n",
       "    }\n",
       "\n",
       "    .dataframe thead th {\n",
       "        text-align: right;\n",
       "    }\n",
       "</style>\n",
       "<table border=\"1\" class=\"dataframe\">\n",
       "  <thead>\n",
       "    <tr style=\"text-align: right;\">\n",
       "      <th></th>\n",
       "      <th>date</th>\n",
       "      <th>value1</th>\n",
       "      <th>value2</th>\n",
       "    </tr>\n",
       "  </thead>\n",
       "  <tbody>\n",
       "    <tr>\n",
       "      <th>0</th>\n",
       "      <td>2024-01-01</td>\n",
       "      <td>10.0</td>\n",
       "      <td>NaN</td>\n",
       "    </tr>\n",
       "    <tr>\n",
       "      <th>1</th>\n",
       "      <td>2024-01-02</td>\n",
       "      <td>NaN</td>\n",
       "      <td>20.0</td>\n",
       "    </tr>\n",
       "    <tr>\n",
       "      <th>2</th>\n",
       "      <td>2024-01-03</td>\n",
       "      <td>30.0</td>\n",
       "      <td>40.0</td>\n",
       "    </tr>\n",
       "  </tbody>\n",
       "</table>\n",
       "</div>"
      ],
      "text/plain": [
       "         date  value1  value2\n",
       "0  2024-01-01    10.0     NaN\n",
       "1  2024-01-02     NaN    20.0\n",
       "2  2024-01-03    30.0    40.0"
      ]
     },
     "execution_count": 25,
     "metadata": {},
     "output_type": "execute_result"
    }
   ],
   "source": [
    "merged_df = pd.merge_ordered(df1, df2, on='date')\n",
    "merged_df"
   ]
  },
  {
   "cell_type": "code",
   "execution_count": 24,
   "metadata": {},
   "outputs": [
    {
     "data": {
      "application/vnd.microsoft.datawrangler.viewer.v0+json": {
       "columns": [
        {
         "name": "index",
         "rawType": "int64",
         "type": "integer"
        },
        {
         "name": "date",
         "rawType": "object",
         "type": "string"
        },
        {
         "name": "value1",
         "rawType": "float64",
         "type": "float"
        },
        {
         "name": "value2",
         "rawType": "float64",
         "type": "float"
        }
       ],
       "conversionMethod": "pd.DataFrame",
       "ref": "57d83528-ba60-461d-8195-faa9a713e71b",
       "rows": [
        [
         "0",
         "2024-01-01",
         "10.0",
         null
        ],
        [
         "1",
         "2024-01-02",
         null,
         "20.0"
        ],
        [
         "2",
         "2024-01-03",
         "30.0",
         "40.0"
        ]
       ],
       "shape": {
        "columns": 3,
        "rows": 3
       }
      },
      "text/html": [
       "<div>\n",
       "<style scoped>\n",
       "    .dataframe tbody tr th:only-of-type {\n",
       "        vertical-align: middle;\n",
       "    }\n",
       "\n",
       "    .dataframe tbody tr th {\n",
       "        vertical-align: top;\n",
       "    }\n",
       "\n",
       "    .dataframe thead th {\n",
       "        text-align: right;\n",
       "    }\n",
       "</style>\n",
       "<table border=\"1\" class=\"dataframe\">\n",
       "  <thead>\n",
       "    <tr style=\"text-align: right;\">\n",
       "      <th></th>\n",
       "      <th>date</th>\n",
       "      <th>value1</th>\n",
       "      <th>value2</th>\n",
       "    </tr>\n",
       "  </thead>\n",
       "  <tbody>\n",
       "    <tr>\n",
       "      <th>0</th>\n",
       "      <td>2024-01-01</td>\n",
       "      <td>10.0</td>\n",
       "      <td>NaN</td>\n",
       "    </tr>\n",
       "    <tr>\n",
       "      <th>1</th>\n",
       "      <td>2024-01-02</td>\n",
       "      <td>NaN</td>\n",
       "      <td>20.0</td>\n",
       "    </tr>\n",
       "    <tr>\n",
       "      <th>2</th>\n",
       "      <td>2024-01-03</td>\n",
       "      <td>30.0</td>\n",
       "      <td>40.0</td>\n",
       "    </tr>\n",
       "  </tbody>\n",
       "</table>\n",
       "</div>"
      ],
      "text/plain": [
       "         date  value1  value2\n",
       "0  2024-01-01    10.0     NaN\n",
       "1  2024-01-02     NaN    20.0\n",
       "2  2024-01-03    30.0    40.0"
      ]
     },
     "execution_count": 24,
     "metadata": {},
     "output_type": "execute_result"
    }
   ],
   "source": [
    "merged_df = pd.merge(df1, df2, on='date',how='outer')\n",
    "merged_df"
   ]
  },
  {
   "cell_type": "code",
   "execution_count": 27,
   "metadata": {},
   "outputs": [
    {
     "data": {
      "application/vnd.microsoft.datawrangler.viewer.v0+json": {
       "columns": [
        {
         "name": "index",
         "rawType": "int64",
         "type": "integer"
        },
        {
         "name": "date",
         "rawType": "object",
         "type": "string"
        },
        {
         "name": "value2",
         "rawType": "float64",
         "type": "float"
        },
        {
         "name": "value1",
         "rawType": "int64",
         "type": "integer"
        }
       ],
       "conversionMethod": "pd.DataFrame",
       "ref": "3863834a-8d0b-4cd0-acfb-2ea4df0f0af5",
       "rows": [
        [
         "0",
         "2024-01-01",
         null,
         "10"
        ],
        [
         "1",
         "2024-01-02",
         "20.0",
         "10"
        ],
        [
         "2",
         "2024-01-03",
         "40.0",
         "30"
        ]
       ],
       "shape": {
        "columns": 3,
        "rows": 3
       }
      },
      "text/html": [
       "<div>\n",
       "<style scoped>\n",
       "    .dataframe tbody tr th:only-of-type {\n",
       "        vertical-align: middle;\n",
       "    }\n",
       "\n",
       "    .dataframe tbody tr th {\n",
       "        vertical-align: top;\n",
       "    }\n",
       "\n",
       "    .dataframe thead th {\n",
       "        text-align: right;\n",
       "    }\n",
       "</style>\n",
       "<table border=\"1\" class=\"dataframe\">\n",
       "  <thead>\n",
       "    <tr style=\"text-align: right;\">\n",
       "      <th></th>\n",
       "      <th>date</th>\n",
       "      <th>value2</th>\n",
       "      <th>value1</th>\n",
       "    </tr>\n",
       "  </thead>\n",
       "  <tbody>\n",
       "    <tr>\n",
       "      <th>0</th>\n",
       "      <td>2024-01-01</td>\n",
       "      <td>NaN</td>\n",
       "      <td>10</td>\n",
       "    </tr>\n",
       "    <tr>\n",
       "      <th>1</th>\n",
       "      <td>2024-01-02</td>\n",
       "      <td>20.0</td>\n",
       "      <td>10</td>\n",
       "    </tr>\n",
       "    <tr>\n",
       "      <th>2</th>\n",
       "      <td>2024-01-03</td>\n",
       "      <td>40.0</td>\n",
       "      <td>30</td>\n",
       "    </tr>\n",
       "  </tbody>\n",
       "</table>\n",
       "</div>"
      ],
      "text/plain": [
       "         date  value2  value1\n",
       "0  2024-01-01     NaN      10\n",
       "1  2024-01-02    20.0      10\n",
       "2  2024-01-03    40.0      30"
      ]
     },
     "execution_count": 27,
     "metadata": {},
     "output_type": "execute_result"
    }
   ],
   "source": [
    "merged_ffill = pd.merge_ordered(df2, df1, on='date', fill_method='ffill')\n",
    "merged_ffill\n",
    "#  The fill_method='ffill' ensures missing values in value1 and value2 are forward-filled."
   ]
  },
  {
   "cell_type": "markdown",
   "metadata": {},
   "source": [
    "pandas.merge_asof: Merging by Nearest Key Distance\n",
    "\n",
    "pandas.merge_asof is used for merging two DataFrames by the nearest key rather than exact matches. This is particularly useful in time-series data, where timestamps may not perfectly align."
   ]
  },
  {
   "cell_type": "markdown",
   "metadata": {},
   "source": [
    "Parameter:\n",
    "- Sort Requirement: Both DataFrames must be sorted by the key column.\n",
    "- Nearest Match: Finds the closest match instead of requiring exact key matches.\n",
    "- Three Matching Directions:\n",
    "    - backward (default): Finds the last available match where right['on'] ≤ left['on'].\n",
    "    - forward: Finds the first available match where right['on'] ≥ left['on'].\n",
    "    - nearest: Finds the closest match in absolute distance.\n",
    "        - Tolerance Control: Restricts how far apart the keys can be matched.\n",
    "        - Exact Match Option: Can allow or disallow exact matches.\n",
    "        - Group-wise Matching: Uses by to match within groups before searching for a match."
   ]
  },
  {
   "cell_type": "code",
   "execution_count": 28,
   "metadata": {},
   "outputs": [],
   "source": [
    "left = pd.DataFrame({'time': pd.to_datetime(['2024-01-01 10:00', '2024-01-01 10:05', '2024-01-01 10:10']),\n",
    "                     'value_left': [100, 200, 300]})\n",
    "\n",
    "right = pd.DataFrame({'time': pd.to_datetime(['2024-01-01 10:02', '2024-01-01 10:06']),\n",
    "                      'value_right': [50, 60]})"
   ]
  },
  {
   "cell_type": "code",
   "execution_count": 29,
   "metadata": {},
   "outputs": [
    {
     "data": {
      "application/vnd.microsoft.datawrangler.viewer.v0+json": {
       "columns": [
        {
         "name": "index",
         "rawType": "int64",
         "type": "integer"
        },
        {
         "name": "time",
         "rawType": "datetime64[ns]",
         "type": "datetime"
        },
        {
         "name": "value_left",
         "rawType": "int64",
         "type": "integer"
        },
        {
         "name": "value_right",
         "rawType": "float64",
         "type": "float"
        }
       ],
       "conversionMethod": "pd.DataFrame",
       "ref": "7652633f-55e1-45be-93e6-96fd026b4020",
       "rows": [
        [
         "0",
         "2024-01-01 10:00:00",
         "100",
         null
        ],
        [
         "1",
         "2024-01-01 10:05:00",
         "200",
         "50.0"
        ],
        [
         "2",
         "2024-01-01 10:10:00",
         "300",
         "60.0"
        ]
       ],
       "shape": {
        "columns": 3,
        "rows": 3
       }
      },
      "text/html": [
       "<div>\n",
       "<style scoped>\n",
       "    .dataframe tbody tr th:only-of-type {\n",
       "        vertical-align: middle;\n",
       "    }\n",
       "\n",
       "    .dataframe tbody tr th {\n",
       "        vertical-align: top;\n",
       "    }\n",
       "\n",
       "    .dataframe thead th {\n",
       "        text-align: right;\n",
       "    }\n",
       "</style>\n",
       "<table border=\"1\" class=\"dataframe\">\n",
       "  <thead>\n",
       "    <tr style=\"text-align: right;\">\n",
       "      <th></th>\n",
       "      <th>time</th>\n",
       "      <th>value_left</th>\n",
       "      <th>value_right</th>\n",
       "    </tr>\n",
       "  </thead>\n",
       "  <tbody>\n",
       "    <tr>\n",
       "      <th>0</th>\n",
       "      <td>2024-01-01 10:00:00</td>\n",
       "      <td>100</td>\n",
       "      <td>NaN</td>\n",
       "    </tr>\n",
       "    <tr>\n",
       "      <th>1</th>\n",
       "      <td>2024-01-01 10:05:00</td>\n",
       "      <td>200</td>\n",
       "      <td>50.0</td>\n",
       "    </tr>\n",
       "    <tr>\n",
       "      <th>2</th>\n",
       "      <td>2024-01-01 10:10:00</td>\n",
       "      <td>300</td>\n",
       "      <td>60.0</td>\n",
       "    </tr>\n",
       "  </tbody>\n",
       "</table>\n",
       "</div>"
      ],
      "text/plain": [
       "                 time  value_left  value_right\n",
       "0 2024-01-01 10:00:00         100          NaN\n",
       "1 2024-01-01 10:05:00         200         50.0\n",
       "2 2024-01-01 10:10:00         300         60.0"
      ]
     },
     "execution_count": 29,
     "metadata": {},
     "output_type": "execute_result"
    }
   ],
   "source": [
    "# Merge with nearest previous time match (backward)\n",
    "merged = pd.merge_asof(left, right, on='time', direction='backward')\n",
    "merged"
   ]
  },
  {
   "cell_type": "code",
   "execution_count": 30,
   "metadata": {},
   "outputs": [
    {
     "data": {
      "application/vnd.microsoft.datawrangler.viewer.v0+json": {
       "columns": [
        {
         "name": "index",
         "rawType": "int64",
         "type": "integer"
        },
        {
         "name": "time",
         "rawType": "datetime64[ns]",
         "type": "datetime"
        },
        {
         "name": "value_left",
         "rawType": "int64",
         "type": "integer"
        },
        {
         "name": "value_right",
         "rawType": "float64",
         "type": "float"
        }
       ],
       "conversionMethod": "pd.DataFrame",
       "ref": "7e54aa2c-a4a9-4a93-ae62-8ac4dd18c442",
       "rows": [
        [
         "0",
         "2024-01-01 10:00:00",
         "100",
         "50.0"
        ],
        [
         "1",
         "2024-01-01 10:05:00",
         "200",
         "60.0"
        ],
        [
         "2",
         "2024-01-01 10:10:00",
         "300",
         null
        ]
       ],
       "shape": {
        "columns": 3,
        "rows": 3
       }
      },
      "text/html": [
       "<div>\n",
       "<style scoped>\n",
       "    .dataframe tbody tr th:only-of-type {\n",
       "        vertical-align: middle;\n",
       "    }\n",
       "\n",
       "    .dataframe tbody tr th {\n",
       "        vertical-align: top;\n",
       "    }\n",
       "\n",
       "    .dataframe thead th {\n",
       "        text-align: right;\n",
       "    }\n",
       "</style>\n",
       "<table border=\"1\" class=\"dataframe\">\n",
       "  <thead>\n",
       "    <tr style=\"text-align: right;\">\n",
       "      <th></th>\n",
       "      <th>time</th>\n",
       "      <th>value_left</th>\n",
       "      <th>value_right</th>\n",
       "    </tr>\n",
       "  </thead>\n",
       "  <tbody>\n",
       "    <tr>\n",
       "      <th>0</th>\n",
       "      <td>2024-01-01 10:00:00</td>\n",
       "      <td>100</td>\n",
       "      <td>50.0</td>\n",
       "    </tr>\n",
       "    <tr>\n",
       "      <th>1</th>\n",
       "      <td>2024-01-01 10:05:00</td>\n",
       "      <td>200</td>\n",
       "      <td>60.0</td>\n",
       "    </tr>\n",
       "    <tr>\n",
       "      <th>2</th>\n",
       "      <td>2024-01-01 10:10:00</td>\n",
       "      <td>300</td>\n",
       "      <td>NaN</td>\n",
       "    </tr>\n",
       "  </tbody>\n",
       "</table>\n",
       "</div>"
      ],
      "text/plain": [
       "                 time  value_left  value_right\n",
       "0 2024-01-01 10:00:00         100         50.0\n",
       "1 2024-01-01 10:05:00         200         60.0\n",
       "2 2024-01-01 10:10:00         300          NaN"
      ]
     },
     "execution_count": 30,
     "metadata": {},
     "output_type": "execute_result"
    }
   ],
   "source": [
    "# Now, merge_asof selects the next available time in right instead of the last available one.\n",
    "merged_forward = pd.merge_asof(left, right, on='time', direction='forward')\n",
    "merged_forward"
   ]
  },
  {
   "cell_type": "code",
   "execution_count": null,
   "metadata": {},
   "outputs": [],
   "source": [
    "# Now, merge_asof selects the next available time in right instead of the last available one.\n",
    "merged_tolerance = pd.merge_asof(left, right, on='time', direction='nearest', tolerance=pd.Timedelta('3min'))\n",
    "merged_tolerance"
   ]
  },
  {
   "attachments": {
    "image.png": {
     "image/png": "[encoded data removed]"
    }
   },
   "cell_type": "markdown",
   "metadata": {},
   "source": [
    "![image.png](attachment:image.png)"
   ]
  },
  {
   "cell_type": "markdown",
   "metadata": {},
   "source": [
    "7 concat"
   ]
  },
  {
   "cell_type": "markdown",
   "metadata": {},
   "source": [
    "Concatenate pandas objects along a particular axis.\n",
    "Allows optional set logic along the other axes.\n",
    "Can also add a layer of hierarchical indexing on the concatenation axis, which may be useful if the labels are the same (or overlapping) on the passed axis number."
   ]
  },
  {
   "cell_type": "markdown",
   "metadata": {},
   "source": [
    "<dl class=\"simple\">\n",
    "<dt><strong>objs</strong><span class=\"classifier\">a sequence or mapping of Series or DataFrame objects</span></dt><dd><p>If a mapping is passed, the sorted keys will be used as the <cite>keys</cite>\n",
    "argument, unless it is passed, in which case the values will be\n",
    "selected (see below). Any None objects will be dropped silently unless\n",
    "they are all None in which case a ValueError will be raised.</p>\n",
    "</dd>\n",
    "<dt><strong>axis</strong><span class=\"classifier\">{0/’index’, 1/’columns’}, default 0</span></dt><dd><p>The axis to concatenate along.</p>\n",
    "</dd>\n",
    "<dt><strong>join</strong><span class=\"classifier\">{‘inner’, ‘outer’}, default ‘outer’</span></dt><dd><p>How to handle indexes on other axis (or axes).</p>\n",
    "</dd>\n",
    "<dt><strong>ignore_index</strong><span class=\"classifier\">bool, default False</span></dt><dd><p>If True, do not use the index values along the concatenation axis. The\n",
    "resulting axis will be labeled 0, …, n - 1. This is useful if you are\n",
    "concatenating objects where the concatenation axis does not have\n",
    "meaningful indexing information. Note the index values on the other\n",
    "axes are still respected in the join.</p>\n",
    "</dd>\n",
    "<dt><strong>keys</strong><span class=\"classifier\">sequence, default None</span></dt><dd><p>If multiple levels passed, should contain tuples. Construct\n",
    "hierarchical index using the passed keys as the outermost level.</p>\n",
    "</dd>\n",
    "<dt><strong>levels</strong><span class=\"classifier\">list of sequences, default None</span></dt><dd><p>Specific levels (unique values) to use for constructing a\n",
    "MultiIndex. Otherwise they will be inferred from the keys.</p>\n",
    "</dd>\n",
    "<dt><strong>names</strong><span class=\"classifier\">list, default None</span></dt><dd><p>Names for the levels in the resulting hierarchical index.</p>\n",
    "</dd>\n",
    "<dt><strong>verify_integrity</strong><span class=\"classifier\">bool, default False</span></dt><dd><p>Check whether the new concatenated axis contains duplicates. This can\n",
    "be very expensive relative to the actual data concatenation.</p>\n",
    "</dd>\n",
    "<dt><strong>sort</strong><span class=\"classifier\">bool, default False</span></dt><dd><p>Sort non-concatenation axis if it is not already aligned. One exception to\n",
    "this is when the non-concatentation axis is a DatetimeIndex and join=’outer’\n",
    "and the axis is not already aligned. In that case, the non-concatenation\n",
    "axis is always sorted lexicographically.</p>\n",
    "</dd>\n",
    "<dt><strong>copy</strong><span class=\"classifier\">bool, default True</span></dt><dd><p>If False, do not copy data unnecessarily.</p>\n",
    "</dd>\n",
    "</dl>"
   ]
  },
  {
   "cell_type": "code",
   "execution_count": 31,
   "metadata": {},
   "outputs": [],
   "source": [
    "df1 = pd.DataFrame({'A': [1, 2], 'B': [3, 4]})\n",
    "df2 = pd.DataFrame({'A': [5, 6], 'B': [7, 8]})"
   ]
  },
  {
   "cell_type": "code",
   "execution_count": 32,
   "metadata": {},
   "outputs": [
    {
     "data": {
      "application/vnd.microsoft.datawrangler.viewer.v0+json": {
       "columns": [
        {
         "name": "index",
         "rawType": "int64",
         "type": "integer"
        },
        {
         "name": "A",
         "rawType": "int64",
         "type": "integer"
        },
        {
         "name": "B",
         "rawType": "int64",
         "type": "integer"
        }
       ],
       "conversionMethod": "pd.DataFrame",
       "ref": "63ef95a0-3125-43dc-a8fc-1753257a9499",
       "rows": [
        [
         "0",
         "1",
         "3"
        ],
        [
         "1",
         "2",
         "4"
        ],
        [
         "0",
         "5",
         "7"
        ],
        [
         "1",
         "6",
         "8"
        ]
       ],
       "shape": {
        "columns": 2,
        "rows": 4
       }
      },
      "text/html": [
       "<div>\n",
       "<style scoped>\n",
       "    .dataframe tbody tr th:only-of-type {\n",
       "        vertical-align: middle;\n",
       "    }\n",
       "\n",
       "    .dataframe tbody tr th {\n",
       "        vertical-align: top;\n",
       "    }\n",
       "\n",
       "    .dataframe thead th {\n",
       "        text-align: right;\n",
       "    }\n",
       "</style>\n",
       "<table border=\"1\" class=\"dataframe\">\n",
       "  <thead>\n",
       "    <tr style=\"text-align: right;\">\n",
       "      <th></th>\n",
       "      <th>A</th>\n",
       "      <th>B</th>\n",
       "    </tr>\n",
       "  </thead>\n",
       "  <tbody>\n",
       "    <tr>\n",
       "      <th>0</th>\n",
       "      <td>1</td>\n",
       "      <td>3</td>\n",
       "    </tr>\n",
       "    <tr>\n",
       "      <th>1</th>\n",
       "      <td>2</td>\n",
       "      <td>4</td>\n",
       "    </tr>\n",
       "    <tr>\n",
       "      <th>0</th>\n",
       "      <td>5</td>\n",
       "      <td>7</td>\n",
       "    </tr>\n",
       "    <tr>\n",
       "      <th>1</th>\n",
       "      <td>6</td>\n",
       "      <td>8</td>\n",
       "    </tr>\n",
       "  </tbody>\n",
       "</table>\n",
       "</div>"
      ],
      "text/plain": [
       "   A  B\n",
       "0  1  3\n",
       "1  2  4\n",
       "0  5  7\n",
       "1  6  8"
      ]
     },
     "execution_count": 32,
     "metadata": {},
     "output_type": "execute_result"
    }
   ],
   "source": [
    "result = pd.concat([df1, df2]) \n",
    "result"
   ]
  },
  {
   "cell_type": "code",
   "execution_count": 33,
   "metadata": {},
   "outputs": [
    {
     "data": {
      "application/vnd.microsoft.datawrangler.viewer.v0+json": {
       "columns": [
        {
         "name": "index",
         "rawType": "int64",
         "type": "integer"
        },
        {
         "name": "A",
         "rawType": "int64",
         "type": "integer"
        },
        {
         "name": "B",
         "rawType": "int64",
         "type": "integer"
        }
       ],
       "conversionMethod": "pd.DataFrame",
       "ref": "3fe3181e-6ae5-42c0-955e-c853fa275a3c",
       "rows": [
        [
         "0",
         "1",
         "3"
        ],
        [
         "1",
         "2",
         "4"
        ],
        [
         "2",
         "5",
         "7"
        ],
        [
         "3",
         "6",
         "8"
        ]
       ],
       "shape": {
        "columns": 2,
        "rows": 4
       }
      },
      "text/html": [
       "<div>\n",
       "<style scoped>\n",
       "    .dataframe tbody tr th:only-of-type {\n",
       "        vertical-align: middle;\n",
       "    }\n",
       "\n",
       "    .dataframe tbody tr th {\n",
       "        vertical-align: top;\n",
       "    }\n",
       "\n",
       "    .dataframe thead th {\n",
       "        text-align: right;\n",
       "    }\n",
       "</style>\n",
       "<table border=\"1\" class=\"dataframe\">\n",
       "  <thead>\n",
       "    <tr style=\"text-align: right;\">\n",
       "      <th></th>\n",
       "      <th>A</th>\n",
       "      <th>B</th>\n",
       "    </tr>\n",
       "  </thead>\n",
       "  <tbody>\n",
       "    <tr>\n",
       "      <th>0</th>\n",
       "      <td>1</td>\n",
       "      <td>3</td>\n",
       "    </tr>\n",
       "    <tr>\n",
       "      <th>1</th>\n",
       "      <td>2</td>\n",
       "      <td>4</td>\n",
       "    </tr>\n",
       "    <tr>\n",
       "      <th>2</th>\n",
       "      <td>5</td>\n",
       "      <td>7</td>\n",
       "    </tr>\n",
       "    <tr>\n",
       "      <th>3</th>\n",
       "      <td>6</td>\n",
       "      <td>8</td>\n",
       "    </tr>\n",
       "  </tbody>\n",
       "</table>\n",
       "</div>"
      ],
      "text/plain": [
       "   A  B\n",
       "0  1  3\n",
       "1  2  4\n",
       "2  5  7\n",
       "3  6  8"
      ]
     },
     "execution_count": 33,
     "metadata": {},
     "output_type": "execute_result"
    }
   ],
   "source": [
    "result = pd.concat([df1, df2], ignore_index=True)\n",
    "result"
   ]
  },
  {
   "cell_type": "code",
   "execution_count": 34,
   "metadata": {},
   "outputs": [
    {
     "data": {
      "application/vnd.microsoft.datawrangler.viewer.v0+json": {
       "columns": [
        {
         "name": "index",
         "rawType": "int64",
         "type": "integer"
        },
        {
         "name": "A",
         "rawType": "int64",
         "type": "integer"
        },
        {
         "name": "B",
         "rawType": "int64",
         "type": "integer"
        },
        {
         "name": "A",
         "rawType": "int64",
         "type": "integer"
        },
        {
         "name": "B",
         "rawType": "int64",
         "type": "integer"
        }
       ],
       "conversionMethod": "pd.DataFrame",
       "ref": "8f51fcfa-57d9-4a85-b280-fe9ea3fcbe56",
       "rows": [
        [
         "0",
         "1",
         "3",
         "5",
         "7"
        ],
        [
         "1",
         "2",
         "4",
         "6",
         "8"
        ]
       ],
       "shape": {
        "columns": 4,
        "rows": 2
       }
      },
      "text/html": [
       "<div>\n",
       "<style scoped>\n",
       "    .dataframe tbody tr th:only-of-type {\n",
       "        vertical-align: middle;\n",
       "    }\n",
       "\n",
       "    .dataframe tbody tr th {\n",
       "        vertical-align: top;\n",
       "    }\n",
       "\n",
       "    .dataframe thead th {\n",
       "        text-align: right;\n",
       "    }\n",
       "</style>\n",
       "<table border=\"1\" class=\"dataframe\">\n",
       "  <thead>\n",
       "    <tr style=\"text-align: right;\">\n",
       "      <th></th>\n",
       "      <th>A</th>\n",
       "      <th>B</th>\n",
       "      <th>A</th>\n",
       "      <th>B</th>\n",
       "    </tr>\n",
       "  </thead>\n",
       "  <tbody>\n",
       "    <tr>\n",
       "      <th>0</th>\n",
       "      <td>1</td>\n",
       "      <td>3</td>\n",
       "      <td>5</td>\n",
       "      <td>7</td>\n",
       "    </tr>\n",
       "    <tr>\n",
       "      <th>1</th>\n",
       "      <td>2</td>\n",
       "      <td>4</td>\n",
       "      <td>6</td>\n",
       "      <td>8</td>\n",
       "    </tr>\n",
       "  </tbody>\n",
       "</table>\n",
       "</div>"
      ],
      "text/plain": [
       "   A  B  A  B\n",
       "0  1  3  5  7\n",
       "1  2  4  6  8"
      ]
     },
     "execution_count": 34,
     "metadata": {},
     "output_type": "execute_result"
    }
   ],
   "source": [
    "result = pd.concat([df1, df2],axis=1) \n",
    "result"
   ]
  },
  {
   "cell_type": "code",
   "execution_count": 36,
   "metadata": {},
   "outputs": [
    {
     "data": {
      "application/vnd.microsoft.datawrangler.viewer.v0+json": {
       "columns": [
        {
         "name": "index",
         "rawType": "int64",
         "type": "integer"
        },
        {
         "name": "A",
         "rawType": "int64",
         "type": "integer"
        },
        {
         "name": "B",
         "rawType": "int64",
         "type": "integer"
        }
       ],
       "conversionMethod": "pd.DataFrame",
       "ref": "16fa6511-e8c3-4147-94c0-6ae640c7f38c",
       "rows": [
        [
         "0",
         "1",
         "3"
        ],
        [
         "1",
         "2",
         "4"
        ],
        [
         "0",
         "5",
         "7"
        ],
        [
         "1",
         "6",
         "8"
        ]
       ],
       "shape": {
        "columns": 2,
        "rows": 4
       }
      },
      "text/html": [
       "<div>\n",
       "<style scoped>\n",
       "    .dataframe tbody tr th:only-of-type {\n",
       "        vertical-align: middle;\n",
       "    }\n",
       "\n",
       "    .dataframe tbody tr th {\n",
       "        vertical-align: top;\n",
       "    }\n",
       "\n",
       "    .dataframe thead th {\n",
       "        text-align: right;\n",
       "    }\n",
       "</style>\n",
       "<table border=\"1\" class=\"dataframe\">\n",
       "  <thead>\n",
       "    <tr style=\"text-align: right;\">\n",
       "      <th></th>\n",
       "      <th>A</th>\n",
       "      <th>B</th>\n",
       "    </tr>\n",
       "  </thead>\n",
       "  <tbody>\n",
       "    <tr>\n",
       "      <th>0</th>\n",
       "      <td>1</td>\n",
       "      <td>3</td>\n",
       "    </tr>\n",
       "    <tr>\n",
       "      <th>1</th>\n",
       "      <td>2</td>\n",
       "      <td>4</td>\n",
       "    </tr>\n",
       "    <tr>\n",
       "      <th>0</th>\n",
       "      <td>5</td>\n",
       "      <td>7</td>\n",
       "    </tr>\n",
       "    <tr>\n",
       "      <th>1</th>\n",
       "      <td>6</td>\n",
       "      <td>8</td>\n",
       "    </tr>\n",
       "  </tbody>\n",
       "</table>\n",
       "</div>"
      ],
      "text/plain": [
       "   A  B\n",
       "0  1  3\n",
       "1  2  4\n",
       "0  5  7\n",
       "1  6  8"
      ]
     },
     "execution_count": 36,
     "metadata": {},
     "output_type": "execute_result"
    }
   ],
   "source": [
    "result = pd.concat([df1, df2],join=\"outer\") \n",
    "result"
   ]
  },
  {
   "cell_type": "markdown",
   "metadata": {},
   "source": [
    "8 dumies"
   ]
  },
  {
   "cell_type": "markdown",
   "metadata": {},
   "source": [
    "pandas.get_dummies: One-Hot Encoding for Categorical Data\n",
    "pandas.get_dummies converts categorical variables into dummy/indicator variables (one-hot encoding)."
   ]
  },
  {
   "cell_type": "markdown",
   "metadata": {},
   "source": [
    "\n",
    "<dt class=\"field-odd\">Parameters<span class=\"colon\">:</span></dt>\n",
    "<dd class=\"field-odd\"><dl class=\"simple\">\n",
    "<dt><strong>data</strong><span class=\"classifier\">array-like, Series, or DataFrame</span></dt><dd><p>Data of which to get dummy indicators.</p>\n",
    "</dd>\n",
    "<dt><strong>prefix</strong><span class=\"classifier\">str, list of str, or dict of str, default None</span></dt><dd><p>String to append DataFrame column names.\n",
    "Pass a list with length equal to the number of columns\n",
    "when calling get_dummies on a DataFrame. Alternatively, <cite>prefix</cite>\n",
    "can be a dictionary mapping column names to prefixes.</p>\n",
    "</dd>\n",
    "<dt><strong>prefix_sep</strong><span class=\"classifier\">str, default ‘_’</span></dt><dd><p>If appending prefix, separator/delimiter to use. Or pass a\n",
    "list or dictionary as with <cite>prefix</cite>.</p>\n",
    "</dd>\n",
    "<dt><strong>dummy_na</strong><span class=\"classifier\">bool, default False</span></dt><dd><p>Add a column to indicate NaNs, if False NaNs are ignored.</p>\n",
    "</dd>\n",
    "<dt><strong>columns</strong><span class=\"classifier\">list-like, default None</span></dt><dd><p>Column names in the DataFrame to be encoded.\n",
    "If <cite>columns</cite> is None then all the columns with\n",
    "<cite>object</cite>, <cite>string</cite>, or <cite>category</cite> dtype will be converted.</p>\n",
    "</dd>\n",
    "<dt><strong>sparse</strong><span class=\"classifier\">bool, default False</span></dt><dd><p>Whether the dummy-encoded columns should be backed by\n",
    "a <code class=\"xref py py-class docutils literal notranslate\"><span class=\"pre\">SparseArray</span></code> (True) or a regular NumPy array (False).</p>\n",
    "</dd>\n",
    "<dt><strong>drop_first</strong><span class=\"classifier\">bool, default False</span></dt><dd><p>Whether to get k-1 dummies out of k categorical levels by removing the\n",
    "first level.</p>\n",
    "</dd>\n",
    "<dt><strong>dtype</strong><span class=\"classifier\">dtype, default bool</span></dt><dd><p>Data type for new columns. Only a single dtype is allowed.</p>\n",
    "</dd>\n",
    "</dl>\n",
    "</dd>\n",
    "<dt class=\"field-even\">Returns<span class=\"colon\">:</span></dt>\n",
    "<dd class=\"field-even\"><dl class=\"simple\">\n",
    "<dt>DataFrame</dt><dd><p>Dummy-coded data. If <cite>data</cite> contains other columns than the\n",
    "dummy-coded one(s), these will be prepended, unaltered, to the result.</p>\n",
    "</dd>\n",
    "</dl>\n",
    "</dd>\n"
   ]
  },
  {
   "cell_type": "code",
   "execution_count": 38,
   "metadata": {},
   "outputs": [],
   "source": [
    "df = pd.DataFrame({'Color': ['Red', 'Blue', 'Green', 'Red']})"
   ]
  },
  {
   "cell_type": "code",
   "execution_count": 39,
   "metadata": {},
   "outputs": [
    {
     "data": {
      "application/vnd.microsoft.datawrangler.viewer.v0+json": {
       "columns": [
        {
         "name": "index",
         "rawType": "int64",
         "type": "integer"
        },
        {
         "name": "Color_Blue",
         "rawType": "bool",
         "type": "boolean"
        },
        {
         "name": "Color_Green",
         "rawType": "bool",
         "type": "boolean"
        },
        {
         "name": "Color_Red",
         "rawType": "bool",
         "type": "boolean"
        }
       ],
       "conversionMethod": "pd.DataFrame",
       "ref": "a4519060-ed77-45cb-a264-d3a0419fb156",
       "rows": [
        [
         "0",
         "False",
         "False",
         "True"
        ],
        [
         "1",
         "True",
         "False",
         "False"
        ],
        [
         "2",
         "False",
         "True",
         "False"
        ],
        [
         "3",
         "False",
         "False",
         "True"
        ]
       ],
       "shape": {
        "columns": 3,
        "rows": 4
       }
      },
      "text/html": [
       "<div>\n",
       "<style scoped>\n",
       "    .dataframe tbody tr th:only-of-type {\n",
       "        vertical-align: middle;\n",
       "    }\n",
       "\n",
       "    .dataframe tbody tr th {\n",
       "        vertical-align: top;\n",
       "    }\n",
       "\n",
       "    .dataframe thead th {\n",
       "        text-align: right;\n",
       "    }\n",
       "</style>\n",
       "<table border=\"1\" class=\"dataframe\">\n",
       "  <thead>\n",
       "    <tr style=\"text-align: right;\">\n",
       "      <th></th>\n",
       "      <th>Color_Blue</th>\n",
       "      <th>Color_Green</th>\n",
       "      <th>Color_Red</th>\n",
       "    </tr>\n",
       "  </thead>\n",
       "  <tbody>\n",
       "    <tr>\n",
       "      <th>0</th>\n",
       "      <td>False</td>\n",
       "      <td>False</td>\n",
       "      <td>True</td>\n",
       "    </tr>\n",
       "    <tr>\n",
       "      <th>1</th>\n",
       "      <td>True</td>\n",
       "      <td>False</td>\n",
       "      <td>False</td>\n",
       "    </tr>\n",
       "    <tr>\n",
       "      <th>2</th>\n",
       "      <td>False</td>\n",
       "      <td>True</td>\n",
       "      <td>False</td>\n",
       "    </tr>\n",
       "    <tr>\n",
       "      <th>3</th>\n",
       "      <td>False</td>\n",
       "      <td>False</td>\n",
       "      <td>True</td>\n",
       "    </tr>\n",
       "  </tbody>\n",
       "</table>\n",
       "</div>"
      ],
      "text/plain": [
       "   Color_Blue  Color_Green  Color_Red\n",
       "0       False        False       True\n",
       "1        True        False      False\n",
       "2       False         True      False\n",
       "3       False        False       True"
      ]
     },
     "execution_count": 39,
     "metadata": {},
     "output_type": "execute_result"
    }
   ],
   "source": [
    "encoded_df = pd.get_dummies(df)\n",
    "encoded_df"
   ]
  },
  {
   "cell_type": "code",
   "execution_count": 40,
   "metadata": {},
   "outputs": [
    {
     "data": {
      "application/vnd.microsoft.datawrangler.viewer.v0+json": {
       "columns": [
        {
         "name": "index",
         "rawType": "int64",
         "type": "integer"
        },
        {
         "name": "Category_Blue",
         "rawType": "bool",
         "type": "boolean"
        },
        {
         "name": "Category_Green",
         "rawType": "bool",
         "type": "boolean"
        },
        {
         "name": "Category_Red",
         "rawType": "bool",
         "type": "boolean"
        }
       ],
       "conversionMethod": "pd.DataFrame",
       "ref": "70f38b6f-4e6a-4329-bf4f-19036e523f58",
       "rows": [
        [
         "0",
         "False",
         "False",
         "True"
        ],
        [
         "1",
         "True",
         "False",
         "False"
        ],
        [
         "2",
         "False",
         "True",
         "False"
        ],
        [
         "3",
         "False",
         "False",
         "True"
        ]
       ],
       "shape": {
        "columns": 3,
        "rows": 4
       }
      },
      "text/html": [
       "<div>\n",
       "<style scoped>\n",
       "    .dataframe tbody tr th:only-of-type {\n",
       "        vertical-align: middle;\n",
       "    }\n",
       "\n",
       "    .dataframe tbody tr th {\n",
       "        vertical-align: top;\n",
       "    }\n",
       "\n",
       "    .dataframe thead th {\n",
       "        text-align: right;\n",
       "    }\n",
       "</style>\n",
       "<table border=\"1\" class=\"dataframe\">\n",
       "  <thead>\n",
       "    <tr style=\"text-align: right;\">\n",
       "      <th></th>\n",
       "      <th>Category_Blue</th>\n",
       "      <th>Category_Green</th>\n",
       "      <th>Category_Red</th>\n",
       "    </tr>\n",
       "  </thead>\n",
       "  <tbody>\n",
       "    <tr>\n",
       "      <th>0</th>\n",
       "      <td>False</td>\n",
       "      <td>False</td>\n",
       "      <td>True</td>\n",
       "    </tr>\n",
       "    <tr>\n",
       "      <th>1</th>\n",
       "      <td>True</td>\n",
       "      <td>False</td>\n",
       "      <td>False</td>\n",
       "    </tr>\n",
       "    <tr>\n",
       "      <th>2</th>\n",
       "      <td>False</td>\n",
       "      <td>True</td>\n",
       "      <td>False</td>\n",
       "    </tr>\n",
       "    <tr>\n",
       "      <th>3</th>\n",
       "      <td>False</td>\n",
       "      <td>False</td>\n",
       "      <td>True</td>\n",
       "    </tr>\n",
       "  </tbody>\n",
       "</table>\n",
       "</div>"
      ],
      "text/plain": [
       "   Category_Blue  Category_Green  Category_Red\n",
       "0          False           False          True\n",
       "1           True           False         False\n",
       "2          False            True         False\n",
       "3          False           False          True"
      ]
     },
     "execution_count": 40,
     "metadata": {},
     "output_type": "execute_result"
    }
   ],
   "source": [
    "encoded_df = pd.get_dummies(df, prefix='Category')\n",
    "encoded_df"
   ]
  },
  {
   "cell_type": "code",
   "execution_count": 46,
   "metadata": {},
   "outputs": [
    {
     "name": "stdout",
     "output_type": "stream",
     "text": [
      "   Color_Blue  Color_Green  Color_Red  Size_L  Size_M  Size_S\n",
      "0       False        False       True   False   False    True\n",
      "1        True        False      False   False    True   False\n",
      "2       False         True      False    True   False   False\n",
      "3       False        False       True   False    True   False\n"
     ]
    }
   ],
   "source": [
    "df = pd.DataFrame({\n",
    "    'Color': ['Red', 'Blue', 'Green', 'Red'],\n",
    "    'Size': ['S', 'M', 'L', 'M']\n",
    "})\n",
    "\n",
    "encoded_df = pd.get_dummies(df)\n",
    "print(encoded_df)"
   ]
  },
  {
   "cell_type": "code",
   "execution_count": 44,
   "metadata": {},
   "outputs": [
    {
     "name": "stdout",
     "output_type": "stream",
     "text": [
      "   Color_Blue  Color_Green  Color_Red  Color_nan\n",
      "0       False        False       True      False\n",
      "1        True        False      False      False\n",
      "2       False        False      False       True\n",
      "3       False         True      False      False\n"
     ]
    }
   ],
   "source": [
    "df = pd.DataFrame({'Color': ['Red', 'Blue', None, 'Green']})\n",
    "encoded_df = pd.get_dummies(df, dummy_na=True)\n",
    "print(encoded_df)\n"
   ]
  },
  {
   "cell_type": "code",
   "execution_count": 54,
   "metadata": {},
   "outputs": [
    {
     "name": "stdout",
     "output_type": "stream",
     "text": [
      "  Size  Color_Blue  Color_Green  Color_Red\n",
      "0    S       False        False       True\n",
      "1    M        True        False      False\n",
      "2    L       False         True      False\n",
      "3    M       False        False       True\n"
     ]
    }
   ],
   "source": [
    "df = pd.DataFrame({\n",
    "    'Color': ['Red', 'Blue', 'Green', 'Red'],\n",
    "    'Size': ['S', 'M', 'L', 'M']\n",
    "})\n",
    "\n",
    "encoded_df = pd.get_dummies(df, columns=['Color'])\n",
    "print(encoded_df)"
   ]
  },
  {
   "cell_type": "code",
   "execution_count": 56,
   "metadata": {},
   "outputs": [
    {
     "data": {
      "text/plain": [
       "0    False\n",
       "1     True\n",
       "2    False\n",
       "3    False\n",
       "Name: Color_Blue, dtype: bool"
      ]
     },
     "execution_count": 56,
     "metadata": {},
     "output_type": "execute_result"
    }
   ],
   "source": [
    "encoded_df[\"Color_Blue\"]"
   ]
  },
  {
   "cell_type": "markdown",
   "metadata": {},
   "source": [
    "9 unique"
   ]
  },
  {
   "cell_type": "markdown",
   "metadata": {},
   "source": [
    "pandas.unique() is a function in pandas that returns the unique values from a 1D array-like object, such as a Series or a NumPy array. It preserves the order of first appearance and does not sort the values."
   ]
  },
  {
   "cell_type": "markdown",
   "metadata": {},
   "source": [
    "<li data-start=\"2124\" data-end=\"2196\"><strong data-start=\"2127\" data-end=\"2158\"><code data-start=\"2129\" data-end=\"2146\">pandas.unique()</code> is faster</strong> than <code data-start=\"2164\" data-end=\"2180\">numpy.unique()</code> for large data.</li><li data-start=\"2197\" data-end=\"2236\"><strong data-start=\"2200\" data-end=\"2219\">Preserves order</strong> (does not sort).</li><li data-start=\"2237\" data-end=\"2374\">Works with:<ul data-start=\"2255\" data-end=\"2374\"><li data-start=\"2255\" data-end=\"2262\">Lists</li><li data-start=\"2266\" data-end=\"2280\">NumPy arrays</li><li data-start=\"2284\" data-end=\"2299\">Pandas Series</li><li data-start=\"2303\" data-end=\"2317\">Pandas Index</li><li data-start=\"2321\" data-end=\"2339\">Categorical data</li><li data-start=\"2343\" data-end=\"2352\">Strings</li><li data-start=\"2356\" data-end=\"2374\">Mixed data types</li></ul></li><li data-start=\"2375\" data-end=\"2410\"><strong data-start=\"2378\" data-end=\"2409\">Includes NaN or None values</strong>.</li><li data-start=\"2411\" data-end=\"2573\"><strong data-start=\"2414\" data-end=\"2456\">Returns different types based on input</strong>:<ul data-start=\"2461\" data-end=\"2573\"><li data-start=\"2461\" data-end=\"2488\"><strong data-start=\"2463\" data-end=\"2478\">NumPy array</strong> (default)</li><li data-start=\"2492\" data-end=\"2526\"><strong data-start=\"2494\" data-end=\"2503\">Index</strong> (if input is an Index)</li><li data-start=\"2530\" data-end=\"2573\"><strong data-start=\"2532\" data-end=\"2547\">Categorical</strong> (if input is Categorical)</li></ul></li>"
   ]
  },
  {
   "cell_type": "code",
   "execution_count": null,
   "metadata": {},
   "outputs": [
    {
     "name": "stderr",
     "output_type": "stream",
     "text": [
      "C:\\Users\\Mohamed Yasser\\AppData\\Local\\Temp\\ipykernel_10208\\4205893422.py:2: FutureWarning: unique with argument that is not not a Series, Index, ExtensionArray, or np.ndarray is deprecated and will raise in a future version.\n",
      "  unique_values = pd.unique(values)\n"
     ]
    },
    {
     "data": {
      "text/plain": [
       "array([1, 2, 3, 4, 5])"
      ]
     },
     "execution_count": 2,
     "metadata": {},
     "output_type": "execute_result"
    }
   ],
   "source": [
    "values = [1, 2, 2, 3, 4, 4, 5]\n",
    "\n",
    "unique_values = pd.unique(values)\n",
    "unique_values"
   ]
  },
  {
   "cell_type": "code",
   "execution_count": null,
   "metadata": {},
   "outputs": [
    {
     "name": "stderr",
     "output_type": "stream",
     "text": [
      "C:\\Users\\Mohamed Yasser\\AppData\\Local\\Temp\\ipykernel_10208\\2620093118.py:2: FutureWarning: unique with argument that is not not a Series, Index, ExtensionArray, or np.ndarray is deprecated and will raise in a future version.\n",
      "  unique_values = pd.unique(values)\n"
     ]
    },
    {
     "data": {
      "text/plain": [
       "array([1, 2, 3, 4, None, 5], dtype=object)"
      ]
     },
     "execution_count": 3,
     "metadata": {},
     "output_type": "execute_result"
    }
   ],
   "source": [
    "values = [1, 2, 2, 3, 4,None, 4, 5]\n",
    "\n",
    "unique_values = pd.unique(values)\n",
    "unique_values"
   ]
  },
  {
   "cell_type": "markdown",
   "metadata": {},
   "source": [
    "10 lreshap"
   ]
  },
  {
   "cell_type": "markdown",
   "metadata": {},
   "source": [
    "The pandas.lreshape() function is used to reshape wide-format data into a long format, acting as a generalized inverse of DataFrame.pivot(). It allows multiple columns to be melted into a new column based on group mappings."
   ]
  },
  {
   "cell_type": "markdown",
   "metadata": {},
   "source": [
    "<ol data-start=\"371\" data-end=\"760\"><li data-start=\"371\" data-end=\"451\"><p data-start=\"374\" data-end=\"401\"><strong data-start=\"374\" data-end=\"384\"><code data-start=\"376\" data-end=\"382\">data</code></strong> (<em data-start=\"386\" data-end=\"397\">DataFrame</em>):</p><ul data-start=\"405\" data-end=\"451\"><li data-start=\"405\" data-end=\"448\">The <strong data-start=\"411\" data-end=\"436\">wide-format DataFrame</strong> to reshape.</li></ul></li><li data-start=\"452\" data-end=\"617\"><p data-start=\"455\" data-end=\"479\"><strong data-start=\"455\" data-end=\"467\"><code data-start=\"457\" data-end=\"465\">groups</code></strong> (<em data-start=\"469\" data-end=\"475\">dict</em>):</p><ul data-start=\"483\" data-end=\"617\"><li data-start=\"483\" data-end=\"539\">A dictionary <code data-start=\"498\" data-end=\"538\">{new_column_name: list_of_old_columns}</code>.</li><li data-start=\"543\" data-end=\"617\">Specifies how to <strong data-start=\"562\" data-end=\"570\">melt</strong> multiple old columns into a single new column.</li></ul></li><li data-start=\"619\" data-end=\"760\"><p data-start=\"622\" data-end=\"662\"><strong data-start=\"622\" data-end=\"634\"><code data-start=\"624\" data-end=\"632\">dropna</code></strong> (<em data-start=\"636\" data-end=\"658\">bool, default <code data-start=\"651\" data-end=\"657\">True</code></em>):</p><ul data-start=\"666\" data-end=\"760\"><li data-start=\"666\" data-end=\"721\">If <code data-start=\"671\" data-end=\"677\">True</code>, <strong data-start=\"679\" data-end=\"688\">drops</strong> rows where all values are <code data-start=\"715\" data-end=\"720\">NaN</code>.</li><li data-start=\"725\" data-end=\"760\">If <code data-start=\"730\" data-end=\"737\">False</code>, <strong data-start=\"739\" data-end=\"759\">keeps NaN values</strong>.</li></ul></li></ol>"
   ]
  },
  {
   "cell_type": "code",
   "execution_count": 5,
   "metadata": {},
   "outputs": [],
   "source": [
    "# Wide-format DataFrame\n",
    "df = pd.DataFrame({\n",
    "    'Math_Alice': [90, 85, 80],\n",
    "    'Science_Alice': [88, 92, 85],\n",
    "    'Math_Bob': [75, 78, 82],\n",
    "    'Science_Bob': [80, 85, 87]\n",
    "})\n",
    "\n",
    "# Grouping columns into new long format\n",
    "groups = {\n",
    "    'Math': ['Math_Alice', 'Math_Bob'],\n",
    "    'Science': ['Science_Alice', 'Science_Bob']\n",
    "}"
   ]
  },
  {
   "cell_type": "code",
   "execution_count": 6,
   "metadata": {},
   "outputs": [
    {
     "data": {
      "application/vnd.microsoft.datawrangler.viewer.v0+json": {
       "columns": [
        {
         "name": "index",
         "rawType": "int64",
         "type": "integer"
        },
        {
         "name": "Math_Alice",
         "rawType": "int64",
         "type": "integer"
        },
        {
         "name": "Science_Alice",
         "rawType": "int64",
         "type": "integer"
        },
        {
         "name": "Math_Bob",
         "rawType": "int64",
         "type": "integer"
        },
        {
         "name": "Science_Bob",
         "rawType": "int64",
         "type": "integer"
        }
       ],
       "conversionMethod": "pd.DataFrame",
       "ref": "21b82769-6ac3-4fcb-be9c-86d3f4c80397",
       "rows": [
        [
         "0",
         "90",
         "88",
         "75",
         "80"
        ],
        [
         "1",
         "85",
         "92",
         "78",
         "85"
        ],
        [
         "2",
         "80",
         "85",
         "82",
         "87"
        ]
       ],
       "shape": {
        "columns": 4,
        "rows": 3
       }
      },
      "text/html": [
       "<div>\n",
       "<style scoped>\n",
       "    .dataframe tbody tr th:only-of-type {\n",
       "        vertical-align: middle;\n",
       "    }\n",
       "\n",
       "    .dataframe tbody tr th {\n",
       "        vertical-align: top;\n",
       "    }\n",
       "\n",
       "    .dataframe thead th {\n",
       "        text-align: right;\n",
       "    }\n",
       "</style>\n",
       "<table border=\"1\" class=\"dataframe\">\n",
       "  <thead>\n",
       "    <tr style=\"text-align: right;\">\n",
       "      <th></th>\n",
       "      <th>Math_Alice</th>\n",
       "      <th>Science_Alice</th>\n",
       "      <th>Math_Bob</th>\n",
       "      <th>Science_Bob</th>\n",
       "    </tr>\n",
       "  </thead>\n",
       "  <tbody>\n",
       "    <tr>\n",
       "      <th>0</th>\n",
       "      <td>90</td>\n",
       "      <td>88</td>\n",
       "      <td>75</td>\n",
       "      <td>80</td>\n",
       "    </tr>\n",
       "    <tr>\n",
       "      <th>1</th>\n",
       "      <td>85</td>\n",
       "      <td>92</td>\n",
       "      <td>78</td>\n",
       "      <td>85</td>\n",
       "    </tr>\n",
       "    <tr>\n",
       "      <th>2</th>\n",
       "      <td>80</td>\n",
       "      <td>85</td>\n",
       "      <td>82</td>\n",
       "      <td>87</td>\n",
       "    </tr>\n",
       "  </tbody>\n",
       "</table>\n",
       "</div>"
      ],
      "text/plain": [
       "   Math_Alice  Science_Alice  Math_Bob  Science_Bob\n",
       "0          90             88        75           80\n",
       "1          85             92        78           85\n",
       "2          80             85        82           87"
      ]
     },
     "execution_count": 6,
     "metadata": {},
     "output_type": "execute_result"
    }
   ],
   "source": [
    "df.head()"
   ]
  },
  {
   "cell_type": "code",
   "execution_count": 7,
   "metadata": {},
   "outputs": [
    {
     "data": {
      "application/vnd.microsoft.datawrangler.viewer.v0+json": {
       "columns": [
        {
         "name": "index",
         "rawType": "int64",
         "type": "integer"
        },
        {
         "name": "Math",
         "rawType": "int64",
         "type": "integer"
        },
        {
         "name": "Science",
         "rawType": "int64",
         "type": "integer"
        }
       ],
       "conversionMethod": "pd.DataFrame",
       "ref": "53c7cf14-2df5-4415-80b5-4b04cf51b3a3",
       "rows": [
        [
         "0",
         "90",
         "88"
        ],
        [
         "1",
         "85",
         "92"
        ],
        [
         "2",
         "80",
         "85"
        ],
        [
         "3",
         "75",
         "80"
        ],
        [
         "4",
         "78",
         "85"
        ],
        [
         "5",
         "82",
         "87"
        ]
       ],
       "shape": {
        "columns": 2,
        "rows": 6
       }
      },
      "text/html": [
       "<div>\n",
       "<style scoped>\n",
       "    .dataframe tbody tr th:only-of-type {\n",
       "        vertical-align: middle;\n",
       "    }\n",
       "\n",
       "    .dataframe tbody tr th {\n",
       "        vertical-align: top;\n",
       "    }\n",
       "\n",
       "    .dataframe thead th {\n",
       "        text-align: right;\n",
       "    }\n",
       "</style>\n",
       "<table border=\"1\" class=\"dataframe\">\n",
       "  <thead>\n",
       "    <tr style=\"text-align: right;\">\n",
       "      <th></th>\n",
       "      <th>Math</th>\n",
       "      <th>Science</th>\n",
       "    </tr>\n",
       "  </thead>\n",
       "  <tbody>\n",
       "    <tr>\n",
       "      <th>0</th>\n",
       "      <td>90</td>\n",
       "      <td>88</td>\n",
       "    </tr>\n",
       "    <tr>\n",
       "      <th>1</th>\n",
       "      <td>85</td>\n",
       "      <td>92</td>\n",
       "    </tr>\n",
       "    <tr>\n",
       "      <th>2</th>\n",
       "      <td>80</td>\n",
       "      <td>85</td>\n",
       "    </tr>\n",
       "    <tr>\n",
       "      <th>3</th>\n",
       "      <td>75</td>\n",
       "      <td>80</td>\n",
       "    </tr>\n",
       "    <tr>\n",
       "      <th>4</th>\n",
       "      <td>78</td>\n",
       "      <td>85</td>\n",
       "    </tr>\n",
       "    <tr>\n",
       "      <th>5</th>\n",
       "      <td>82</td>\n",
       "      <td>87</td>\n",
       "    </tr>\n",
       "  </tbody>\n",
       "</table>\n",
       "</div>"
      ],
      "text/plain": [
       "   Math  Science\n",
       "0    90       88\n",
       "1    85       92\n",
       "2    80       85\n",
       "3    75       80\n",
       "4    78       85\n",
       "5    82       87"
      ]
     },
     "execution_count": 7,
     "metadata": {},
     "output_type": "execute_result"
    }
   ],
   "source": [
    "# Reshape data\n",
    "long_df = pd.lreshape(df, groups)\n",
    "long_df"
   ]
  },
  {
   "cell_type": "code",
   "execution_count": 9,
   "metadata": {},
   "outputs": [
    {
     "data": {
      "application/vnd.microsoft.datawrangler.viewer.v0+json": {
       "columns": [
        {
         "name": "index",
         "rawType": "int64",
         "type": "integer"
        },
        {
         "name": "Math",
         "rawType": "float64",
         "type": "float"
        },
        {
         "name": "Science",
         "rawType": "float64",
         "type": "float"
        }
       ],
       "conversionMethod": "pd.DataFrame",
       "ref": "9082051b-3333-403a-8ce5-afc0477059b0",
       "rows": [
        [
         "0",
         "90.0",
         "88.0"
        ],
        [
         "1",
         null,
         "92.0"
        ],
        [
         "2",
         "80.0",
         null
        ],
        [
         "3",
         "75.0",
         null
        ],
        [
         "4",
         "78.0",
         "85.0"
        ],
        [
         "5",
         "82.0",
         "87.0"
        ]
       ],
       "shape": {
        "columns": 2,
        "rows": 6
       }
      },
      "text/html": [
       "<div>\n",
       "<style scoped>\n",
       "    .dataframe tbody tr th:only-of-type {\n",
       "        vertical-align: middle;\n",
       "    }\n",
       "\n",
       "    .dataframe tbody tr th {\n",
       "        vertical-align: top;\n",
       "    }\n",
       "\n",
       "    .dataframe thead th {\n",
       "        text-align: right;\n",
       "    }\n",
       "</style>\n",
       "<table border=\"1\" class=\"dataframe\">\n",
       "  <thead>\n",
       "    <tr style=\"text-align: right;\">\n",
       "      <th></th>\n",
       "      <th>Math</th>\n",
       "      <th>Science</th>\n",
       "    </tr>\n",
       "  </thead>\n",
       "  <tbody>\n",
       "    <tr>\n",
       "      <th>0</th>\n",
       "      <td>90.0</td>\n",
       "      <td>88.0</td>\n",
       "    </tr>\n",
       "    <tr>\n",
       "      <th>1</th>\n",
       "      <td>NaN</td>\n",
       "      <td>92.0</td>\n",
       "    </tr>\n",
       "    <tr>\n",
       "      <th>2</th>\n",
       "      <td>80.0</td>\n",
       "      <td>NaN</td>\n",
       "    </tr>\n",
       "    <tr>\n",
       "      <th>3</th>\n",
       "      <td>75.0</td>\n",
       "      <td>NaN</td>\n",
       "    </tr>\n",
       "    <tr>\n",
       "      <th>4</th>\n",
       "      <td>78.0</td>\n",
       "      <td>85.0</td>\n",
       "    </tr>\n",
       "    <tr>\n",
       "      <th>5</th>\n",
       "      <td>82.0</td>\n",
       "      <td>87.0</td>\n",
       "    </tr>\n",
       "  </tbody>\n",
       "</table>\n",
       "</div>"
      ],
      "text/plain": [
       "   Math  Science\n",
       "0  90.0     88.0\n",
       "1   NaN     92.0\n",
       "2  80.0      NaN\n",
       "3  75.0      NaN\n",
       "4  78.0     85.0\n",
       "5  82.0     87.0"
      ]
     },
     "execution_count": 9,
     "metadata": {},
     "output_type": "execute_result"
    }
   ],
   "source": [
    "df = pd.DataFrame({\n",
    "    'Math_Alice': [90, None, 80],\n",
    "    'Science_Alice': [88, 92, None],\n",
    "    'Math_Bob': [75, 78, 82],\n",
    "    'Science_Bob': [None, 85, 87]\n",
    "})\n",
    "\n",
    "long_df = pd.lreshape(df, groups, dropna=False)\n",
    "long_df"
   ]
  },
  {
   "cell_type": "code",
   "execution_count": 10,
   "metadata": {},
   "outputs": [
    {
     "data": {
      "application/vnd.microsoft.datawrangler.viewer.v0+json": {
       "columns": [
        {
         "name": "index",
         "rawType": "int64",
         "type": "integer"
        },
        {
         "name": "Sales",
         "rawType": "int64",
         "type": "integer"
        },
        {
         "name": "Profit",
         "rawType": "int64",
         "type": "integer"
        }
       ],
       "conversionMethod": "pd.DataFrame",
       "ref": "cc3806f2-0f75-48e6-9c74-ccaae4793d53",
       "rows": [
        [
         "0",
         "1000",
         "200"
        ],
        [
         "1",
         "1500",
         "250"
        ],
        [
         "2",
         "1300",
         "230"
        ],
        [
         "3",
         "1100",
         "220"
        ],
        [
         "4",
         "1600",
         "260"
        ],
        [
         "5",
         "1400",
         "240"
        ]
       ],
       "shape": {
        "columns": 2,
        "rows": 6
       }
      },
      "text/html": [
       "<div>\n",
       "<style scoped>\n",
       "    .dataframe tbody tr th:only-of-type {\n",
       "        vertical-align: middle;\n",
       "    }\n",
       "\n",
       "    .dataframe tbody tr th {\n",
       "        vertical-align: top;\n",
       "    }\n",
       "\n",
       "    .dataframe thead th {\n",
       "        text-align: right;\n",
       "    }\n",
       "</style>\n",
       "<table border=\"1\" class=\"dataframe\">\n",
       "  <thead>\n",
       "    <tr style=\"text-align: right;\">\n",
       "      <th></th>\n",
       "      <th>Sales</th>\n",
       "      <th>Profit</th>\n",
       "    </tr>\n",
       "  </thead>\n",
       "  <tbody>\n",
       "    <tr>\n",
       "      <th>0</th>\n",
       "      <td>1000</td>\n",
       "      <td>200</td>\n",
       "    </tr>\n",
       "    <tr>\n",
       "      <th>1</th>\n",
       "      <td>1500</td>\n",
       "      <td>250</td>\n",
       "    </tr>\n",
       "    <tr>\n",
       "      <th>2</th>\n",
       "      <td>1300</td>\n",
       "      <td>230</td>\n",
       "    </tr>\n",
       "    <tr>\n",
       "      <th>3</th>\n",
       "      <td>1100</td>\n",
       "      <td>220</td>\n",
       "    </tr>\n",
       "    <tr>\n",
       "      <th>4</th>\n",
       "      <td>1600</td>\n",
       "      <td>260</td>\n",
       "    </tr>\n",
       "    <tr>\n",
       "      <th>5</th>\n",
       "      <td>1400</td>\n",
       "      <td>240</td>\n",
       "    </tr>\n",
       "  </tbody>\n",
       "</table>\n",
       "</div>"
      ],
      "text/plain": [
       "   Sales  Profit\n",
       "0   1000     200\n",
       "1   1500     250\n",
       "2   1300     230\n",
       "3   1100     220\n",
       "4   1600     260\n",
       "5   1400     240"
      ]
     },
     "execution_count": 10,
     "metadata": {},
     "output_type": "execute_result"
    }
   ],
   "source": [
    "df = pd.DataFrame({\n",
    "    'Jan_Sales': [1000, 1500, 1300],\n",
    "    'Feb_Sales': [1100, 1600, 1400],\n",
    "    'Jan_Profit': [200, 250, 230],\n",
    "    'Feb_Profit': [220, 260, 240]\n",
    "})\n",
    "\n",
    "groups = {\n",
    "    'Sales': ['Jan_Sales', 'Feb_Sales'],\n",
    "    'Profit': ['Jan_Profit', 'Feb_Profit']\n",
    "}\n",
    "\n",
    "long_df = pd.lreshape(df, groups)\n",
    "long_df"
   ]
  },
  {
   "attachments": {
    "image.png": {
     "image/png": "[encoded data removed]"
    }
   },
   "cell_type": "markdown",
   "metadata": {},
   "source": [
    "![image.png](attachment:image.png)"
   ]
  },
  {
   "cell_type": "markdown",
   "metadata": {},
   "source": [
    "11 isna"
   ]
  },
  {
   "cell_type": "markdown",
   "metadata": {},
   "source": [
    "The pandas.isna() function is used to detect missing values (NaN, None, NaT) in an array-like object. It returns a boolean scalar or an array-like object indicating which values are missing."
   ]
  },
  {
   "cell_type": "markdown",
   "metadata": {},
   "source": [
    "🔹 Parameters\n",
    "- obj (scalar or array-like):\n",
    "- The object (scalar, list, Series, DataFrame, etc.) to check for missing values."
   ]
  },
  {
   "cell_type": "markdown",
   "metadata": {},
   "source": [
    "🔹 Returns\n",
    "- For a scalar input → returns a single bool value.\n",
    "- For an array-like input → returns an array (Series, DataFrame, NumPy array) of bool values."
   ]
  },
  {
   "cell_type": "code",
   "execution_count": null,
   "metadata": {},
   "outputs": [
    {
     "name": "stdout",
     "output_type": "stream",
     "text": [
      "True\n",
      "True\n",
      "False\n",
      "False\n"
     ]
    }
   ],
   "source": [
    "print(pd.isna(None))  # Output: True\n",
    "print(pd.isna(np.nan))  # Output: True\n",
    "print(pd.isna(5))  # Output: False\n",
    "print(pd.isna(\"Hello\"))  # Output: False"
   ]
  },
  {
   "cell_type": "code",
   "execution_count": 12,
   "metadata": {},
   "outputs": [
    {
     "name": "stdout",
     "output_type": "stream",
     "text": [
      "[False  True False  True False]\n"
     ]
    }
   ],
   "source": [
    "arr = [1, np.nan, 3, None, 5]\n",
    "print(pd.isna(arr))"
   ]
  },
  {
   "cell_type": "code",
   "execution_count": 13,
   "metadata": {},
   "outputs": [
    {
     "name": "stdout",
     "output_type": "stream",
     "text": [
      "0    False\n",
      "1     True\n",
      "2    False\n",
      "3     True\n",
      "4    False\n",
      "dtype: bool\n"
     ]
    }
   ],
   "source": [
    "s = pd.Series([10, np.nan, 30, None, 50])\n",
    "print(s.isna())  # or pd.isna(s)"
   ]
  },
  {
   "cell_type": "code",
   "execution_count": 14,
   "metadata": {},
   "outputs": [
    {
     "name": "stdout",
     "output_type": "stream",
     "text": [
      "       A      B      C\n",
      "0  False   True  False\n",
      "1   True  False  False\n",
      "2  False  False   True\n"
     ]
    }
   ],
   "source": [
    "df = pd.DataFrame({\n",
    "    \"A\": [1, np.nan, 3],\n",
    "    \"B\": [None, 5, 6],\n",
    "    \"C\": [\"X\", \"Y\", np.nan]\n",
    "})\n",
    "\n",
    "print(df.isna())  # or pd.isna(df)"
   ]
  },
  {
   "cell_type": "code",
   "execution_count": 15,
   "metadata": {},
   "outputs": [
    {
     "name": "stdout",
     "output_type": "stream",
     "text": [
      "A    1\n",
      "B    1\n",
      "C    1\n",
      "dtype: int64\n"
     ]
    }
   ],
   "source": [
    "print(df.isna().sum())"
   ]
  },
  {
   "cell_type": "code",
   "execution_count": 19,
   "metadata": {},
   "outputs": [
    {
     "data": {
      "text/plain": [
       "0    False\n",
       "1     True\n",
       "2    False\n",
       "Name: A, dtype: bool"
      ]
     },
     "execution_count": 19,
     "metadata": {},
     "output_type": "execute_result"
    }
   ],
   "source": [
    "df[\"A\"].isna()"
   ]
  },
  {
   "cell_type": "code",
   "execution_count": 22,
   "metadata": {},
   "outputs": [
    {
     "data": {
      "text/plain": [
       "0     True\n",
       "1    False\n",
       "2     True\n",
       "Name: A, dtype: bool"
      ]
     },
     "execution_count": 22,
     "metadata": {},
     "output_type": "execute_result"
    }
   ],
   "source": [
    "from pandas import notna\n",
    "df[\"A\"].notna()"
   ]
  },
  {
   "cell_type": "markdown",
   "metadata": {},
   "source": [
    "12 isNull"
   ]
  },
  {
   "cell_type": "markdown",
   "metadata": {},
   "source": [
    "The pandas.isnull() function detects missing (null) values in scalars, lists, Series, and DataFrames. It returns True for NaN (Not a Number), None, and NaT (datetime missing values)."
   ]
  },
  {
   "cell_type": "markdown",
   "metadata": {},
   "source": [
    "🔹 Parameters\n",
    "- obj (scalar or array-like):\n",
    "    The object (scalar, list, Series, DataFrame, etc.) to check for missing values."
   ]
  },
  {
   "cell_type": "markdown",
   "metadata": {},
   "source": [
    "🔹 Returns\n",
    "- For a scalar input → returns a single bool value.\n",
    "- For an array-like input → returns an array (Series, DataFrame, NumPy array) of bool values."
   ]
  },
  {
   "cell_type": "code",
   "execution_count": 20,
   "metadata": {},
   "outputs": [
    {
     "name": "stdout",
     "output_type": "stream",
     "text": [
      "True\n",
      "True\n",
      "False\n",
      "False\n"
     ]
    }
   ],
   "source": [
    "print(pd.isnull(None))   # Output: True\n",
    "print(pd.isnull(np.nan)) # Output: True\n",
    "print(pd.isnull(5))      # Output: False\n",
    "print(pd.isnull(\"Text\")) # Output: False"
   ]
  },
  {
   "cell_type": "code",
   "execution_count": 21,
   "metadata": {},
   "outputs": [
    {
     "name": "stdout",
     "output_type": "stream",
     "text": [
      "[False  True False  True False]\n"
     ]
    }
   ],
   "source": [
    "arr = [1, np.nan, 3, None, 5]\n",
    "print(pd.isnull(arr))"
   ]
  },
  {
   "cell_type": "code",
   "execution_count": 23,
   "metadata": {},
   "outputs": [
    {
     "data": {
      "application/vnd.microsoft.datawrangler.viewer.v0+json": {
       "columns": [
        {
         "name": "index",
         "rawType": "int64",
         "type": "integer"
        },
        {
         "name": "A",
         "rawType": "bool",
         "type": "boolean"
        },
        {
         "name": "B",
         "rawType": "bool",
         "type": "boolean"
        },
        {
         "name": "C",
         "rawType": "bool",
         "type": "boolean"
        }
       ],
       "conversionMethod": "pd.DataFrame",
       "ref": "f6e08105-7325-499a-9361-10125bd933da",
       "rows": [
        [
         "0",
         "True",
         "False",
         "True"
        ],
        [
         "1",
         "False",
         "True",
         "True"
        ],
        [
         "2",
         "True",
         "True",
         "False"
        ]
       ],
       "shape": {
        "columns": 3,
        "rows": 3
       }
      },
      "text/html": [
       "<div>\n",
       "<style scoped>\n",
       "    .dataframe tbody tr th:only-of-type {\n",
       "        vertical-align: middle;\n",
       "    }\n",
       "\n",
       "    .dataframe tbody tr th {\n",
       "        vertical-align: top;\n",
       "    }\n",
       "\n",
       "    .dataframe thead th {\n",
       "        text-align: right;\n",
       "    }\n",
       "</style>\n",
       "<table border=\"1\" class=\"dataframe\">\n",
       "  <thead>\n",
       "    <tr style=\"text-align: right;\">\n",
       "      <th></th>\n",
       "      <th>A</th>\n",
       "      <th>B</th>\n",
       "      <th>C</th>\n",
       "    </tr>\n",
       "  </thead>\n",
       "  <tbody>\n",
       "    <tr>\n",
       "      <th>0</th>\n",
       "      <td>True</td>\n",
       "      <td>False</td>\n",
       "      <td>True</td>\n",
       "    </tr>\n",
       "    <tr>\n",
       "      <th>1</th>\n",
       "      <td>False</td>\n",
       "      <td>True</td>\n",
       "      <td>True</td>\n",
       "    </tr>\n",
       "    <tr>\n",
       "      <th>2</th>\n",
       "      <td>True</td>\n",
       "      <td>True</td>\n",
       "      <td>False</td>\n",
       "    </tr>\n",
       "  </tbody>\n",
       "</table>\n",
       "</div>"
      ],
      "text/plain": [
       "       A      B      C\n",
       "0   True  False   True\n",
       "1  False   True   True\n",
       "2   True   True  False"
      ]
     },
     "execution_count": 23,
     "metadata": {},
     "output_type": "execute_result"
    }
   ],
   "source": [
    "df.notnull()"
   ]
  },
  {
   "cell_type": "markdown",
   "metadata": {},
   "source": [
    "✔️ Similarities\n",
    "- Both detect missing values (NaN, None, NaT).\n",
    "- Both return the same output for scalars, lists, Series, and DataFrames.\n",
    "- Both are interchangeable in all use cases."
   ]
  },
  {
   "cell_type": "markdown",
   "metadata": {},
   "source": [
    "📌 When to Use Which?\n",
    "\n",
    "- isna(): More consistent with Pandas' naming (related to .fillna(), .dropna()).\n",
    "- isnull(): More intuitive for users familiar with the term \"null\" (used in databases)."
   ]
  },
  {
   "cell_type": "markdown",
   "metadata": {},
   "source": [
    "13 to_numeric"
   ]
  },
  {
   "cell_type": "markdown",
   "metadata": {},
   "source": [
    "The pandas.to_numeric() function converts data into a numeric type (int, float, etc.), handling errors and optionally downcasting to smaller data types."
   ]
  },
  {
   "cell_type": "markdown",
   "metadata": {},
   "source": [
    "\n",
    "<dt class=\"field-odd\">Parameters<span class=\"colon\">:</span></dt>\n",
    "<dd class=\"field-odd\"><dl>\n",
    "<dt><strong>arg</strong><span class=\"classifier\">scalar, list, tuple, 1-d array, or Series</span></dt><dd><p>Argument to be converted.</p>\n",
    "</dd>\n",
    "<dt><strong>errors</strong><span class=\"classifier\">{‘ignore’, ‘raise’, ‘coerce’}, default ‘raise’</span></dt><dd><ul class=\"simple\">\n",
    "<li><p>If ‘raise’, then invalid parsing will raise an exception.</p></li>\n",
    "<li><p>If ‘coerce’, then invalid parsing will be set as NaN.</p></li>\n",
    "<li><p>If ‘ignore’, then invalid parsing will return the input.</p></li>\n",
    "</ul>\n",
    "<div class=\"versionchanged\">\n",
    "<p><span class=\"versionmodified changed\">Changed in version 2.2.</span></p>\n",
    "</div>\n",
    "<p>“ignore” is deprecated. Catch exceptions explicitly instead.</p>\n",
    "</dd>\n",
    "<dt><strong>downcast</strong><span class=\"classifier\">str, default None</span></dt><dd><p>Can be ‘integer’, ‘signed’, ‘unsigned’, or ‘float’.\n",
    "If not None, and if the data has been successfully cast to a\n",
    "numerical dtype (or if the data was numeric to begin with),\n",
    "downcast that resulting data to the smallest numerical dtype\n",
    "possible according to the following rules:</p>\n",
    "<ul class=\"simple\">\n",
    "<li><p>‘integer’ or ‘signed’: smallest signed int dtype (min.: np.int8)</p></li>\n",
    "<li><p>‘unsigned’: smallest unsigned int dtype (min.: np.uint8)</p></li>\n",
    "<li><p>‘float’: smallest float dtype (min.: np.float32)</p></li>\n",
    "</ul>\n",
    "<p>As this behaviour is separate from the core conversion to\n",
    "numeric values, any errors raised during the downcasting\n",
    "will be surfaced regardless of the value of the ‘errors’ input.</p>\n",
    "<p>In addition, downcasting will only occur if the size\n",
    "of the resulting data’s dtype is strictly larger than\n",
    "the dtype it is to be cast to, so if none of the dtypes\n",
    "checked satisfy that specification, no downcasting will be\n",
    "performed on the data.</p>\n",
    "</dd>\n",
    "<dt><strong>dtype_backend</strong><span class=\"classifier\">{‘numpy_nullable’, ‘pyarrow’}, default ‘numpy_nullable’</span></dt><dd><p>Back-end data type applied to the resultant <a class=\"reference internal\" href=\"pandas.DataFrame.html#pandas.DataFrame\" title=\"pandas.DataFrame\"><code class=\"xref py py-class docutils literal notranslate\"><span class=\"pre\">DataFrame</span></code></a>\n",
    "(still experimental). Behaviour is as follows:</p>\n",
    "<ul class=\"simple\">\n",
    "<li><p><code class=\"docutils literal notranslate\"><span class=\"pre\">\"numpy_nullable\"</span></code>: returns nullable-dtype-backed <a class=\"reference internal\" href=\"pandas.DataFrame.html#pandas.DataFrame\" title=\"pandas.DataFrame\"><code class=\"xref py py-class docutils literal notranslate\"><span class=\"pre\">DataFrame</span></code></a>\n",
    "(default).</p></li>\n",
    "<li><p><code class=\"docutils literal notranslate\"><span class=\"pre\">\"pyarrow\"</span></code>: returns pyarrow-backed nullable <a class=\"reference internal\" href=\"pandas.ArrowDtype.html#pandas.ArrowDtype\" title=\"pandas.ArrowDtype\"><code class=\"xref py py-class docutils literal notranslate\"><span class=\"pre\">ArrowDtype</span></code></a>\n",
    "DataFrame.</p></li>\n",
    "</ul>\n",
    "<div class=\"versionadded\">\n",
    "<p><span class=\"versionmodified added\">Added in version 2.0.</span></p>\n",
    "</div>\n",
    "</dd>\n",
    "</dl>\n",
    "</dd>\n",
    "<dt class=\"field-even\">Returns<span class=\"colon\">:</span></dt>\n",
    "<dd class=\"field-even\"><dl class=\"simple\">\n",
    "<dt>ret</dt><dd><p>Numeric if parsing succeeded.\n",
    "Return type depends on input.  Series if Series, otherwise ndarray.</p>\n",
    "</dd>\n",
    "</dl>\n",
    "</dd>\n"
   ]
  },
  {
   "cell_type": "code",
   "execution_count": 24,
   "metadata": {},
   "outputs": [
    {
     "name": "stdout",
     "output_type": "stream",
     "text": [
      "0    1\n",
      "1    2\n",
      "2    3\n",
      "dtype: int64\n"
     ]
    }
   ],
   "source": [
    "s = pd.Series([\"1\", \"2\", \"3\"])\n",
    "print(pd.to_numeric(s))"
   ]
  },
  {
   "cell_type": "code",
   "execution_count": 29,
   "metadata": {},
   "outputs": [
    {
     "name": "stdout",
     "output_type": "stream",
     "text": [
      "❌ Raises ValueErro Unable to parse string \"two\" at position 1\n"
     ]
    }
   ],
   "source": [
    "try:\n",
    "    s = pd.Series([\"1\", \"two\", \"3\"])\n",
    "    pd.to_numeric(s)  \n",
    "except Exception as e:\n",
    "    print(f\"❌ Raises ValueErro {e}\")"
   ]
  },
  {
   "cell_type": "code",
   "execution_count": null,
   "metadata": {},
   "outputs": [
    {
     "name": "stdout",
     "output_type": "stream",
     "text": [
      "0    1.0\n",
      "1    NaN\n",
      "2    3.0\n",
      "dtype: float64\n"
     ]
    }
   ],
   "source": [
    "s = pd.Series([\"1\", \"two\", \"3\"])\n",
    "print(pd.to_numeric(s, errors='coerce'))"
   ]
  },
  {
   "cell_type": "code",
   "execution_count": 31,
   "metadata": {},
   "outputs": [
    {
     "name": "stdout",
     "output_type": "stream",
     "text": [
      "0      1\n",
      "1    two\n",
      "2      3\n",
      "dtype: object\n"
     ]
    },
    {
     "name": "stderr",
     "output_type": "stream",
     "text": [
      "C:\\Users\\Mohamed Yasser\\AppData\\Local\\Temp\\ipykernel_10208\\1318642463.py:2: FutureWarning: errors='ignore' is deprecated and will raise in a future version. Use to_numeric without passing `errors` and catch exceptions explicitly instead\n",
      "  print(pd.to_numeric(s, errors='ignore'))\n"
     ]
    }
   ],
   "source": [
    "s = pd.Series([\"1\", \"two\", \"3\"])\n",
    "print(pd.to_numeric(s, errors='ignore'))"
   ]
  },
  {
   "cell_type": "code",
   "execution_count": 32,
   "metadata": {},
   "outputs": [
    {
     "name": "stdout",
     "output_type": "stream",
     "text": [
      "0    1\n",
      "1    2\n",
      "2    3\n",
      "dtype: int8\n"
     ]
    }
   ],
   "source": [
    "s = pd.Series([\"1\", \"2\", \"3\"])\n",
    "print(pd.to_numeric(s, downcast=\"integer\"))"
   ]
  },
  {
   "cell_type": "code",
   "execution_count": 33,
   "metadata": {},
   "outputs": [
    {
     "name": "stdout",
     "output_type": "stream",
     "text": [
      "0    1.1\n",
      "1    2.2\n",
      "2    3.3\n",
      "dtype: float32\n"
     ]
    }
   ],
   "source": [
    "s = pd.Series([\"1.1\", \"2.2\", \"3.3\"])\n",
    "print(pd.to_numeric(s, downcast=\"float\"))"
   ]
  },
  {
   "cell_type": "code",
   "execution_count": null,
   "metadata": {},
   "outputs": [],
   "source": [
    "df = pd.DataFrame({\"A\": [\"1\", \"2\", \"3\"]})\n",
    "df[\"A\"] = pd.to_numeric(df[\"A\"], dtype_backend=\"pyarrow\")\n",
    "print(df.dtypes)"
   ]
  },
  {
   "attachments": {
    "image.png": {
     "image/png": "[encoded data removed]"
    }
   },
   "cell_type": "markdown",
   "metadata": {},
   "source": [
    "![image.png](attachment:image.png)"
   ]
  },
  {
   "cell_type": "code",
   "execution_count": null,
   "metadata": {},
   "outputs": [],
   "source": []
  }
 ],
 "metadata": {
  "kernelspec": {
   "display_name": "Python 3",
   "language": "python",
   "name": "python3"
  },
  "language_info": {
   "codemirror_mode": {
    "name": "ipython",
    "version": 3
   },
   "file_extension": ".py",
   "mimetype": "text/x-python",
   "name": "python",
   "nbconvert_exporter": "python",
   "pygments_lexer": "ipython3",
   "version": "3.12.2"
  }
 },
 "nbformat": 4,
 "nbformat_minor": 2
}
