{
 "cells": [
  {
   "cell_type": "code",
   "execution_count": 2,
   "metadata": {},
   "outputs": [],
   "source": [
    "import pandas as pd\n",
    "import numpy as np"
   ]
  },
  {
   "cell_type": "markdown",
   "metadata": {},
   "source": [
    "1 Series "
   ]
  },
  {
   "cell_type": "markdown",
   "metadata": {},
   "source": [
    "Key Points:\n",
    "- ExtensionArray: The .array property returns the ExtensionArray of the data backing the Series or Index. For native NumPy types, it provides a thin wrapper around the numpy.ndarray. For other extension types (like Categorical, Period, etc.), it returns the actual array for that type.\n",
    "\n",
    "- Difference from .values: .array is different from .values in that it doesn't necessarily copy the data or convert it to a different form. The .values method may return the data in a NumPy array format.\n",
    "\n",
    "- Examples:\n",
    "    - For a regular Series with NumPy native types (like int64), .array returns a NumpyExtensionArray.\n",
    "    - For Series with extension types (like Categorical), .array returns the actual extension array, such as a - Categorical array."
   ]
  },
  {
   "cell_type": "code",
   "execution_count": 2,
   "metadata": {},
   "outputs": [],
   "source": [
    "cities = [\"Kolkata\", \"Chicago\", \"Toronto\", \"Lisbon\"]\n",
    "populations = [14.85, 2.71, 2.93, 0.51]"
   ]
  },
  {
   "cell_type": "code",
   "execution_count": 3,
   "metadata": {},
   "outputs": [
    {
     "data": {
      "text/plain": [
       "14.85    Kolkata\n",
       "2.71     Chicago\n",
       "2.93     Toronto\n",
       "0.51      Lisbon\n",
       "Name: cities, dtype: category\n",
       "Categories (4, object): ['Chicago', 'Kolkata', 'Lisbon', 'Toronto']"
      ]
     },
     "execution_count": 3,
     "metadata": {},
     "output_type": "execute_result"
    }
   ],
   "source": [
    "series = pd.Series(cities,index= populations,dtype=\"category\",name=\"cities\")\n",
    "series"
   ]
  },
  {
   "cell_type": "code",
   "execution_count": 67,
   "metadata": {},
   "outputs": [
    {
     "name": "stdout",
     "output_type": "stream",
     "text": [
      "0    1\n",
      "1    2\n",
      "2    3\n",
      "3    4\n",
      "4    5\n",
      "dtype: int64\n"
     ]
    }
   ],
   "source": [
    "s = pd.Series([1, 2, 3, 4, 5])\n",
    "s = pd.Series({\"1\": 1, \"2\": 2, \"3\": 3, \"4\": 4, \"5\": 5})\n",
    "s = pd.Series((1, 2, 3, 4, 5))\n",
    "print(s)"
   ]
  },
  {
   "cell_type": "code",
   "execution_count": 68,
   "metadata": {},
   "outputs": [
    {
     "name": "stdout",
     "output_type": "stream",
     "text": [
      "<NumpyExtensionArray>\n",
      "[1, 2, 3, 4, 5]\n",
      "Length: 5, dtype: int64\n"
     ]
    }
   ],
   "source": [
    "print(s.array)"
   ]
  },
  {
   "cell_type": "code",
   "execution_count": 69,
   "metadata": {},
   "outputs": [
    {
     "name": "stdout",
     "output_type": "stream",
     "text": [
      "[1 2 3 4 5]\n"
     ]
    }
   ],
   "source": [
    "print(s.values)"
   ]
  },
  {
   "cell_type": "code",
   "execution_count": 75,
   "metadata": {},
   "outputs": [
    {
     "data": {
      "text/plain": [
       "['MohamedYasser']"
      ]
     },
     "execution_count": 75,
     "metadata": {},
     "output_type": "execute_result"
    }
   ],
   "source": [
    "\"MohamedYasser\".split()"
   ]
  },
  {
   "cell_type": "code",
   "execution_count": 21,
   "metadata": {},
   "outputs": [
    {
     "data": {
      "text/plain": [
       "array(['M', 'o', 'h', 'a', 'm', 'e', 'd', 'Y', 'a', 's', 's', 'e', 'r'],\n",
       "      dtype=object)"
      ]
     },
     "execution_count": 21,
     "metadata": {},
     "output_type": "execute_result"
    }
   ],
   "source": [
    "pd.Series(list(\"MohamedYasser\")).values"
   ]
  },
  {
   "cell_type": "code",
   "execution_count": 20,
   "metadata": {},
   "outputs": [
    {
     "data": {
      "text/plain": [
       "['M', 'o', 'h', 'a', 'm', ..., 'a', 's', 's', 'e', 'r']\n",
       "Length: 13\n",
       "Categories (10, object): ['M', 'Y', 'a', 'd', ..., 'm', 'o', 'r', 's']"
      ]
     },
     "execution_count": 20,
     "metadata": {},
     "output_type": "execute_result"
    }
   ],
   "source": [
    "pd.Series(list(\"MohamedYasser\")).astype(\"category\").values"
   ]
  },
  {
   "cell_type": "code",
   "execution_count": 23,
   "metadata": {},
   "outputs": [
    {
     "data": {
      "text/plain": [
       "dtype('int64')"
      ]
     },
     "execution_count": 23,
     "metadata": {},
     "output_type": "execute_result"
    }
   ],
   "source": [
    "s.dtype"
   ]
  },
  {
   "cell_type": "code",
   "execution_count": 24,
   "metadata": {},
   "outputs": [
    {
     "data": {
      "text/plain": [
       "(5,)"
      ]
     },
     "execution_count": 24,
     "metadata": {},
     "output_type": "execute_result"
    }
   ],
   "source": [
    "s.shape"
   ]
  },
  {
   "cell_type": "code",
   "execution_count": 5,
   "metadata": {},
   "outputs": [],
   "source": [
    "arr = [\n",
    "    [1, 2, 3, 4, 5],\n",
    "    [6, 7, 8, 9, 10],\n",
    "    [11, 12, 13, 14, 15]\n",
    "]\n",
    "series = pd.Series(arr)"
   ]
  },
  {
   "cell_type": "code",
   "execution_count": 39,
   "metadata": {},
   "outputs": [
    {
     "data": {
      "text/plain": [
       "1"
      ]
     },
     "execution_count": 39,
     "metadata": {},
     "output_type": "execute_result"
    }
   ],
   "source": [
    "series.ndim"
   ]
  },
  {
   "cell_type": "code",
   "execution_count": 6,
   "metadata": {},
   "outputs": [
    {
     "data": {
      "text/plain": [
       "3"
      ]
     },
     "execution_count": 6,
     "metadata": {},
     "output_type": "execute_result"
    }
   ],
   "source": [
    "series.size"
   ]
  },
  {
   "cell_type": "code",
   "execution_count": 7,
   "metadata": {},
   "outputs": [
    {
     "name": "stdout",
     "output_type": "stream",
     "text": [
      "(3,)\n",
      "(3,)\n"
     ]
    }
   ],
   "source": [
    "print(series.shape)\n",
    "series = series.T\n",
    "print(series.shape)"
   ]
  },
  {
   "cell_type": "code",
   "execution_count": 45,
   "metadata": {},
   "outputs": [
    {
     "name": "stdout",
     "output_type": "stream",
     "text": [
      "156\n",
      "468\n",
      "24\n"
     ]
    }
   ],
   "source": [
    "print(series.memory_usage())\n",
    "print(series.memory_usage(deep=True))\n",
    "print(series.memory_usage(index=False))"
   ]
  },
  {
   "cell_type": "code",
   "execution_count": 47,
   "metadata": {},
   "outputs": [
    {
     "data": {
      "text/plain": [
       "False"
      ]
     },
     "execution_count": 47,
     "metadata": {},
     "output_type": "execute_result"
    }
   ],
   "source": [
    "series.hasnans"
   ]
  },
  {
   "cell_type": "code",
   "execution_count": 52,
   "metadata": {},
   "outputs": [
    {
     "data": {
      "text/plain": [
       "False"
      ]
     },
     "execution_count": 52,
     "metadata": {},
     "output_type": "execute_result"
    }
   ],
   "source": [
    "series = pd.Series({\"a\":[]})\n",
    "series.empty"
   ]
  },
  {
   "cell_type": "code",
   "execution_count": 54,
   "metadata": {},
   "outputs": [
    {
     "data": {
      "text/plain": [
       "False"
      ]
     },
     "execution_count": 54,
     "metadata": {},
     "output_type": "execute_result"
    }
   ],
   "source": [
    "series = pd.Series({\"a\": [np.nan]})\n",
    "series.empty"
   ]
  },
  {
   "cell_type": "code",
   "execution_count": 55,
   "metadata": {},
   "outputs": [
    {
     "data": {
      "text/plain": [
       "True"
      ]
     },
     "execution_count": 55,
     "metadata": {},
     "output_type": "execute_result"
    }
   ],
   "source": [
    "series = pd.Series()\n",
    "series.empty"
   ]
  },
  {
   "cell_type": "code",
   "execution_count": 59,
   "metadata": {},
   "outputs": [
    {
     "data": {
      "text/plain": [
       "'cities'"
      ]
     },
     "execution_count": 59,
     "metadata": {},
     "output_type": "execute_result"
    }
   ],
   "source": [
    "series.name"
   ]
  },
  {
   "cell_type": "code",
   "execution_count": 9,
   "metadata": {},
   "outputs": [],
   "source": [
    "df = pd.DataFrame([[1, 2], [3, 4], [5, 6]], columns=[\"Odd Numbers\", \"Even Numbers\"])"
   ]
  },
  {
   "cell_type": "code",
   "execution_count": 10,
   "metadata": {},
   "outputs": [
    {
     "name": "stdout",
     "output_type": "stream",
     "text": [
      "<class 'pandas.core.frame.DataFrame'>\n",
      "RangeIndex: 3 entries, 0 to 2\n",
      "Data columns (total 2 columns):\n",
      " #   Column        Non-Null Count  Dtype\n",
      "---  ------        --------------  -----\n",
      " 0   Odd Numbers   3 non-null      int64\n",
      " 1   Even Numbers  3 non-null      int64\n",
      "dtypes: int64(2)\n",
      "memory usage: 180.0 bytes\n"
     ]
    }
   ],
   "source": [
    "df.info()"
   ]
  },
  {
   "cell_type": "code",
   "execution_count": 64,
   "metadata": {},
   "outputs": [
    {
     "data": {
      "text/plain": [
       "'Odd Numbers'"
      ]
     },
     "execution_count": 64,
     "metadata": {},
     "output_type": "execute_result"
    }
   ],
   "source": [
    "df.iloc[:,0].name"
   ]
  },
  {
   "cell_type": "code",
   "execution_count": 76,
   "metadata": {},
   "outputs": [
    {
     "name": "stdout",
     "output_type": "stream",
     "text": [
      "col1    int64\n",
      "col2    int64\n",
      "dtype: object\n"
     ]
    }
   ],
   "source": [
    "d = {\"col1\": [1, 2], \"col2\": [3, 4]}\n",
    "df = pd.DataFrame(data=d)\n",
    "print(df.dtypes)"
   ]
  },
  {
   "cell_type": "code",
   "execution_count": 77,
   "metadata": {},
   "outputs": [
    {
     "name": "stdout",
     "output_type": "stream",
     "text": [
      "col1    int32\n",
      "col2    int32\n",
      "dtype: object\n"
     ]
    }
   ],
   "source": [
    "df_cast = df.astype(\"int32\")\n",
    "print(df_cast.dtypes)"
   ]
  },
  {
   "cell_type": "code",
   "execution_count": 101,
   "metadata": {},
   "outputs": [
    {
     "name": "stdout",
     "output_type": "stream",
     "text": [
      "int64\n",
      "int32\n",
      "----------------------------------------\n",
      "0    11\n",
      "1    12\n",
      "2    13\n",
      "3    14\n",
      "4    15\n",
      "5    16\n",
      "dtype: int64\n",
      "0    1\n",
      "1    2\n",
      "2    3\n",
      "3    4\n",
      "4    5\n",
      "5    6\n",
      "dtype: int32\n"
     ]
    }
   ],
   "source": [
    "series = pd.Series([1,2,3,4,5,6])\n",
    "print(series.dtype)\n",
    "series = series.astype(\"int32\")\n",
    "print(series.dtype)\n",
    "print(\"--\"*20)\n",
    "print(series.astype(\"int64\", copy=True).add(10))\n",
    "print(series)"
   ]
  },
  {
   "cell_type": "code",
   "execution_count": null,
   "metadata": {},
   "outputs": [
    {
     "name": "stdout",
     "output_type": "stream",
     "text": [
      "object\n",
      "int64\n"
     ]
    }
   ],
   "source": [
    "series = pd.Series([1,2,3,4,5,6],dtype=\"object\")\n",
    "print(series.dtype)\n",
    "series = series.infer_objects()\n",
    "print(series.dtype)"
   ]
  },
  {
   "cell_type": "markdown",
   "metadata": {},
   "source": [
    "copy()"
   ]
  },
  {
   "cell_type": "markdown",
   "metadata": {},
   "source": [
    "The copy() method in pandas is used to create a duplicate of a Series object. This can be a deep copy (default) or a shallow copy, depending on the deep parameter."
   ]
  },
  {
   "cell_type": "code",
   "execution_count": 15,
   "metadata": {},
   "outputs": [
    {
     "name": "stdout",
     "output_type": "stream",
     "text": [
      "a    100\n",
      "b      2\n",
      "dtype: int64\n",
      "a    1\n",
      "b    2\n",
      "dtype: int64\n",
      "--------------------\n",
      "140\n",
      "140\n"
     ]
    }
   ],
   "source": [
    "# Deep Copy (Default)\n",
    "s = pd.Series([1, 2], index=[\"a\", \"b\"])\n",
    "deep_copy = s.copy()\n",
    "\n",
    "s[\"a\"] = 100\n",
    "\n",
    "print(s)\n",
    "print(deep_copy)\n",
    "print(\"-\"*20)\n",
    "print(s.memory_usage())\n",
    "print(deep_copy.memory_usage())"
   ]
  },
  {
   "cell_type": "code",
   "execution_count": 19,
   "metadata": {},
   "outputs": [
    {
     "name": "stdout",
     "output_type": "stream",
     "text": [
      "a    1000000000\n",
      "b             2\n",
      "dtype: int64\n",
      "a    1000000000\n",
      "b             2\n",
      "dtype: int64\n",
      "--------------------\n",
      "140\n",
      "140\n"
     ]
    }
   ],
   "source": [
    "# Shallow Copy\n",
    "s = pd.Series([1, 2], index=[\"a\", \"b\"])\n",
    "shallow_copy = s.copy(deep=False)\n",
    "\n",
    "s[\"a\"] = 1000000000  # Modify original Series\n",
    "\n",
    "print(s)  # Original modified\n",
    "print(shallow_copy)  # Shallow copy reflects changes\n",
    "print(\"-\" * 20)\n",
    "print(s.memory_usage())\n",
    "print(shallow_copy.memory_usage())"
   ]
  },
  {
   "cell_type": "code",
   "execution_count": 7,
   "metadata": {},
   "outputs": [
    {
     "name": "stdout",
     "output_type": "stream",
     "text": [
      "0    [100, 2]\n",
      "1      [3, 4]\n",
      "dtype: object\n",
      "0    [100, 2]\n",
      "1      [3, 4]\n",
      "dtype: object\n"
     ]
    }
   ],
   "source": [
    "s = pd.Series([[1, 2], [3, 4]])\n",
    "deep_copy = s.copy()\n",
    "\n",
    "s.iloc[0][0] = 100  # Modifying the original nested list\n",
    "\n",
    "print(s)  # Original modified\n",
    "print(deep_copy)  # Also modified!"
   ]
  },
  {
   "cell_type": "code",
   "execution_count": 8,
   "metadata": {},
   "outputs": [],
   "source": [
    "import copy\n",
    "\n",
    "deep_copy = copy.deepcopy(s)  # Now, a true deep copy!"
   ]
  },
  {
   "cell_type": "code",
   "execution_count": null,
   "metadata": {},
   "outputs": [
    {
     "name": "stdout",
     "output_type": "stream",
     "text": [
      "0    False\n",
      "dtype: bool\n",
      "False\n"
     ]
    },
    {
     "name": "stderr",
     "output_type": "stream",
     "text": [
      "C:\\Users\\Mohamed Yasser\\AppData\\Local\\Temp\\ipykernel_9668\\74684825.py:2: FutureWarning: Series.bool is now deprecated and will be removed in future version of pandas\n",
      "  print(pd.Series([False]).bool()  )\n"
     ]
    }
   ],
   "source": [
    "print(pd.Series([False]))\n",
    "print(pd.Series([False]).bool())"
   ]
  },
  {
   "cell_type": "code",
   "execution_count": 23,
   "metadata": {},
   "outputs": [
    {
     "data": {
      "text/plain": [
       "array(['a', 'b', 'a'], dtype=object)"
      ]
     },
     "execution_count": 23,
     "metadata": {},
     "output_type": "execute_result"
    }
   ],
   "source": [
    "ser = pd.Series(pd.Categorical([\"a\", \"b\", \"a\"]))\n",
    "ser.to_numpy()"
   ]
  },
  {
   "cell_type": "code",
   "execution_count": 25,
   "metadata": {},
   "outputs": [
    {
     "data": {
      "text/plain": [
       "array([Timestamp('2000-01-01 00:00:00+0100', tz='CET'),\n",
       "       Timestamp('2000-01-02 00:00:00+0100', tz='CET')], dtype=object)"
      ]
     },
     "execution_count": 25,
     "metadata": {},
     "output_type": "execute_result"
    }
   ],
   "source": [
    "ser = pd.Series(pd.date_range(\"2000\", periods=2, tz=\"CET\"))\n",
    "ser.to_numpy()"
   ]
  },
  {
   "cell_type": "code",
   "execution_count": null,
   "metadata": {},
   "outputs": [],
   "source": [
    "ser = pd.Series([1, 2, 3])\n",
    "np.asarray(ser)"
   ]
  },
  {
   "cell_type": "code",
   "execution_count": 28,
   "metadata": {},
   "outputs": [
    {
     "name": "stdout",
     "output_type": "stream",
     "text": [
      "2023    1\n",
      "2024    2\n",
      "2025    3\n",
      "Freq: Y-DEC, dtype: int64\n"
     ]
    }
   ],
   "source": [
    "idx = pd.DatetimeIndex([\"2023\", \"2024\", \"2025\"])\n",
    "s = pd.Series([1, 2, 3], index=idx)\n",
    "s = s.to_period()\n",
    "print(s)"
   ]
  },
  {
   "cell_type": "code",
   "execution_count": 29,
   "metadata": {},
   "outputs": [
    {
     "data": {
      "text/plain": [
       "[1, 2, 3]"
      ]
     },
     "execution_count": 29,
     "metadata": {},
     "output_type": "execute_result"
    }
   ],
   "source": [
    "s = pd.Series([1, 2, 3])\n",
    "s.to_list()"
   ]
  },
  {
   "cell_type": "code",
   "execution_count": 30,
   "metadata": {},
   "outputs": [
    {
     "data": {
      "text/plain": [
       "<NumpyExtensionArray>\n",
       "[1, 2, 3]\n",
       "Length: 3, dtype: int64"
      ]
     },
     "execution_count": 30,
     "metadata": {},
     "output_type": "execute_result"
    }
   ],
   "source": [
    "s = pd.Series([1, 2, 3])\n",
    "s.array"
   ]
  },
  {
   "cell_type": "code",
   "execution_count": 32,
   "metadata": {},
   "outputs": [
    {
     "data": {
      "text/plain": [
       "array([1, 2, 3], dtype=int64)"
      ]
     },
     "execution_count": 32,
     "metadata": {},
     "output_type": "execute_result"
    }
   ],
   "source": [
    "s = pd.Series([1, 2, 3])\n",
    "s.values"
   ]
  },
  {
   "cell_type": "code",
   "execution_count": 13,
   "metadata": {},
   "outputs": [],
   "source": [
    "df = pd.DataFrame(\n",
    "    [\n",
    "        [24.3, 75.7, \"high\"],\n",
    "        [31, 87.8, \"high\"],\n",
    "        [22, 71.6, \"medium\"],\n",
    "        [35, 95, \"medium\"],\n",
    "    ],\n",
    "    columns=[\"temp_celsius\", \"temp_fahrenheit\", \"windspeed\"],\n",
    "    index=pd.date_range(start=\"2014-02-12\", end=\"2014-02-15\", freq=\"D\"),\n",
    ")"
   ]
  },
  {
   "cell_type": "code",
   "execution_count": 16,
   "metadata": {},
   "outputs": [
    {
     "data": {
      "text/plain": [
       "'high'"
      ]
     },
     "execution_count": 16,
     "metadata": {},
     "output_type": "execute_result"
    }
   ],
   "source": [
    "df.loc[\"2014-02-12\", \"windspeed\"]"
   ]
  },
  {
   "cell_type": "code",
   "execution_count": 18,
   "metadata": {},
   "outputs": [
    {
     "data": {
      "text/plain": [
       "'high'"
      ]
     },
     "execution_count": 18,
     "metadata": {},
     "output_type": "execute_result"
    }
   ],
   "source": [
    "df[\"windspeed\"][\"2014-02-12\"]"
   ]
  },
  {
   "cell_type": "code",
   "execution_count": 48,
   "metadata": {},
   "outputs": [
    {
     "name": "stdout",
     "output_type": "stream",
     "text": [
      "high\n",
      "high\n"
     ]
    }
   ],
   "source": [
    "ser = df[\"windspeed\"]\n",
    "print(ser.get(\"2014-02-13\"))\n",
    "print(ser[\"2014-02-13\"])"
   ]
  },
  {
   "cell_type": "code",
   "execution_count": 49,
   "metadata": {},
   "outputs": [],
   "source": [
    "df = pd.DataFrame(\n",
    "    [[0, 2, 3], [0, 4, 1], [10, 20, 30]], index=[4, 5, 6], columns=[\"A\", \"B\", \"C\"]\n",
    ")"
   ]
  },
  {
   "cell_type": "code",
   "execution_count": null,
   "metadata": {},
   "outputs": [
    {
     "data": {
      "text/plain": [
       "2"
      ]
     },
     "execution_count": 51,
     "metadata": {},
     "output_type": "execute_result"
    }
   ],
   "source": [
    "df.loc[4,\"B\"]\n",
    "# loc [index, column]"
   ]
  },
  {
   "cell_type": "code",
   "execution_count": 52,
   "metadata": {},
   "outputs": [
    {
     "data": {
      "text/plain": [
       "2"
      ]
     },
     "execution_count": 52,
     "metadata": {},
     "output_type": "execute_result"
    }
   ],
   "source": [
    "df.at[4, \"B\"]"
   ]
  },
  {
   "cell_type": "code",
   "execution_count": 53,
   "metadata": {},
   "outputs": [
    {
     "data": {
      "text/plain": [
       "1"
      ]
     },
     "execution_count": 53,
     "metadata": {},
     "output_type": "execute_result"
    }
   ],
   "source": [
    "df.iat[1, 2]"
   ]
  },
  {
   "cell_type": "code",
   "execution_count": 22,
   "metadata": {},
   "outputs": [],
   "source": [
    "df = pd.DataFrame(\n",
    "    {\n",
    "    \"max_speed\": [1, 4, 7],\n",
    "    \"shield\": [2, 5, 8]\n",
    "    },\n",
    "    index=[\"cobra\", \"viper\", \"sidewinder\"],\n",
    ")"
   ]
  },
  {
   "cell_type": "code",
   "execution_count": 23,
   "metadata": {},
   "outputs": [
    {
     "data": {
      "application/vnd.microsoft.datawrangler.viewer.v0+json": {
       "columns": [
        {
         "name": "index",
         "rawType": "object",
         "type": "string"
        },
        {
         "name": "max_speed",
         "rawType": "int64",
         "type": "integer"
        },
        {
         "name": "shield",
         "rawType": "int64",
         "type": "integer"
        }
       ],
       "conversionMethod": "pd.DataFrame",
       "ref": "90fb3d00-5733-4d15-9895-37408e5009c0",
       "rows": [
        [
         "cobra",
         "1",
         "2"
        ],
        [
         "viper",
         "4",
         "5"
        ],
        [
         "sidewinder",
         "7",
         "8"
        ]
       ],
       "shape": {
        "columns": 2,
        "rows": 3
       }
      },
      "text/html": [
       "<div>\n",
       "<style scoped>\n",
       "    .dataframe tbody tr th:only-of-type {\n",
       "        vertical-align: middle;\n",
       "    }\n",
       "\n",
       "    .dataframe tbody tr th {\n",
       "        vertical-align: top;\n",
       "    }\n",
       "\n",
       "    .dataframe thead th {\n",
       "        text-align: right;\n",
       "    }\n",
       "</style>\n",
       "<table border=\"1\" class=\"dataframe\">\n",
       "  <thead>\n",
       "    <tr style=\"text-align: right;\">\n",
       "      <th></th>\n",
       "      <th>max_speed</th>\n",
       "      <th>shield</th>\n",
       "    </tr>\n",
       "  </thead>\n",
       "  <tbody>\n",
       "    <tr>\n",
       "      <th>cobra</th>\n",
       "      <td>1</td>\n",
       "      <td>2</td>\n",
       "    </tr>\n",
       "    <tr>\n",
       "      <th>viper</th>\n",
       "      <td>4</td>\n",
       "      <td>5</td>\n",
       "    </tr>\n",
       "    <tr>\n",
       "      <th>sidewinder</th>\n",
       "      <td>7</td>\n",
       "      <td>8</td>\n",
       "    </tr>\n",
       "  </tbody>\n",
       "</table>\n",
       "</div>"
      ],
      "text/plain": [
       "            max_speed  shield\n",
       "cobra               1       2\n",
       "viper               4       5\n",
       "sidewinder          7       8"
      ]
     },
     "execution_count": 23,
     "metadata": {},
     "output_type": "execute_result"
    }
   ],
   "source": [
    "df.head()"
   ]
  },
  {
   "cell_type": "code",
   "execution_count": 24,
   "metadata": {},
   "outputs": [
    {
     "data": {
      "text/plain": [
       "max_speed    1\n",
       "shield       2\n",
       "Name: cobra, dtype: int64"
      ]
     },
     "execution_count": 24,
     "metadata": {},
     "output_type": "execute_result"
    }
   ],
   "source": [
    "df.loc[\"cobra\"]"
   ]
  },
  {
   "cell_type": "code",
   "execution_count": 25,
   "metadata": {},
   "outputs": [
    {
     "data": {
      "text/plain": [
       "1"
      ]
     },
     "execution_count": 25,
     "metadata": {},
     "output_type": "execute_result"
    }
   ],
   "source": [
    "df.loc[\"cobra\", \"max_speed\"]"
   ]
  },
  {
   "cell_type": "code",
   "execution_count": 26,
   "metadata": {},
   "outputs": [
    {
     "data": {
      "application/vnd.microsoft.datawrangler.viewer.v0+json": {
       "columns": [
        {
         "name": "index",
         "rawType": "object",
         "type": "string"
        },
        {
         "name": "max_speed",
         "rawType": "int64",
         "type": "integer"
        },
        {
         "name": "shield",
         "rawType": "int64",
         "type": "integer"
        }
       ],
       "conversionMethod": "pd.DataFrame",
       "ref": "c130253c-2eb3-4122-816c-d9ec7112e310",
       "rows": [
        [
         "viper",
         "4",
         "5"
        ],
        [
         "sidewinder",
         "7",
         "8"
        ]
       ],
       "shape": {
        "columns": 2,
        "rows": 2
       }
      },
      "text/html": [
       "<div>\n",
       "<style scoped>\n",
       "    .dataframe tbody tr th:only-of-type {\n",
       "        vertical-align: middle;\n",
       "    }\n",
       "\n",
       "    .dataframe tbody tr th {\n",
       "        vertical-align: top;\n",
       "    }\n",
       "\n",
       "    .dataframe thead th {\n",
       "        text-align: right;\n",
       "    }\n",
       "</style>\n",
       "<table border=\"1\" class=\"dataframe\">\n",
       "  <thead>\n",
       "    <tr style=\"text-align: right;\">\n",
       "      <th></th>\n",
       "      <th>max_speed</th>\n",
       "      <th>shield</th>\n",
       "    </tr>\n",
       "  </thead>\n",
       "  <tbody>\n",
       "    <tr>\n",
       "      <th>viper</th>\n",
       "      <td>4</td>\n",
       "      <td>5</td>\n",
       "    </tr>\n",
       "    <tr>\n",
       "      <th>sidewinder</th>\n",
       "      <td>7</td>\n",
       "      <td>8</td>\n",
       "    </tr>\n",
       "  </tbody>\n",
       "</table>\n",
       "</div>"
      ],
      "text/plain": [
       "            max_speed  shield\n",
       "viper               4       5\n",
       "sidewinder          7       8"
      ]
     },
     "execution_count": 26,
     "metadata": {},
     "output_type": "execute_result"
    }
   ],
   "source": [
    "df.loc[[\"viper\", \"sidewinder\"]]"
   ]
  },
  {
   "cell_type": "code",
   "execution_count": 27,
   "metadata": {},
   "outputs": [
    {
     "data": {
      "text/plain": [
       "cobra    1\n",
       "viper    4\n",
       "Name: max_speed, dtype: int64"
      ]
     },
     "execution_count": 27,
     "metadata": {},
     "output_type": "execute_result"
    }
   ],
   "source": [
    "df.loc[\"cobra\":\"viper\", \"max_speed\"]"
   ]
  },
  {
   "cell_type": "code",
   "execution_count": 28,
   "metadata": {},
   "outputs": [
    {
     "data": {
      "application/vnd.microsoft.datawrangler.viewer.v0+json": {
       "columns": [
        {
         "name": "index",
         "rawType": "object",
         "type": "string"
        },
        {
         "name": "max_speed",
         "rawType": "int64",
         "type": "integer"
        },
        {
         "name": "shield",
         "rawType": "int64",
         "type": "integer"
        }
       ],
       "conversionMethod": "pd.DataFrame",
       "ref": "49974db7-2d3f-412f-8200-fd0fa792babf",
       "rows": [
        [
         "viper",
         "4",
         "5"
        ],
        [
         "sidewinder",
         "7",
         "8"
        ]
       ],
       "shape": {
        "columns": 2,
        "rows": 2
       }
      },
      "text/html": [
       "<div>\n",
       "<style scoped>\n",
       "    .dataframe tbody tr th:only-of-type {\n",
       "        vertical-align: middle;\n",
       "    }\n",
       "\n",
       "    .dataframe tbody tr th {\n",
       "        vertical-align: top;\n",
       "    }\n",
       "\n",
       "    .dataframe thead th {\n",
       "        text-align: right;\n",
       "    }\n",
       "</style>\n",
       "<table border=\"1\" class=\"dataframe\">\n",
       "  <thead>\n",
       "    <tr style=\"text-align: right;\">\n",
       "      <th></th>\n",
       "      <th>max_speed</th>\n",
       "      <th>shield</th>\n",
       "    </tr>\n",
       "  </thead>\n",
       "  <tbody>\n",
       "    <tr>\n",
       "      <th>viper</th>\n",
       "      <td>4</td>\n",
       "      <td>5</td>\n",
       "    </tr>\n",
       "    <tr>\n",
       "      <th>sidewinder</th>\n",
       "      <td>7</td>\n",
       "      <td>8</td>\n",
       "    </tr>\n",
       "  </tbody>\n",
       "</table>\n",
       "</div>"
      ],
      "text/plain": [
       "            max_speed  shield\n",
       "viper               4       5\n",
       "sidewinder          7       8"
      ]
     },
     "execution_count": 28,
     "metadata": {},
     "output_type": "execute_result"
    }
   ],
   "source": [
    "df.loc[[\"viper\", \"sidewinder\"], [\"max_speed\", \"shield\"]]"
   ]
  },
  {
   "cell_type": "code",
   "execution_count": 29,
   "metadata": {},
   "outputs": [
    {
     "data": {
      "application/vnd.microsoft.datawrangler.viewer.v0+json": {
       "columns": [
        {
         "name": "index",
         "rawType": "object",
         "type": "string"
        },
        {
         "name": "max_speed",
         "rawType": "int64",
         "type": "integer"
        },
        {
         "name": "shield",
         "rawType": "int64",
         "type": "integer"
        }
       ],
       "conversionMethod": "pd.DataFrame",
       "ref": "14574d79-823a-4eea-a325-f29a7b4ddd07",
       "rows": [
        [
         "sidewinder",
         "7",
         "8"
        ]
       ],
       "shape": {
        "columns": 2,
        "rows": 1
       }
      },
      "text/html": [
       "<div>\n",
       "<style scoped>\n",
       "    .dataframe tbody tr th:only-of-type {\n",
       "        vertical-align: middle;\n",
       "    }\n",
       "\n",
       "    .dataframe tbody tr th {\n",
       "        vertical-align: top;\n",
       "    }\n",
       "\n",
       "    .dataframe thead th {\n",
       "        text-align: right;\n",
       "    }\n",
       "</style>\n",
       "<table border=\"1\" class=\"dataframe\">\n",
       "  <thead>\n",
       "    <tr style=\"text-align: right;\">\n",
       "      <th></th>\n",
       "      <th>max_speed</th>\n",
       "      <th>shield</th>\n",
       "    </tr>\n",
       "  </thead>\n",
       "  <tbody>\n",
       "    <tr>\n",
       "      <th>sidewinder</th>\n",
       "      <td>7</td>\n",
       "      <td>8</td>\n",
       "    </tr>\n",
       "  </tbody>\n",
       "</table>\n",
       "</div>"
      ],
      "text/plain": [
       "            max_speed  shield\n",
       "sidewinder          7       8"
      ]
     },
     "execution_count": 29,
     "metadata": {},
     "output_type": "execute_result"
    }
   ],
   "source": [
    "df.loc[df[\"shield\"] > 6]"
   ]
  },
  {
   "cell_type": "code",
   "execution_count": 31,
   "metadata": {},
   "outputs": [
    {
     "data": {
      "text/plain": [
       "sidewinder    8\n",
       "Name: shield, dtype: int64"
      ]
     },
     "execution_count": 31,
     "metadata": {},
     "output_type": "execute_result"
    }
   ],
   "source": [
    "df.loc[df[\"shield\"] > 6, \"shield\"]"
   ]
  },
  {
   "cell_type": "code",
   "execution_count": 70,
   "metadata": {},
   "outputs": [
    {
     "data": {
      "application/vnd.microsoft.datawrangler.viewer.v0+json": {
       "columns": [
        {
         "name": "index",
         "rawType": "object",
         "type": "string"
        },
        {
         "name": "max_speed",
         "rawType": "int64",
         "type": "integer"
        }
       ],
       "conversionMethod": "pd.DataFrame",
       "ref": "8bc8de56-408d-4a08-bc2d-aee2ee3ef490",
       "rows": [
        [
         "viper",
         "30"
        ],
        [
         "sidewinder",
         "30"
        ]
       ],
       "shape": {
        "columns": 1,
        "rows": 2
       }
      },
      "text/html": [
       "<div>\n",
       "<style scoped>\n",
       "    .dataframe tbody tr th:only-of-type {\n",
       "        vertical-align: middle;\n",
       "    }\n",
       "\n",
       "    .dataframe tbody tr th {\n",
       "        vertical-align: top;\n",
       "    }\n",
       "\n",
       "    .dataframe thead th {\n",
       "        text-align: right;\n",
       "    }\n",
       "</style>\n",
       "<table border=\"1\" class=\"dataframe\">\n",
       "  <thead>\n",
       "    <tr style=\"text-align: right;\">\n",
       "      <th></th>\n",
       "      <th>max_speed</th>\n",
       "    </tr>\n",
       "  </thead>\n",
       "  <tbody>\n",
       "    <tr>\n",
       "      <th>viper</th>\n",
       "      <td>30</td>\n",
       "    </tr>\n",
       "    <tr>\n",
       "      <th>sidewinder</th>\n",
       "      <td>30</td>\n",
       "    </tr>\n",
       "  </tbody>\n",
       "</table>\n",
       "</div>"
      ],
      "text/plain": [
       "            max_speed\n",
       "viper              30\n",
       "sidewinder         30"
      ]
     },
     "execution_count": 70,
     "metadata": {},
     "output_type": "execute_result"
    }
   ],
   "source": [
    "df[df[\"shield\"] > 6] [[\"max_speed\"]]"
   ]
  },
  {
   "cell_type": "code",
   "execution_count": 64,
   "metadata": {},
   "outputs": [
    {
     "data": {
      "application/vnd.microsoft.datawrangler.viewer.v0+json": {
       "columns": [
        {
         "name": "index",
         "rawType": "object",
         "type": "string"
        },
        {
         "name": "max_speed",
         "rawType": "int64",
         "type": "integer"
        },
        {
         "name": "shield",
         "rawType": "int64",
         "type": "integer"
        }
       ],
       "conversionMethod": "pd.DataFrame",
       "ref": "3f374a39-b912-4304-8ae3-63684678f4d5",
       "rows": [
        [
         "viper",
         "4",
         "5"
        ]
       ],
       "shape": {
        "columns": 2,
        "rows": 1
       }
      },
      "text/html": [
       "<div>\n",
       "<style scoped>\n",
       "    .dataframe tbody tr th:only-of-type {\n",
       "        vertical-align: middle;\n",
       "    }\n",
       "\n",
       "    .dataframe tbody tr th {\n",
       "        vertical-align: top;\n",
       "    }\n",
       "\n",
       "    .dataframe thead th {\n",
       "        text-align: right;\n",
       "    }\n",
       "</style>\n",
       "<table border=\"1\" class=\"dataframe\">\n",
       "  <thead>\n",
       "    <tr style=\"text-align: right;\">\n",
       "      <th></th>\n",
       "      <th>max_speed</th>\n",
       "      <th>shield</th>\n",
       "    </tr>\n",
       "  </thead>\n",
       "  <tbody>\n",
       "    <tr>\n",
       "      <th>viper</th>\n",
       "      <td>4</td>\n",
       "      <td>5</td>\n",
       "    </tr>\n",
       "  </tbody>\n",
       "</table>\n",
       "</div>"
      ],
      "text/plain": [
       "       max_speed  shield\n",
       "viper          4       5"
      ]
     },
     "execution_count": 64,
     "metadata": {},
     "output_type": "execute_result"
    }
   ],
   "source": [
    "df.loc[(df[\"max_speed\"] > 1) & (df[\"shield\"] < 8)]"
   ]
  },
  {
   "cell_type": "code",
   "execution_count": 71,
   "metadata": {},
   "outputs": [
    {
     "data": {
      "application/vnd.microsoft.datawrangler.viewer.v0+json": {
       "columns": [
        {
         "name": "index",
         "rawType": "object",
         "type": "string"
        },
        {
         "name": "max_speed",
         "rawType": "int64",
         "type": "integer"
        },
        {
         "name": "shield",
         "rawType": "int64",
         "type": "integer"
        }
       ],
       "conversionMethod": "pd.DataFrame",
       "ref": "5bd8fa21-8619-4064-ae8d-1e9a99a3e1e7",
       "rows": [
        [
         "cobra",
         "30",
         "2"
        ],
        [
         "viper",
         "30",
         "50"
        ],
        [
         "sidewinder",
         "30",
         "8"
        ]
       ],
       "shape": {
        "columns": 2,
        "rows": 3
       }
      },
      "text/html": [
       "<div>\n",
       "<style scoped>\n",
       "    .dataframe tbody tr th:only-of-type {\n",
       "        vertical-align: middle;\n",
       "    }\n",
       "\n",
       "    .dataframe tbody tr th {\n",
       "        vertical-align: top;\n",
       "    }\n",
       "\n",
       "    .dataframe thead th {\n",
       "        text-align: right;\n",
       "    }\n",
       "</style>\n",
       "<table border=\"1\" class=\"dataframe\">\n",
       "  <thead>\n",
       "    <tr style=\"text-align: right;\">\n",
       "      <th></th>\n",
       "      <th>max_speed</th>\n",
       "      <th>shield</th>\n",
       "    </tr>\n",
       "  </thead>\n",
       "  <tbody>\n",
       "    <tr>\n",
       "      <th>cobra</th>\n",
       "      <td>30</td>\n",
       "      <td>2</td>\n",
       "    </tr>\n",
       "    <tr>\n",
       "      <th>viper</th>\n",
       "      <td>30</td>\n",
       "      <td>50</td>\n",
       "    </tr>\n",
       "    <tr>\n",
       "      <th>sidewinder</th>\n",
       "      <td>30</td>\n",
       "      <td>8</td>\n",
       "    </tr>\n",
       "  </tbody>\n",
       "</table>\n",
       "</div>"
      ],
      "text/plain": [
       "            max_speed  shield\n",
       "cobra              30       2\n",
       "viper              30      50\n",
       "sidewinder         30       8"
      ]
     },
     "execution_count": 71,
     "metadata": {},
     "output_type": "execute_result"
    }
   ],
   "source": [
    "df.loc[(df[\"max_speed\"] > 1) | (df[\"shield\"] < 8)]"
   ]
  },
  {
   "cell_type": "code",
   "execution_count": 73,
   "metadata": {},
   "outputs": [],
   "source": [
    "df.loc[df[\"shield\"] > 6] += 30"
   ]
  },
  {
   "cell_type": "code",
   "execution_count": 65,
   "metadata": {},
   "outputs": [],
   "source": [
    "df.loc[\"viper\", \"shield\"] = 50"
   ]
  },
  {
   "cell_type": "code",
   "execution_count": 66,
   "metadata": {},
   "outputs": [],
   "source": [
    "df.loc[:, \"max_speed\"] = 30"
   ]
  },
  {
   "cell_type": "code",
   "execution_count": 32,
   "metadata": {},
   "outputs": [],
   "source": [
    "mydict = [\n",
    "    {\"a\": 1, \"b\": 2, \"c\": 3, \"d\": 4},\n",
    "    {\"a\": 100, \"b\": 200, \"c\": 300, \"d\": 400},\n",
    "    {\"a\": 1000, \"b\": 2000, \"c\": 3000, \"d\": 4000},\n",
    "]\n",
    "\n",
    "df = pd.DataFrame(mydict)"
   ]
  },
  {
   "cell_type": "code",
   "execution_count": 33,
   "metadata": {},
   "outputs": [
    {
     "data": {
      "application/vnd.microsoft.datawrangler.viewer.v0+json": {
       "columns": [
        {
         "name": "index",
         "rawType": "int64",
         "type": "integer"
        },
        {
         "name": "a",
         "rawType": "int64",
         "type": "integer"
        },
        {
         "name": "b",
         "rawType": "int64",
         "type": "integer"
        },
        {
         "name": "c",
         "rawType": "int64",
         "type": "integer"
        },
        {
         "name": "d",
         "rawType": "int64",
         "type": "integer"
        }
       ],
       "conversionMethod": "pd.DataFrame",
       "ref": "27ffbdeb-68ca-40c5-846e-fb5c13414484",
       "rows": [
        [
         "0",
         "1",
         "2",
         "3",
         "4"
        ],
        [
         "1",
         "100",
         "200",
         "300",
         "400"
        ],
        [
         "2",
         "1000",
         "2000",
         "3000",
         "4000"
        ]
       ],
       "shape": {
        "columns": 4,
        "rows": 3
       }
      },
      "text/html": [
       "<div>\n",
       "<style scoped>\n",
       "    .dataframe tbody tr th:only-of-type {\n",
       "        vertical-align: middle;\n",
       "    }\n",
       "\n",
       "    .dataframe tbody tr th {\n",
       "        vertical-align: top;\n",
       "    }\n",
       "\n",
       "    .dataframe thead th {\n",
       "        text-align: right;\n",
       "    }\n",
       "</style>\n",
       "<table border=\"1\" class=\"dataframe\">\n",
       "  <thead>\n",
       "    <tr style=\"text-align: right;\">\n",
       "      <th></th>\n",
       "      <th>a</th>\n",
       "      <th>b</th>\n",
       "      <th>c</th>\n",
       "      <th>d</th>\n",
       "    </tr>\n",
       "  </thead>\n",
       "  <tbody>\n",
       "    <tr>\n",
       "      <th>0</th>\n",
       "      <td>1</td>\n",
       "      <td>2</td>\n",
       "      <td>3</td>\n",
       "      <td>4</td>\n",
       "    </tr>\n",
       "    <tr>\n",
       "      <th>1</th>\n",
       "      <td>100</td>\n",
       "      <td>200</td>\n",
       "      <td>300</td>\n",
       "      <td>400</td>\n",
       "    </tr>\n",
       "    <tr>\n",
       "      <th>2</th>\n",
       "      <td>1000</td>\n",
       "      <td>2000</td>\n",
       "      <td>3000</td>\n",
       "      <td>4000</td>\n",
       "    </tr>\n",
       "  </tbody>\n",
       "</table>\n",
       "</div>"
      ],
      "text/plain": [
       "      a     b     c     d\n",
       "0     1     2     3     4\n",
       "1   100   200   300   400\n",
       "2  1000  2000  3000  4000"
      ]
     },
     "execution_count": 33,
     "metadata": {},
     "output_type": "execute_result"
    }
   ],
   "source": [
    "df.head()"
   ]
  },
  {
   "cell_type": "code",
   "execution_count": 34,
   "metadata": {},
   "outputs": [
    {
     "data": {
      "text/plain": [
       "1"
      ]
     },
     "execution_count": 34,
     "metadata": {},
     "output_type": "execute_result"
    }
   ],
   "source": [
    "df.iloc[0,0]"
   ]
  },
  {
   "cell_type": "code",
   "execution_count": 35,
   "metadata": {},
   "outputs": [
    {
     "data": {
      "text/plain": [
       "Index(['a', 'b', 'c', 'd'], dtype='object')"
      ]
     },
     "execution_count": 35,
     "metadata": {},
     "output_type": "execute_result"
    }
   ],
   "source": [
    "df.iloc[0].index"
   ]
  },
  {
   "cell_type": "code",
   "execution_count": 36,
   "metadata": {},
   "outputs": [
    {
     "data": {
      "text/plain": [
       "array([1, 2, 3, 4], dtype=int64)"
      ]
     },
     "execution_count": 36,
     "metadata": {},
     "output_type": "execute_result"
    }
   ],
   "source": [
    "df.iloc[0].values"
   ]
  },
  {
   "cell_type": "code",
   "execution_count": 39,
   "metadata": {},
   "outputs": [
    {
     "data": {
      "application/vnd.microsoft.datawrangler.viewer.v0+json": {
       "columns": [
        {
         "name": "index",
         "rawType": "int64",
         "type": "integer"
        },
        {
         "name": "a",
         "rawType": "int64",
         "type": "integer"
        },
        {
         "name": "b",
         "rawType": "int64",
         "type": "integer"
        },
        {
         "name": "c",
         "rawType": "int64",
         "type": "integer"
        },
        {
         "name": "d",
         "rawType": "int64",
         "type": "integer"
        }
       ],
       "conversionMethod": "pd.DataFrame",
       "ref": "1b962a79-c534-4536-ab3a-af2e0bfa1a2b",
       "rows": [
        [
         "0",
         "1",
         "2",
         "3",
         "4"
        ]
       ],
       "shape": {
        "columns": 4,
        "rows": 1
       }
      },
      "text/html": [
       "<div>\n",
       "<style scoped>\n",
       "    .dataframe tbody tr th:only-of-type {\n",
       "        vertical-align: middle;\n",
       "    }\n",
       "\n",
       "    .dataframe tbody tr th {\n",
       "        vertical-align: top;\n",
       "    }\n",
       "\n",
       "    .dataframe thead th {\n",
       "        text-align: right;\n",
       "    }\n",
       "</style>\n",
       "<table border=\"1\" class=\"dataframe\">\n",
       "  <thead>\n",
       "    <tr style=\"text-align: right;\">\n",
       "      <th></th>\n",
       "      <th>a</th>\n",
       "      <th>b</th>\n",
       "      <th>c</th>\n",
       "      <th>d</th>\n",
       "    </tr>\n",
       "  </thead>\n",
       "  <tbody>\n",
       "    <tr>\n",
       "      <th>0</th>\n",
       "      <td>1</td>\n",
       "      <td>2</td>\n",
       "      <td>3</td>\n",
       "      <td>4</td>\n",
       "    </tr>\n",
       "  </tbody>\n",
       "</table>\n",
       "</div>"
      ],
      "text/plain": [
       "   a  b  c  d\n",
       "0  1  2  3  4"
      ]
     },
     "execution_count": 39,
     "metadata": {},
     "output_type": "execute_result"
    }
   ],
   "source": [
    "df.iloc[0:1,:]"
   ]
  },
  {
   "cell_type": "code",
   "execution_count": 94,
   "metadata": {},
   "outputs": [
    {
     "data": {
      "application/vnd.microsoft.datawrangler.viewer.v0+json": {
       "columns": [
        {
         "name": "index",
         "rawType": "int64",
         "type": "integer"
        },
        {
         "name": "a",
         "rawType": "int64",
         "type": "integer"
        },
        {
         "name": "b",
         "rawType": "int64",
         "type": "integer"
        },
        {
         "name": "c",
         "rawType": "int64",
         "type": "integer"
        },
        {
         "name": "d",
         "rawType": "int64",
         "type": "integer"
        }
       ],
       "conversionMethod": "pd.DataFrame",
       "ref": "73c8bdd2-3287-4833-b10f-e444e2118483",
       "rows": [
        [
         "0",
         "1",
         "2",
         "3",
         "4"
        ],
        [
         "1",
         "100",
         "200",
         "300",
         "400"
        ]
       ],
       "shape": {
        "columns": 4,
        "rows": 2
       }
      },
      "text/html": [
       "<div>\n",
       "<style scoped>\n",
       "    .dataframe tbody tr th:only-of-type {\n",
       "        vertical-align: middle;\n",
       "    }\n",
       "\n",
       "    .dataframe tbody tr th {\n",
       "        vertical-align: top;\n",
       "    }\n",
       "\n",
       "    .dataframe thead th {\n",
       "        text-align: right;\n",
       "    }\n",
       "</style>\n",
       "<table border=\"1\" class=\"dataframe\">\n",
       "  <thead>\n",
       "    <tr style=\"text-align: right;\">\n",
       "      <th></th>\n",
       "      <th>a</th>\n",
       "      <th>b</th>\n",
       "      <th>c</th>\n",
       "      <th>d</th>\n",
       "    </tr>\n",
       "  </thead>\n",
       "  <tbody>\n",
       "    <tr>\n",
       "      <th>0</th>\n",
       "      <td>1</td>\n",
       "      <td>2</td>\n",
       "      <td>3</td>\n",
       "      <td>4</td>\n",
       "    </tr>\n",
       "    <tr>\n",
       "      <th>1</th>\n",
       "      <td>100</td>\n",
       "      <td>200</td>\n",
       "      <td>300</td>\n",
       "      <td>400</td>\n",
       "    </tr>\n",
       "  </tbody>\n",
       "</table>\n",
       "</div>"
      ],
      "text/plain": [
       "     a    b    c    d\n",
       "0    1    2    3    4\n",
       "1  100  200  300  400"
      ]
     },
     "execution_count": 94,
     "metadata": {},
     "output_type": "execute_result"
    }
   ],
   "source": [
    "df.iloc[[0, 1]]"
   ]
  },
  {
   "cell_type": "code",
   "execution_count": 100,
   "metadata": {},
   "outputs": [
    {
     "data": {
      "application/vnd.microsoft.datawrangler.viewer.v0+json": {
       "columns": [
        {
         "name": "index",
         "rawType": "int64",
         "type": "integer"
        },
        {
         "name": "a",
         "rawType": "int64",
         "type": "integer"
        },
        {
         "name": "b",
         "rawType": "int64",
         "type": "integer"
        },
        {
         "name": "c",
         "rawType": "int64",
         "type": "integer"
        },
        {
         "name": "d",
         "rawType": "int64",
         "type": "integer"
        }
       ],
       "conversionMethod": "pd.DataFrame",
       "ref": "dd326bc2-82cb-449c-9329-097b9be56016",
       "rows": [
        [
         "0",
         "1",
         "2",
         "3",
         "4"
        ],
        [
         "1",
         "100",
         "200",
         "300",
         "400"
        ]
       ],
       "shape": {
        "columns": 4,
        "rows": 2
       }
      },
      "text/html": [
       "<div>\n",
       "<style scoped>\n",
       "    .dataframe tbody tr th:only-of-type {\n",
       "        vertical-align: middle;\n",
       "    }\n",
       "\n",
       "    .dataframe tbody tr th {\n",
       "        vertical-align: top;\n",
       "    }\n",
       "\n",
       "    .dataframe thead th {\n",
       "        text-align: right;\n",
       "    }\n",
       "</style>\n",
       "<table border=\"1\" class=\"dataframe\">\n",
       "  <thead>\n",
       "    <tr style=\"text-align: right;\">\n",
       "      <th></th>\n",
       "      <th>a</th>\n",
       "      <th>b</th>\n",
       "      <th>c</th>\n",
       "      <th>d</th>\n",
       "    </tr>\n",
       "  </thead>\n",
       "  <tbody>\n",
       "    <tr>\n",
       "      <th>0</th>\n",
       "      <td>1</td>\n",
       "      <td>2</td>\n",
       "      <td>3</td>\n",
       "      <td>4</td>\n",
       "    </tr>\n",
       "    <tr>\n",
       "      <th>1</th>\n",
       "      <td>100</td>\n",
       "      <td>200</td>\n",
       "      <td>300</td>\n",
       "      <td>400</td>\n",
       "    </tr>\n",
       "  </tbody>\n",
       "</table>\n",
       "</div>"
      ],
      "text/plain": [
       "     a    b    c    d\n",
       "0    1    2    3    4\n",
       "1  100  200  300  400"
      ]
     },
     "execution_count": 100,
     "metadata": {},
     "output_type": "execute_result"
    }
   ],
   "source": [
    "df.iloc[:2]"
   ]
  },
  {
   "cell_type": "code",
   "execution_count": 101,
   "metadata": {},
   "outputs": [
    {
     "data": {
      "text/plain": [
       "2"
      ]
     },
     "execution_count": 101,
     "metadata": {},
     "output_type": "execute_result"
    }
   ],
   "source": [
    "df.iloc[0, 1]"
   ]
  },
  {
   "cell_type": "code",
   "execution_count": 116,
   "metadata": {},
   "outputs": [
    {
     "name": "stdout",
     "output_type": "stream",
     "text": [
      "1\n",
      "2\n",
      "3\n",
      "4\n",
      "5\n"
     ]
    }
   ],
   "source": [
    "series = pd.Series([1, 2, 3, 4, 5])\n",
    "for i in series:\n",
    "    print(i)"
   ]
  },
  {
   "cell_type": "code",
   "execution_count": 106,
   "metadata": {},
   "outputs": [
    {
     "name": "stdout",
     "output_type": "stream",
     "text": [
      "index0 value 1\n",
      "index1 value 2\n",
      "index2 value 3\n",
      "index3 value 4\n",
      "index4 value 5\n"
     ]
    }
   ],
   "source": [
    "for i,v in series.items():\n",
    "    print(f\"index{i} value {v}\")"
   ]
  },
  {
   "cell_type": "code",
   "execution_count": 109,
   "metadata": {},
   "outputs": [
    {
     "data": {
      "text/plain": [
       "<bound method Series.keys of 0    1\n",
       "1    2\n",
       "2    3\n",
       "3    4\n",
       "4    5\n",
       "dtype: int64>"
      ]
     },
     "execution_count": 109,
     "metadata": {},
     "output_type": "execute_result"
    }
   ],
   "source": [
    "series.keys"
   ]
  },
  {
   "cell_type": "code",
   "execution_count": 111,
   "metadata": {},
   "outputs": [
    {
     "data": {
      "text/plain": [
       "array([1, 2, 3, 4, 5], dtype=int64)"
      ]
     },
     "execution_count": 111,
     "metadata": {},
     "output_type": "execute_result"
    }
   ],
   "source": [
    "series.values"
   ]
  },
  {
   "cell_type": "code",
   "execution_count": 117,
   "metadata": {},
   "outputs": [
    {
     "name": "stdout",
     "output_type": "stream",
     "text": [
      "1    2\n",
      "2    3\n",
      "3    4\n",
      "4    5\n",
      "dtype: int64\n"
     ]
    }
   ],
   "source": [
    "series.pop(0)\n",
    "print(series)"
   ]
  },
  {
   "cell_type": "code",
   "execution_count": 119,
   "metadata": {},
   "outputs": [],
   "source": [
    "import pandas as pd\n",
    "\n",
    "data = {\"num_legs\": [4, 4, 2, 2], \"num_wings\": [0, 0, 2, 2]}\n",
    "\n",
    "index = pd.MultiIndex.from_tuples(\n",
    "    [\n",
    "        (\"mammal\", \"cat\", \"walks\"),\n",
    "        (\"mammal\", \"dog\", \"walks\"),\n",
    "        (\"mammal\", \"bat\", \"flies\"),\n",
    "        (\"bird\", \"penguin\", \"walks\"),\n",
    "    ],\n",
    "    names=[\"class\", \"animal\", \"locomotion\"],\n",
    ")\n",
    "\n",
    "df = pd.DataFrame(data, index=index)"
   ]
  },
  {
   "cell_type": "code",
   "execution_count": null,
   "metadata": {},
   "outputs": [
    {
     "name": "stdout",
     "output_type": "stream",
     "text": [
      "                           num_legs  num_wings\n",
      "class  animal  locomotion                     \n",
      "mammal cat     walks              4          0\n",
      "       dog     walks              4          0\n",
      "       bat     flies              2          2\n",
      "bird   penguin walks              2          2\n"
     ]
    }
   ],
   "source": [
    "print(df)"
   ]
  },
  {
   "cell_type": "code",
   "execution_count": 126,
   "metadata": {},
   "outputs": [
    {
     "name": "stdout",
     "output_type": "stream",
     "text": [
      "                   num_legs  num_wings\n",
      "animal locomotion                     \n",
      "cat    walks              4          0\n",
      "dog    walks              4          0\n",
      "bat    flies              2          2\n"
     ]
    }
   ],
   "source": [
    "print(df.xs(\"mammal\"))"
   ]
  },
  {
   "cell_type": "code",
   "execution_count": 127,
   "metadata": {},
   "outputs": [
    {
     "name": "stdout",
     "output_type": "stream",
     "text": [
      "                   num_legs  num_wings\n",
      "class  locomotion                     \n",
      "mammal walks              4          0\n"
     ]
    }
   ],
   "source": [
    "print(df.xs(\"cat\", level=\"animal\"))"
   ]
  },
  {
   "cell_type": "code",
   "execution_count": 41,
   "metadata": {},
   "outputs": [
    {
     "name": "stdout",
     "output_type": "stream",
     "text": [
      "0    11\n",
      "1    12\n",
      "2    13\n",
      "3    14\n",
      "4    15\n",
      "dtype: int64\n"
     ]
    }
   ],
   "source": [
    "series = pd.Series([1,2,3,4,5])\n",
    "series = series.add(10)\n",
    "print(series)"
   ]
  },
  {
   "cell_type": "code",
   "execution_count": 43,
   "metadata": {},
   "outputs": [
    {
     "name": "stdout",
     "output_type": "stream",
     "text": [
      "0    11\n",
      "1    12\n",
      "2    13\n",
      "3    14\n",
      "4    15\n",
      "dtype: int64\n"
     ]
    }
   ],
   "source": [
    "series = pd.Series([1, 2, 3, 4, 5])\n",
    "series = series+10\n",
    "print(series)"
   ]
  },
  {
   "cell_type": "code",
   "execution_count": 134,
   "metadata": {},
   "outputs": [
    {
     "name": "stdout",
     "output_type": "stream",
     "text": [
      "0   -9\n",
      "1   -8\n",
      "2   -7\n",
      "3   -6\n",
      "4   -5\n",
      "dtype: int64\n"
     ]
    }
   ],
   "source": [
    "series = pd.Series([1, 2, 3, 4, 5])\n",
    "series = series.sub(10)\n",
    "print(series)"
   ]
  },
  {
   "cell_type": "code",
   "execution_count": 135,
   "metadata": {},
   "outputs": [
    {
     "name": "stdout",
     "output_type": "stream",
     "text": [
      "0    0.1\n",
      "1    0.2\n",
      "2    0.3\n",
      "3    0.4\n",
      "4    0.5\n",
      "dtype: float64\n"
     ]
    }
   ],
   "source": [
    "series = pd.Series([1, 2, 3, 4, 5])\n",
    "series = series.div(10)\n",
    "print(series)"
   ]
  },
  {
   "cell_type": "code",
   "execution_count": null,
   "metadata": {},
   "outputs": [],
   "source": [
    "series_1 = pd.Series([1,2,3,4,5])\n",
    "series_2 = pd.Series([1,2,3,4,5])\n",
    "\n",
    "print(series_1 + series_2)\n",
    "print(series_1 - series_2)\n",
    "print(series_1 * series_2)\n",
    "print(series_1 / series_2)\n",
    "print(series_1 ** series_2)\n",
    "print(series_1 % series_2)\n",
    "print(series_1 // series_2)\n",
    "print(series_1 & series_2)\n",
    "print(series_1 | series_2)\n",
    "print(series_1 ^ series_2)\n",
    "print(series_1 > series_2)\n",
    "print(series_1 < series_2)\n",
    "print(series_1 >= series_2)\n",
    "print(series_1 <= series_2)\n",
    "print(series_1 == series_2)\n"
   ]
  },
  {
   "cell_type": "code",
   "execution_count": 137,
   "metadata": {},
   "outputs": [
    {
     "data": {
      "text/plain": [
       "55"
      ]
     },
     "execution_count": 137,
     "metadata": {},
     "output_type": "execute_result"
    }
   ],
   "source": [
    "series_1.dot(series_2)"
   ]
  },
  {
   "cell_type": "markdown",
   "metadata": {},
   "source": [
    "apply() "
   ]
  },
  {
   "cell_type": "markdown",
   "metadata": {},
   "source": [
    "function allows you to apply a function (either a built-in function, a NumPy function, or a custom Python function) to each element in a Pandas Series. This is useful for element-wise transformations."
   ]
  },
  {
   "cell_type": "markdown",
   "metadata": {},
   "source": [
    "How apply() Works\n",
    "- apply() applies a given function to each element of the Series. The function can be:\n",
    "    - A Python function\n",
    "    - A NumPy universal function (ufunc)\n",
    "    - A lambda function (anonymous function)"
   ]
  },
  {
   "cell_type": "markdown",
   "metadata": {},
   "source": [
    "### Parameters:\n",
    "\n",
    "- func (function) → The function to apply to each element of the Series.\n",
    "    - convert_dtype (bool, default=True, deprecated in pandas 2.1.0)\n",
    "    If True, pandas tries to automatically determine a better data type for the result.\n",
    "    If False, results are kept as object dtype.\n",
    "    Deprecated: Instead of convert_dtype=False, use ser.astype(object).apply().\n",
    "\n",
    "- args (tuple) → Additional positional arguments to pass to the function.\n",
    "- by_row (False or \"compat\", default=\"compat\")\n",
    "    \"compat\" (default): The function is applied element-wise (like Series.map()).\n",
    "    False: The function receives the entire Series at once.\n",
    "    New in pandas 2.1.0\n",
    "- kwargs (dict) → Additional keyword arguments passed to the function."
   ]
  },
  {
   "cell_type": "code",
   "execution_count": 139,
   "metadata": {},
   "outputs": [],
   "source": [
    "s = pd.Series([20, 21, 12], index=[\"London\", \"New York\", \"Helsinki\"])"
   ]
  },
  {
   "cell_type": "code",
   "execution_count": 141,
   "metadata": {},
   "outputs": [
    {
     "data": {
      "text/plain": [
       "London      160000\n",
       "New York    194481\n",
       "Helsinki     20736\n",
       "dtype: int64"
      ]
     },
     "execution_count": 141,
     "metadata": {},
     "output_type": "execute_result"
    }
   ],
   "source": [
    "s = s ** 2\n",
    "s"
   ]
  },
  {
   "cell_type": "code",
   "execution_count": 143,
   "metadata": {},
   "outputs": [
    {
     "data": {
      "text/plain": [
       "London      25600000000\n",
       "New York    37822859361\n",
       "Helsinki      429981696\n",
       "dtype: int64"
      ]
     },
     "execution_count": 143,
     "metadata": {},
     "output_type": "execute_result"
    }
   ],
   "source": [
    "def square(x):\n",
    "    return x**2\n",
    "\n",
    "s.apply(square)"
   ]
  },
  {
   "cell_type": "code",
   "execution_count": 142,
   "metadata": {},
   "outputs": [
    {
     "data": {
      "text/plain": [
       "London      25600000000\n",
       "New York    37822859361\n",
       "Helsinki      429981696\n",
       "dtype: int64"
      ]
     },
     "execution_count": 142,
     "metadata": {},
     "output_type": "execute_result"
    }
   ],
   "source": [
    "s.apply(lambda x : x**2)"
   ]
  },
  {
   "cell_type": "code",
   "execution_count": null,
   "metadata": {},
   "outputs": [
    {
     "data": {
      "text/plain": [
       "London      159995\n",
       "New York    194476\n",
       "Helsinki     20731\n",
       "dtype: int64"
      ]
     },
     "execution_count": 144,
     "metadata": {},
     "output_type": "execute_result"
    }
   ],
   "source": [
    "def subtract_custom_value(x, custom_value):\n",
    "    return x - custom_value\n",
    "\n",
    "s.apply(subtract_custom_value, args=(5,))"
   ]
  },
  {
   "cell_type": "code",
   "execution_count": 48,
   "metadata": {},
   "outputs": [
    {
     "data": {
      "text/plain": [
       "0    77\n",
       "1    79\n",
       "2    81\n",
       "3    83\n",
       "4    85\n",
       "dtype: int64"
      ]
     },
     "execution_count": 48,
     "metadata": {},
     "output_type": "execute_result"
    }
   ],
   "source": [
    "s = pd.Series([2,4,6,8,10])\n",
    "\n",
    "def add_custom_values(x, **kwargs):\n",
    "    for month in kwargs:\n",
    "        x += kwargs[month]\n",
    "    return x\n",
    "\n",
    "s.apply(add_custom_values, june=30, july=20, august=25)"
   ]
  },
  {
   "cell_type": "code",
   "execution_count": 146,
   "metadata": {},
   "outputs": [
    {
     "data": {
      "text/plain": [
       "London      11.982929\n",
       "New York    12.178090\n",
       "Helsinki     9.939627\n",
       "dtype: float64"
      ]
     },
     "execution_count": 146,
     "metadata": {},
     "output_type": "execute_result"
    }
   ],
   "source": [
    "import numpy as np\n",
    "\n",
    "s.apply(np.log)"
   ]
  },
  {
   "cell_type": "markdown",
   "metadata": {},
   "source": [
    "agg"
   ]
  },
  {
   "cell_type": "markdown",
   "metadata": {},
   "source": [
    "<dd class=\"field-odd\"><dl>\n",
    "<dt><strong>func</strong><span class=\"classifier\">function, str, list or dict</span></dt><dd><p>Function to use for aggregating the data. If a function, must either\n",
    "work when passed a Series or when passed to Series.apply.</p>\n",
    "<p>Accepted combinations are:</p>\n",
    "<ul class=\"simple\">\n",
    "<li><p>function</p></li>\n",
    "<li><p>string function name</p></li>\n",
    "<li><p>list of functions and/or function names, e.g. <code class=\"docutils literal notranslate\"><span class=\"pre\">[np.sum,</span> <span class=\"pre\">'mean']</span></code></p></li>\n",
    "<li><p>dict of axis labels -&gt; functions, function names or list of such.</p></li>\n",
    "</ul>\n",
    "</dd>\n",
    "<dt><strong>axis</strong><span class=\"classifier\">{0 or ‘index’}</span></dt><dd><p>Unused. Parameter needed for compatibility with DataFrame.</p>\n",
    "</dd>\n",
    "<dt><strong>*args</strong></dt><dd><p>Positional arguments to pass to <cite>func</cite>.</p>\n",
    "</dd>\n",
    "<dt><strong>**kwargs</strong></dt><dd><p>Keyword arguments to pass to <cite>func</cite>.</p>\n",
    "</dd>\n",
    "</dl>\n",
    "</dd>"
   ]
  },
  {
   "cell_type": "code",
   "execution_count": 49,
   "metadata": {},
   "outputs": [],
   "source": [
    "s = pd.Series([1, 2, 3, 4, 5, 6, 7, 8, 9, 10])"
   ]
  },
  {
   "cell_type": "code",
   "execution_count": 55,
   "metadata": {},
   "outputs": [
    {
     "name": "stdout",
     "output_type": "stream",
     "text": [
      "1\n",
      "10\n",
      "5.5\n",
      "55\n",
      "3.0276503540974917\n",
      "9.166666666666666\n",
      "0.0\n",
      "-1.2000000000000002\n",
      "5.5\n",
      "10\n"
     ]
    }
   ],
   "source": [
    "print(s.agg(\"min\"))\n",
    "print(s.agg(\"max\"))\n",
    "print(s.agg(\"mean\"))\n",
    "print(s.agg(\"sum\"))\n",
    "print(s.agg(\"std\"))\n",
    "print(s.agg(\"var\"))\n",
    "print(s.agg(\"skew\"))\n",
    "print(s.agg(\"kurt\"))\n",
    "print(s.agg(\"median\"))\n",
    "print(s.agg(\"nunique\"))"
   ]
  },
  {
   "cell_type": "code",
   "execution_count": 56,
   "metadata": {},
   "outputs": [
    {
     "data": {
      "text/plain": [
       "min     1\n",
       "max    10\n",
       "dtype: int64"
      ]
     },
     "execution_count": 56,
     "metadata": {},
     "output_type": "execute_result"
    }
   ],
   "source": [
    "s.agg([\"min\",\"max\"])"
   ]
  },
  {
   "cell_type": "code",
   "execution_count": 57,
   "metadata": {},
   "outputs": [
    {
     "data": {
      "text/plain": [
       "9"
      ]
     },
     "execution_count": 57,
     "metadata": {},
     "output_type": "execute_result"
    }
   ],
   "source": [
    "s.agg(lambda x: x.max() - x.min())"
   ]
  },
  {
   "cell_type": "code",
   "execution_count": 58,
   "metadata": {},
   "outputs": [
    {
     "data": {
      "application/vnd.microsoft.datawrangler.viewer.v0+json": {
       "columns": [
        {
         "name": "index",
         "rawType": "int64",
         "type": "integer"
        },
        {
         "name": "A",
         "rawType": "int64",
         "type": "integer"
        },
        {
         "name": "B",
         "rawType": "int64",
         "type": "integer"
        },
        {
         "name": "C",
         "rawType": "int64",
         "type": "integer"
        }
       ],
       "conversionMethod": "pd.DataFrame",
       "ref": "f7ed6af0-19ba-462c-89a0-f6a99edcb394",
       "rows": [
        [
         "0",
         "1",
         "11",
         "21"
        ],
        [
         "1",
         "2",
         "12",
         "22"
        ],
        [
         "2",
         "3",
         "13",
         "23"
        ],
        [
         "3",
         "4",
         "14",
         "24"
        ],
        [
         "4",
         "5",
         "15",
         "25"
        ]
       ],
       "shape": {
        "columns": 3,
        "rows": 5
       }
      },
      "text/html": [
       "<div>\n",
       "<style scoped>\n",
       "    .dataframe tbody tr th:only-of-type {\n",
       "        vertical-align: middle;\n",
       "    }\n",
       "\n",
       "    .dataframe tbody tr th {\n",
       "        vertical-align: top;\n",
       "    }\n",
       "\n",
       "    .dataframe thead th {\n",
       "        text-align: right;\n",
       "    }\n",
       "</style>\n",
       "<table border=\"1\" class=\"dataframe\">\n",
       "  <thead>\n",
       "    <tr style=\"text-align: right;\">\n",
       "      <th></th>\n",
       "      <th>A</th>\n",
       "      <th>B</th>\n",
       "      <th>C</th>\n",
       "    </tr>\n",
       "  </thead>\n",
       "  <tbody>\n",
       "    <tr>\n",
       "      <th>0</th>\n",
       "      <td>1</td>\n",
       "      <td>11</td>\n",
       "      <td>21</td>\n",
       "    </tr>\n",
       "    <tr>\n",
       "      <th>1</th>\n",
       "      <td>2</td>\n",
       "      <td>12</td>\n",
       "      <td>22</td>\n",
       "    </tr>\n",
       "    <tr>\n",
       "      <th>2</th>\n",
       "      <td>3</td>\n",
       "      <td>13</td>\n",
       "      <td>23</td>\n",
       "    </tr>\n",
       "    <tr>\n",
       "      <th>3</th>\n",
       "      <td>4</td>\n",
       "      <td>14</td>\n",
       "      <td>24</td>\n",
       "    </tr>\n",
       "    <tr>\n",
       "      <th>4</th>\n",
       "      <td>5</td>\n",
       "      <td>15</td>\n",
       "      <td>25</td>\n",
       "    </tr>\n",
       "  </tbody>\n",
       "</table>\n",
       "</div>"
      ],
      "text/plain": [
       "   A   B   C\n",
       "0  1  11  21\n",
       "1  2  12  22\n",
       "2  3  13  23\n",
       "3  4  14  24\n",
       "4  5  15  25"
      ]
     },
     "execution_count": 58,
     "metadata": {},
     "output_type": "execute_result"
    }
   ],
   "source": [
    "df = pd.DataFrame(\n",
    "    {\n",
    "        \"A\":range(1, 11),\n",
    "        \"B\":range(11, 21),\n",
    "        \"C\":range(21, 31)\n",
    "    }\n",
    ")\n",
    "df.head()"
   ]
  },
  {
   "cell_type": "code",
   "execution_count": 59,
   "metadata": {},
   "outputs": [
    {
     "data": {
      "application/vnd.microsoft.datawrangler.viewer.v0+json": {
       "columns": [
        {
         "name": "index",
         "rawType": "object",
         "type": "string"
        },
        {
         "name": "A",
         "rawType": "float64",
         "type": "float"
        },
        {
         "name": "B",
         "rawType": "float64",
         "type": "float"
        }
       ],
       "conversionMethod": "pd.DataFrame",
       "ref": "5c3aa2aa-2521-4720-8ddb-f718a40a3314",
       "rows": [
        [
         "sum",
         "55.0",
         null
        ],
        [
         "mean",
         "5.5",
         null
        ],
        [
         "min",
         null,
         "11.0"
        ],
        [
         "max",
         null,
         "20.0"
        ]
       ],
       "shape": {
        "columns": 2,
        "rows": 4
       }
      },
      "text/html": [
       "<div>\n",
       "<style scoped>\n",
       "    .dataframe tbody tr th:only-of-type {\n",
       "        vertical-align: middle;\n",
       "    }\n",
       "\n",
       "    .dataframe tbody tr th {\n",
       "        vertical-align: top;\n",
       "    }\n",
       "\n",
       "    .dataframe thead th {\n",
       "        text-align: right;\n",
       "    }\n",
       "</style>\n",
       "<table border=\"1\" class=\"dataframe\">\n",
       "  <thead>\n",
       "    <tr style=\"text-align: right;\">\n",
       "      <th></th>\n",
       "      <th>A</th>\n",
       "      <th>B</th>\n",
       "    </tr>\n",
       "  </thead>\n",
       "  <tbody>\n",
       "    <tr>\n",
       "      <th>sum</th>\n",
       "      <td>55.0</td>\n",
       "      <td>NaN</td>\n",
       "    </tr>\n",
       "    <tr>\n",
       "      <th>mean</th>\n",
       "      <td>5.5</td>\n",
       "      <td>NaN</td>\n",
       "    </tr>\n",
       "    <tr>\n",
       "      <th>min</th>\n",
       "      <td>NaN</td>\n",
       "      <td>11.0</td>\n",
       "    </tr>\n",
       "    <tr>\n",
       "      <th>max</th>\n",
       "      <td>NaN</td>\n",
       "      <td>20.0</td>\n",
       "    </tr>\n",
       "  </tbody>\n",
       "</table>\n",
       "</div>"
      ],
      "text/plain": [
       "         A     B\n",
       "sum   55.0   NaN\n",
       "mean   5.5   NaN\n",
       "min    NaN  11.0\n",
       "max    NaN  20.0"
      ]
     },
     "execution_count": 59,
     "metadata": {},
     "output_type": "execute_result"
    }
   ],
   "source": [
    "df.agg({'A':['sum','mean'],'B':['min','max']})"
   ]
  },
  {
   "cell_type": "markdown",
   "metadata": {},
   "source": [
    "transform"
   ]
  },
  {
   "cell_type": "markdown",
   "metadata": {},
   "source": [
    "<dl class=\"field-list\">\n",
    "<dt class=\"field-odd\">Parameters<span class=\"colon\">:</span></dt>\n",
    "<dd class=\"field-odd\"><dl>\n",
    "<dt><strong>func</strong><span class=\"classifier\">function, str, list-like or dict-like</span></dt><dd><p>Function to use for transforming the data. If a function, must either\n",
    "work when passed a Series or when passed to Series.apply. If func\n",
    "is both list-like and dict-like, dict-like behavior takes precedence.</p>\n",
    "<p>Accepted combinations are:</p>\n",
    "<ul class=\"simple\">\n",
    "<li><p>function</p></li>\n",
    "<li><p>string function name</p></li>\n",
    "<li><p>list-like of functions and/or function names, e.g. <code class=\"docutils literal notranslate\"><span class=\"pre\">[np.exp,</span> <span class=\"pre\">'sqrt']</span></code></p></li>\n",
    "<li><p>dict-like of axis labels -&gt; functions, function names or list-like of such.</p></li>\n",
    "</ul>\n",
    "</dd>\n",
    "<dt><strong>axis</strong><span class=\"classifier\">{0 or ‘index’}</span></dt><dd><p>Unused. Parameter needed for compatibility with DataFrame.</p>\n",
    "</dd>\n",
    "<dt><strong>*args</strong></dt><dd><p>Positional arguments to pass to <cite>func</cite>.</p>\n",
    "</dd>\n",
    "<dt><strong>**kwargs</strong></dt><dd><p>Keyword arguments to pass to <cite>func</cite>.</p>\n",
    "</dd>\n",
    "</dl>\n",
    "</dd>\n",
    "<dt class=\"field-even\">Returns<span class=\"colon\">:</span></dt>\n",
    "<dd class=\"field-even\"><dl class=\"simple\">\n",
    "<dt>Series</dt><dd><p>A Series that must have the same length as self.</p>\n",
    "</dd>\n",
    "</dl>\n",
    "</dd>\n",
    "<dt class=\"field-odd\">Raises<span class=\"colon\">:</span></dt>\n",
    "<dd class=\"field-odd\"><dl class=\"simple\">\n",
    "<dt><strong>ValueError</strong><span class=\"classifier\">If the returned Series has a different length than self.</span></dt><dd></dd>\n",
    "</dl>\n",
    "</dd>\n",
    "</dl>"
   ]
  },
  {
   "cell_type": "code",
   "execution_count": 60,
   "metadata": {},
   "outputs": [
    {
     "name": "stdout",
     "output_type": "stream",
     "text": [
      "0     1\n",
      "1     4\n",
      "2     9\n",
      "3    16\n",
      "dtype: int64\n"
     ]
    }
   ],
   "source": [
    "s = pd.Series([1, 2, 3, 4])\n",
    "\n",
    "# Apply a function that squares each value\n",
    "result = s.transform(lambda x: x**2)\n",
    "print(result)"
   ]
  },
  {
   "cell_type": "code",
   "execution_count": 61,
   "metadata": {},
   "outputs": [
    {
     "data": {
      "text/plain": [
       "0    1.000000\n",
       "1    1.414214\n",
       "2    1.732051\n",
       "3    2.000000\n",
       "dtype: float64"
      ]
     },
     "execution_count": 61,
     "metadata": {},
     "output_type": "execute_result"
    }
   ],
   "source": [
    "s.transform(\"sqrt\")  # Computes square root"
   ]
  },
  {
   "cell_type": "code",
   "execution_count": 64,
   "metadata": {},
   "outputs": [
    {
     "data": {
      "application/vnd.microsoft.datawrangler.viewer.v0+json": {
       "columns": [
        {
         "name": "index",
         "rawType": "int64",
         "type": "integer"
        },
        {
         "name": "sqrt",
         "rawType": "float64",
         "type": "float"
        },
        {
         "name": "exp",
         "rawType": "float64",
         "type": "float"
        }
       ],
       "conversionMethod": "pd.DataFrame",
       "ref": "00880e3d-c97b-4468-8ca3-b5d3e361661a",
       "rows": [
        [
         "0",
         "1.0",
         "2.718281828459045"
        ],
        [
         "1",
         "1.4142135623730951",
         "7.38905609893065"
        ],
        [
         "2",
         "1.7320508075688772",
         "20.085536923187668"
        ],
        [
         "3",
         "2.0",
         "54.598150033144236"
        ]
       ],
       "shape": {
        "columns": 2,
        "rows": 4
       }
      },
      "text/html": [
       "<div>\n",
       "<style scoped>\n",
       "    .dataframe tbody tr th:only-of-type {\n",
       "        vertical-align: middle;\n",
       "    }\n",
       "\n",
       "    .dataframe tbody tr th {\n",
       "        vertical-align: top;\n",
       "    }\n",
       "\n",
       "    .dataframe thead th {\n",
       "        text-align: right;\n",
       "    }\n",
       "</style>\n",
       "<table border=\"1\" class=\"dataframe\">\n",
       "  <thead>\n",
       "    <tr style=\"text-align: right;\">\n",
       "      <th></th>\n",
       "      <th>sqrt</th>\n",
       "      <th>exp</th>\n",
       "    </tr>\n",
       "  </thead>\n",
       "  <tbody>\n",
       "    <tr>\n",
       "      <th>0</th>\n",
       "      <td>1.000000</td>\n",
       "      <td>2.718282</td>\n",
       "    </tr>\n",
       "    <tr>\n",
       "      <th>1</th>\n",
       "      <td>1.414214</td>\n",
       "      <td>7.389056</td>\n",
       "    </tr>\n",
       "    <tr>\n",
       "      <th>2</th>\n",
       "      <td>1.732051</td>\n",
       "      <td>20.085537</td>\n",
       "    </tr>\n",
       "    <tr>\n",
       "      <th>3</th>\n",
       "      <td>2.000000</td>\n",
       "      <td>54.598150</td>\n",
       "    </tr>\n",
       "  </tbody>\n",
       "</table>\n",
       "</div>"
      ],
      "text/plain": [
       "       sqrt        exp\n",
       "0  1.000000   2.718282\n",
       "1  1.414214   7.389056\n",
       "2  1.732051  20.085537\n",
       "3  2.000000  54.598150"
      ]
     },
     "execution_count": 64,
     "metadata": {},
     "output_type": "execute_result"
    }
   ],
   "source": [
    "import numpy as np\n",
    "\n",
    "s.transform([np.sqrt, np.exp])"
   ]
  },
  {
   "cell_type": "code",
   "execution_count": 95,
   "metadata": {},
   "outputs": [
    {
     "data": {
      "application/vnd.microsoft.datawrangler.viewer.v0+json": {
       "columns": [
        {
         "name": "index",
         "rawType": "int64",
         "type": "integer"
        },
        {
         "name": "Date",
         "rawType": "object",
         "type": "string"
        },
        {
         "name": "Data",
         "rawType": "int64",
         "type": "integer"
        }
       ],
       "conversionMethod": "pd.DataFrame",
       "ref": "001e01be-31b9-4eb0-8f33-3d4a0ea760da",
       "rows": [
        [
         "0",
         "2024-03-01",
         "10"
        ],
        [
         "1",
         "2024-03-01",
         "20"
        ],
        [
         "2",
         "2024-03-02",
         "30"
        ],
        [
         "3",
         "2024-03-02",
         "40"
        ]
       ],
       "shape": {
        "columns": 2,
        "rows": 4
       }
      },
      "text/html": [
       "<div>\n",
       "<style scoped>\n",
       "    .dataframe tbody tr th:only-of-type {\n",
       "        vertical-align: middle;\n",
       "    }\n",
       "\n",
       "    .dataframe tbody tr th {\n",
       "        vertical-align: top;\n",
       "    }\n",
       "\n",
       "    .dataframe thead th {\n",
       "        text-align: right;\n",
       "    }\n",
       "</style>\n",
       "<table border=\"1\" class=\"dataframe\">\n",
       "  <thead>\n",
       "    <tr style=\"text-align: right;\">\n",
       "      <th></th>\n",
       "      <th>Date</th>\n",
       "      <th>Data</th>\n",
       "    </tr>\n",
       "  </thead>\n",
       "  <tbody>\n",
       "    <tr>\n",
       "      <th>0</th>\n",
       "      <td>2024-03-01</td>\n",
       "      <td>10</td>\n",
       "    </tr>\n",
       "    <tr>\n",
       "      <th>1</th>\n",
       "      <td>2024-03-01</td>\n",
       "      <td>20</td>\n",
       "    </tr>\n",
       "    <tr>\n",
       "      <th>2</th>\n",
       "      <td>2024-03-02</td>\n",
       "      <td>30</td>\n",
       "    </tr>\n",
       "    <tr>\n",
       "      <th>3</th>\n",
       "      <td>2024-03-02</td>\n",
       "      <td>40</td>\n",
       "    </tr>\n",
       "  </tbody>\n",
       "</table>\n",
       "</div>"
      ],
      "text/plain": [
       "         Date  Data\n",
       "0  2024-03-01    10\n",
       "1  2024-03-01    20\n",
       "2  2024-03-02    30\n",
       "3  2024-03-02    40"
      ]
     },
     "execution_count": 95,
     "metadata": {},
     "output_type": "execute_result"
    }
   ],
   "source": [
    "df = pd.DataFrame(\n",
    "    {\n",
    "        \"Date\": [\"2024-03-01\", \"2024-03-01\", \"2024-03-02\", \"2024-03-02\"],\n",
    "        \"Data\": [10, 20, 30, 40],\n",
    "    \n",
    "    }\n",
    ")\n",
    "\n",
    "df"
   ]
  },
  {
   "cell_type": "code",
   "execution_count": null,
   "metadata": {},
   "outputs": [
    {
     "data": {
      "text/plain": [
       "Date\n",
       "2024-03-01    30\n",
       "2024-03-02    70\n",
       "Name: Data, dtype: int64"
      ]
     },
     "execution_count": 87,
     "metadata": {},
     "output_type": "execute_result"
    }
   ],
   "source": [
    "df.groupby(\"Date\")[\"Data\"].sum()"
   ]
  },
  {
   "cell_type": "code",
   "execution_count": 136,
   "metadata": {},
   "outputs": [],
   "source": [
    "df[\"Total\"] = list(range(df.shape[0]))"
   ]
  },
  {
   "cell_type": "code",
   "execution_count": null,
   "metadata": {},
   "outputs": [],
   "source": [
    "for i in df.index:\n",
    "    if df.iloc[i,0] == \"2024-03-01\":\n",
    "        df.iloc[i, 2] = \"30\"\n",
    "    else:\n",
    "        df.iloc[i, 2] = \"70\""
   ]
  },
  {
   "cell_type": "code",
   "execution_count": 135,
   "metadata": {},
   "outputs": [
    {
     "data": {
      "application/vnd.microsoft.datawrangler.viewer.v0+json": {
       "columns": [
        {
         "name": "index",
         "rawType": "int64",
         "type": "integer"
        },
        {
         "name": "Date",
         "rawType": "object",
         "type": "string"
        },
        {
         "name": "Data",
         "rawType": "int64",
         "type": "integer"
        },
        {
         "name": "Total",
         "rawType": "object",
         "type": "string"
        }
       ],
       "conversionMethod": "pd.DataFrame",
       "ref": "1fac5223-6bc9-4e40-b894-eff48c7ac59c",
       "rows": [
        [
         "0",
         "2024-03-01",
         "10",
         "70"
        ],
        [
         "1",
         "2024-03-01",
         "20",
         "70"
        ],
        [
         "2",
         "2024-03-02",
         "30",
         "30"
        ],
        [
         "3",
         "2024-03-02",
         "40",
         "30"
        ]
       ],
       "shape": {
        "columns": 3,
        "rows": 4
       }
      },
      "text/html": [
       "<div>\n",
       "<style scoped>\n",
       "    .dataframe tbody tr th:only-of-type {\n",
       "        vertical-align: middle;\n",
       "    }\n",
       "\n",
       "    .dataframe tbody tr th {\n",
       "        vertical-align: top;\n",
       "    }\n",
       "\n",
       "    .dataframe thead th {\n",
       "        text-align: right;\n",
       "    }\n",
       "</style>\n",
       "<table border=\"1\" class=\"dataframe\">\n",
       "  <thead>\n",
       "    <tr style=\"text-align: right;\">\n",
       "      <th></th>\n",
       "      <th>Date</th>\n",
       "      <th>Data</th>\n",
       "      <th>Total</th>\n",
       "    </tr>\n",
       "  </thead>\n",
       "  <tbody>\n",
       "    <tr>\n",
       "      <th>0</th>\n",
       "      <td>2024-03-01</td>\n",
       "      <td>10</td>\n",
       "      <td>70</td>\n",
       "    </tr>\n",
       "    <tr>\n",
       "      <th>1</th>\n",
       "      <td>2024-03-01</td>\n",
       "      <td>20</td>\n",
       "      <td>70</td>\n",
       "    </tr>\n",
       "    <tr>\n",
       "      <th>2</th>\n",
       "      <td>2024-03-02</td>\n",
       "      <td>30</td>\n",
       "      <td>30</td>\n",
       "    </tr>\n",
       "    <tr>\n",
       "      <th>3</th>\n",
       "      <td>2024-03-02</td>\n",
       "      <td>40</td>\n",
       "      <td>30</td>\n",
       "    </tr>\n",
       "  </tbody>\n",
       "</table>\n",
       "</div>"
      ],
      "text/plain": [
       "         Date  Data Total\n",
       "0  2024-03-01    10    70\n",
       "1  2024-03-01    20    70\n",
       "2  2024-03-02    30    30\n",
       "3  2024-03-02    40    30"
      ]
     },
     "execution_count": 135,
     "metadata": {},
     "output_type": "execute_result"
    }
   ],
   "source": [
    "df.head()"
   ]
  },
  {
   "cell_type": "code",
   "execution_count": 81,
   "metadata": {},
   "outputs": [
    {
     "name": "stdout",
     "output_type": "stream",
     "text": [
      "         Date  Data  Total\n",
      "0  2024-03-01    10     30\n",
      "1  2024-03-01    20     30\n",
      "2  2024-03-02    30     70\n",
      "3  2024-03-02    40     70\n"
     ]
    }
   ],
   "source": [
    "df[\"Total\"] = df.groupby(\"Date\")[\"Data\"].transform(\"sum\")\n",
    "print(df)"
   ]
  },
  {
   "attachments": {
    "image.png": {
     "image/png": "[encoded data removed]"
    }
   },
   "cell_type": "markdown",
   "metadata": {},
   "source": [
    "![image.png](attachment:image.png)"
   ]
  },
  {
   "cell_type": "markdown",
   "metadata": {},
   "source": [
    "map"
   ]
  },
  {
   "cell_type": "markdown",
   "metadata": {},
   "source": [
    "Parameters:\n",
    "- function, collections.abc.Mapping subclass or Series\n",
    "Mapping correspondence.\n",
    "\n",
    "- na_action\n",
    "{None, ‘ignore’}, default None\n",
    "If ‘ignore’, propagate NaN values, without passing them to the mapping correspondence."
   ]
  },
  {
   "cell_type": "code",
   "execution_count": 138,
   "metadata": {},
   "outputs": [
    {
     "name": "stdout",
     "output_type": "stream",
     "text": [
      "0       CAT\n",
      "1       DOG\n",
      "2    RABBIT\n",
      "dtype: object\n"
     ]
    }
   ],
   "source": [
    "animal = pd.Series([\"cat\", \"dog\", \"rabbit\"])\n",
    "\n",
    "animal_upper = animal.map(str.upper)\n",
    "print(animal_upper)"
   ]
  },
  {
   "cell_type": "code",
   "execution_count": null,
   "metadata": {},
   "outputs": [
    {
     "name": "stdout",
     "output_type": "stream",
     "text": [
      "0       I am a cat\n",
      "1       I am a dog\n",
      "2    I am a rabbit\n",
      "dtype: object\n"
     ]
    }
   ],
   "source": [
    "s = pd.Series([\"cat\", \"dog\", \"rabbit\"])\n",
    "\n",
    "s_sentence = s.map(lambda x: f\"I am a {x}\")\n",
    "print(s_sentence)"
   ]
  },
  {
   "cell_type": "code",
   "execution_count": null,
   "metadata": {},
   "outputs": [
    {
     "name": "stdout",
     "output_type": "stream",
     "text": [
      "0       I am a cat\n",
      "1       I am a dog\n",
      "2              NaN\n",
      "3    I am a rabbit\n",
      "dtype: object\n"
     ]
    }
   ],
   "source": [
    "s = pd.Series([\"cat\", \"dog\", np.nan, \"rabbit\"])\n",
    "\n",
    "s_mapped = s.map(lambda x: f\"I am a {x}\", na_action=\"ignore\")\n",
    "print(s_mapped)"
   ]
  },
  {
   "cell_type": "code",
   "execution_count": 193,
   "metadata": {},
   "outputs": [],
   "source": [
    "df = pd.DataFrame(\n",
    "    {\n",
    "        \"Order_ID\": [101, 102, 103, 104, 105],\n",
    "        \"Customer_Name\": [\"Alice\", \"Bob\", \"Charlie\", \"David\", \"Emma\"],\n",
    "        \"Category_Code\": [1, 2, 3, 1, 3],\n",
    "    }\n",
    ")"
   ]
  },
  {
   "cell_type": "code",
   "execution_count": 194,
   "metadata": {},
   "outputs": [
    {
     "data": {
      "application/vnd.microsoft.datawrangler.viewer.v0+json": {
       "columns": [
        {
         "name": "index",
         "rawType": "int64",
         "type": "integer"
        },
        {
         "name": "Order_ID",
         "rawType": "int64",
         "type": "integer"
        },
        {
         "name": "Customer_Name",
         "rawType": "object",
         "type": "string"
        },
        {
         "name": "Category_Code",
         "rawType": "int64",
         "type": "integer"
        }
       ],
       "conversionMethod": "pd.DataFrame",
       "ref": "8415ca83-7c02-4469-abd2-fd7f0eb89062",
       "rows": [
        [
         "0",
         "101",
         "Alice",
         "1"
        ],
        [
         "1",
         "102",
         "Bob",
         "2"
        ],
        [
         "2",
         "103",
         "Charlie",
         "3"
        ],
        [
         "3",
         "104",
         "David",
         "1"
        ],
        [
         "4",
         "105",
         "Emma",
         "3"
        ]
       ],
       "shape": {
        "columns": 3,
        "rows": 5
       }
      },
      "text/html": [
       "<div>\n",
       "<style scoped>\n",
       "    .dataframe tbody tr th:only-of-type {\n",
       "        vertical-align: middle;\n",
       "    }\n",
       "\n",
       "    .dataframe tbody tr th {\n",
       "        vertical-align: top;\n",
       "    }\n",
       "\n",
       "    .dataframe thead th {\n",
       "        text-align: right;\n",
       "    }\n",
       "</style>\n",
       "<table border=\"1\" class=\"dataframe\">\n",
       "  <thead>\n",
       "    <tr style=\"text-align: right;\">\n",
       "      <th></th>\n",
       "      <th>Order_ID</th>\n",
       "      <th>Customer_Name</th>\n",
       "      <th>Category_Code</th>\n",
       "    </tr>\n",
       "  </thead>\n",
       "  <tbody>\n",
       "    <tr>\n",
       "      <th>0</th>\n",
       "      <td>101</td>\n",
       "      <td>Alice</td>\n",
       "      <td>1</td>\n",
       "    </tr>\n",
       "    <tr>\n",
       "      <th>1</th>\n",
       "      <td>102</td>\n",
       "      <td>Bob</td>\n",
       "      <td>2</td>\n",
       "    </tr>\n",
       "    <tr>\n",
       "      <th>2</th>\n",
       "      <td>103</td>\n",
       "      <td>Charlie</td>\n",
       "      <td>3</td>\n",
       "    </tr>\n",
       "    <tr>\n",
       "      <th>3</th>\n",
       "      <td>104</td>\n",
       "      <td>David</td>\n",
       "      <td>1</td>\n",
       "    </tr>\n",
       "    <tr>\n",
       "      <th>4</th>\n",
       "      <td>105</td>\n",
       "      <td>Emma</td>\n",
       "      <td>3</td>\n",
       "    </tr>\n",
       "  </tbody>\n",
       "</table>\n",
       "</div>"
      ],
      "text/plain": [
       "   Order_ID Customer_Name  Category_Code\n",
       "0       101         Alice              1\n",
       "1       102           Bob              2\n",
       "2       103       Charlie              3\n",
       "3       104         David              1\n",
       "4       105          Emma              3"
      ]
     },
     "execution_count": 194,
     "metadata": {},
     "output_type": "execute_result"
    }
   ],
   "source": [
    "df.head()"
   ]
  },
  {
   "cell_type": "code",
   "execution_count": 197,
   "metadata": {},
   "outputs": [],
   "source": [
    "df[\"Category_one\"] = df[\"Category_Code\"].map(lambda x :1 if x == 1 else 0)\n",
    "df[\"Category_two\"] = df[\"Category_Code\"].map(lambda x :1 if x == 2 else 0)\n",
    "df[\"Category_three\"] = df[\"Category_Code\"].map(lambda x :1 if x == 3 else 0)\n",
    "df[\"Category_four\"] = df[\"Category_Code\"].map(lambda x :1 if x == 4 else 0)"
   ]
  },
  {
   "cell_type": "code",
   "execution_count": 198,
   "metadata": {},
   "outputs": [
    {
     "data": {
      "application/vnd.microsoft.datawrangler.viewer.v0+json": {
       "columns": [
        {
         "name": "index",
         "rawType": "int64",
         "type": "integer"
        },
        {
         "name": "Order_ID",
         "rawType": "int64",
         "type": "integer"
        },
        {
         "name": "Customer_Name",
         "rawType": "object",
         "type": "string"
        },
        {
         "name": "Category_Code",
         "rawType": "int64",
         "type": "integer"
        },
        {
         "name": "Category_one",
         "rawType": "int64",
         "type": "integer"
        },
        {
         "name": "Category_two",
         "rawType": "int64",
         "type": "integer"
        },
        {
         "name": "Category_three",
         "rawType": "int64",
         "type": "integer"
        },
        {
         "name": "Category_four",
         "rawType": "int64",
         "type": "integer"
        }
       ],
       "conversionMethod": "pd.DataFrame",
       "ref": "d35a306d-3a51-4ed5-b45f-c564951a98c7",
       "rows": [
        [
         "0",
         "101",
         "Alice",
         "1",
         "1",
         "0",
         "0",
         "0"
        ],
        [
         "1",
         "102",
         "Bob",
         "2",
         "0",
         "1",
         "0",
         "0"
        ],
        [
         "2",
         "103",
         "Charlie",
         "3",
         "0",
         "0",
         "1",
         "0"
        ],
        [
         "3",
         "104",
         "David",
         "1",
         "1",
         "0",
         "0",
         "0"
        ],
        [
         "4",
         "105",
         "Emma",
         "3",
         "0",
         "0",
         "1",
         "0"
        ]
       ],
       "shape": {
        "columns": 7,
        "rows": 5
       }
      },
      "text/html": [
       "<div>\n",
       "<style scoped>\n",
       "    .dataframe tbody tr th:only-of-type {\n",
       "        vertical-align: middle;\n",
       "    }\n",
       "\n",
       "    .dataframe tbody tr th {\n",
       "        vertical-align: top;\n",
       "    }\n",
       "\n",
       "    .dataframe thead th {\n",
       "        text-align: right;\n",
       "    }\n",
       "</style>\n",
       "<table border=\"1\" class=\"dataframe\">\n",
       "  <thead>\n",
       "    <tr style=\"text-align: right;\">\n",
       "      <th></th>\n",
       "      <th>Order_ID</th>\n",
       "      <th>Customer_Name</th>\n",
       "      <th>Category_Code</th>\n",
       "      <th>Category_one</th>\n",
       "      <th>Category_two</th>\n",
       "      <th>Category_three</th>\n",
       "      <th>Category_four</th>\n",
       "    </tr>\n",
       "  </thead>\n",
       "  <tbody>\n",
       "    <tr>\n",
       "      <th>0</th>\n",
       "      <td>101</td>\n",
       "      <td>Alice</td>\n",
       "      <td>1</td>\n",
       "      <td>1</td>\n",
       "      <td>0</td>\n",
       "      <td>0</td>\n",
       "      <td>0</td>\n",
       "    </tr>\n",
       "    <tr>\n",
       "      <th>1</th>\n",
       "      <td>102</td>\n",
       "      <td>Bob</td>\n",
       "      <td>2</td>\n",
       "      <td>0</td>\n",
       "      <td>1</td>\n",
       "      <td>0</td>\n",
       "      <td>0</td>\n",
       "    </tr>\n",
       "    <tr>\n",
       "      <th>2</th>\n",
       "      <td>103</td>\n",
       "      <td>Charlie</td>\n",
       "      <td>3</td>\n",
       "      <td>0</td>\n",
       "      <td>0</td>\n",
       "      <td>1</td>\n",
       "      <td>0</td>\n",
       "    </tr>\n",
       "    <tr>\n",
       "      <th>3</th>\n",
       "      <td>104</td>\n",
       "      <td>David</td>\n",
       "      <td>1</td>\n",
       "      <td>1</td>\n",
       "      <td>0</td>\n",
       "      <td>0</td>\n",
       "      <td>0</td>\n",
       "    </tr>\n",
       "    <tr>\n",
       "      <th>4</th>\n",
       "      <td>105</td>\n",
       "      <td>Emma</td>\n",
       "      <td>3</td>\n",
       "      <td>0</td>\n",
       "      <td>0</td>\n",
       "      <td>1</td>\n",
       "      <td>0</td>\n",
       "    </tr>\n",
       "  </tbody>\n",
       "</table>\n",
       "</div>"
      ],
      "text/plain": [
       "   Order_ID Customer_Name  Category_Code  Category_one  Category_two  \\\n",
       "0       101         Alice              1             1             0   \n",
       "1       102           Bob              2             0             1   \n",
       "2       103       Charlie              3             0             0   \n",
       "3       104         David              1             1             0   \n",
       "4       105          Emma              3             0             0   \n",
       "\n",
       "   Category_three  Category_four  \n",
       "0               0              0  \n",
       "1               0              0  \n",
       "2               1              0  \n",
       "3               0              0  \n",
       "4               1              0  "
      ]
     },
     "execution_count": 198,
     "metadata": {},
     "output_type": "execute_result"
    }
   ],
   "source": [
    "df.head()"
   ]
  },
  {
   "cell_type": "code",
   "execution_count": null,
   "metadata": {},
   "outputs": [],
   "source": [
    "def get_category_name(code):\n",
    "    if code == 1:\n",
    "        return \"Electronics\"\n",
    "    elif code == 2:\n",
    "        return \"Clothing\"\n",
    "    elif code == 3:\n",
    "        return \"Books\"\n",
    "    else:\n",
    "        return \"Unknown\"\n",
    "\n",
    "df[\"Category_Code\"] = df[\"Category_Code\"].apply(get_category_name)"
   ]
  },
  {
   "cell_type": "code",
   "execution_count": 192,
   "metadata": {},
   "outputs": [
    {
     "data": {
      "application/vnd.microsoft.datawrangler.viewer.v0+json": {
       "columns": [
        {
         "name": "index",
         "rawType": "int64",
         "type": "integer"
        },
        {
         "name": "Order_ID",
         "rawType": "int64",
         "type": "integer"
        },
        {
         "name": "Customer_Name",
         "rawType": "object",
         "type": "string"
        },
        {
         "name": "Category_Code",
         "rawType": "int64",
         "type": "integer"
        },
        {
         "name": "Category_one",
         "rawType": "int64",
         "type": "integer"
        }
       ],
       "conversionMethod": "pd.DataFrame",
       "ref": "0f93a5f9-4f6d-4318-8854-432480df298b",
       "rows": [
        [
         "0",
         "101",
         "Alice",
         "1",
         "1"
        ],
        [
         "1",
         "102",
         "Bob",
         "2",
         "0"
        ],
        [
         "2",
         "103",
         "Charlie",
         "3",
         "0"
        ],
        [
         "3",
         "104",
         "David",
         "1",
         "1"
        ],
        [
         "4",
         "105",
         "Emma",
         "3",
         "0"
        ]
       ],
       "shape": {
        "columns": 4,
        "rows": 5
       }
      },
      "text/html": [
       "<div>\n",
       "<style scoped>\n",
       "    .dataframe tbody tr th:only-of-type {\n",
       "        vertical-align: middle;\n",
       "    }\n",
       "\n",
       "    .dataframe tbody tr th {\n",
       "        vertical-align: top;\n",
       "    }\n",
       "\n",
       "    .dataframe thead th {\n",
       "        text-align: right;\n",
       "    }\n",
       "</style>\n",
       "<table border=\"1\" class=\"dataframe\">\n",
       "  <thead>\n",
       "    <tr style=\"text-align: right;\">\n",
       "      <th></th>\n",
       "      <th>Order_ID</th>\n",
       "      <th>Customer_Name</th>\n",
       "      <th>Category_Code</th>\n",
       "      <th>Category_one</th>\n",
       "    </tr>\n",
       "  </thead>\n",
       "  <tbody>\n",
       "    <tr>\n",
       "      <th>0</th>\n",
       "      <td>101</td>\n",
       "      <td>Alice</td>\n",
       "      <td>1</td>\n",
       "      <td>1</td>\n",
       "    </tr>\n",
       "    <tr>\n",
       "      <th>1</th>\n",
       "      <td>102</td>\n",
       "      <td>Bob</td>\n",
       "      <td>2</td>\n",
       "      <td>0</td>\n",
       "    </tr>\n",
       "    <tr>\n",
       "      <th>2</th>\n",
       "      <td>103</td>\n",
       "      <td>Charlie</td>\n",
       "      <td>3</td>\n",
       "      <td>0</td>\n",
       "    </tr>\n",
       "    <tr>\n",
       "      <th>3</th>\n",
       "      <td>104</td>\n",
       "      <td>David</td>\n",
       "      <td>1</td>\n",
       "      <td>1</td>\n",
       "    </tr>\n",
       "    <tr>\n",
       "      <th>4</th>\n",
       "      <td>105</td>\n",
       "      <td>Emma</td>\n",
       "      <td>3</td>\n",
       "      <td>0</td>\n",
       "    </tr>\n",
       "  </tbody>\n",
       "</table>\n",
       "</div>"
      ],
      "text/plain": [
       "   Order_ID Customer_Name  Category_Code  Category_one\n",
       "0       101         Alice              1             1\n",
       "1       102           Bob              2             0\n",
       "2       103       Charlie              3             0\n",
       "3       104         David              1             1\n",
       "4       105          Emma              3             0"
      ]
     },
     "execution_count": 192,
     "metadata": {},
     "output_type": "execute_result"
    }
   ],
   "source": [
    "df.head()"
   ]
  },
  {
   "cell_type": "code",
   "execution_count": 181,
   "metadata": {},
   "outputs": [],
   "source": [
    "def get_category_name(code):\n",
    "    if code == 1:\n",
    "        return \"Electronics\"\n",
    "    elif code == 2:\n",
    "        return \"Clothing\"\n",
    "    elif code == 3:\n",
    "        return \"Books\"\n",
    "    else:\n",
    "        return \"Unknown\"\n",
    "    \n",
    "df[\"Category_Name\"] = df[\"Category_Code\"].map(get_category_name)    "
   ]
  },
  {
   "cell_type": "code",
   "execution_count": 176,
   "metadata": {},
   "outputs": [
    {
     "data": {
      "application/vnd.microsoft.datawrangler.viewer.v0+json": {
       "columns": [
        {
         "name": "index",
         "rawType": "int64",
         "type": "integer"
        },
        {
         "name": "Order_ID",
         "rawType": "int64",
         "type": "integer"
        },
        {
         "name": "Customer_Name",
         "rawType": "object",
         "type": "string"
        },
        {
         "name": "Category_Code",
         "rawType": "int64",
         "type": "integer"
        },
        {
         "name": "Category_Name",
         "rawType": "object",
         "type": "string"
        }
       ],
       "conversionMethod": "pd.DataFrame",
       "ref": "88f597b9-08d6-48bf-8856-2c97e88713cb",
       "rows": [
        [
         "0",
         "101",
         "Alice",
         "1",
         "Electronics"
        ],
        [
         "1",
         "102",
         "Bob",
         "2",
         "Clothing"
        ],
        [
         "2",
         "103",
         "Charlie",
         "3",
         "Books"
        ],
        [
         "3",
         "104",
         "David",
         "1",
         "Electronics"
        ],
        [
         "4",
         "105",
         "Emma",
         "3",
         "Books"
        ]
       ],
       "shape": {
        "columns": 4,
        "rows": 5
       }
      },
      "text/html": [
       "<div>\n",
       "<style scoped>\n",
       "    .dataframe tbody tr th:only-of-type {\n",
       "        vertical-align: middle;\n",
       "    }\n",
       "\n",
       "    .dataframe tbody tr th {\n",
       "        vertical-align: top;\n",
       "    }\n",
       "\n",
       "    .dataframe thead th {\n",
       "        text-align: right;\n",
       "    }\n",
       "</style>\n",
       "<table border=\"1\" class=\"dataframe\">\n",
       "  <thead>\n",
       "    <tr style=\"text-align: right;\">\n",
       "      <th></th>\n",
       "      <th>Order_ID</th>\n",
       "      <th>Customer_Name</th>\n",
       "      <th>Category_Code</th>\n",
       "      <th>Category_Name</th>\n",
       "    </tr>\n",
       "  </thead>\n",
       "  <tbody>\n",
       "    <tr>\n",
       "      <th>0</th>\n",
       "      <td>101</td>\n",
       "      <td>Alice</td>\n",
       "      <td>1</td>\n",
       "      <td>Electronics</td>\n",
       "    </tr>\n",
       "    <tr>\n",
       "      <th>1</th>\n",
       "      <td>102</td>\n",
       "      <td>Bob</td>\n",
       "      <td>2</td>\n",
       "      <td>Clothing</td>\n",
       "    </tr>\n",
       "    <tr>\n",
       "      <th>2</th>\n",
       "      <td>103</td>\n",
       "      <td>Charlie</td>\n",
       "      <td>3</td>\n",
       "      <td>Books</td>\n",
       "    </tr>\n",
       "    <tr>\n",
       "      <th>3</th>\n",
       "      <td>104</td>\n",
       "      <td>David</td>\n",
       "      <td>1</td>\n",
       "      <td>Electronics</td>\n",
       "    </tr>\n",
       "    <tr>\n",
       "      <th>4</th>\n",
       "      <td>105</td>\n",
       "      <td>Emma</td>\n",
       "      <td>3</td>\n",
       "      <td>Books</td>\n",
       "    </tr>\n",
       "  </tbody>\n",
       "</table>\n",
       "</div>"
      ],
      "text/plain": [
       "   Order_ID Customer_Name  Category_Code Category_Name\n",
       "0       101         Alice              1   Electronics\n",
       "1       102           Bob              2      Clothing\n",
       "2       103       Charlie              3         Books\n",
       "3       104         David              1   Electronics\n",
       "4       105          Emma              3         Books"
      ]
     },
     "execution_count": 176,
     "metadata": {},
     "output_type": "execute_result"
    }
   ],
   "source": [
    "df.head()"
   ]
  },
  {
   "cell_type": "code",
   "execution_count": 182,
   "metadata": {},
   "outputs": [
    {
     "name": "stdout",
     "output_type": "stream",
     "text": [
      "   Order_ID  Category_Code Category_Name\n",
      "0       101              1   Electronics\n",
      "1       102              2      Clothing\n",
      "2       103              3     Furniture\n",
      "3       104              1   Electronics\n",
      "4       105              3     Furniture\n"
     ]
    }
   ],
   "source": [
    "df = pd.DataFrame(\n",
    "    {\"Order_ID\": [101, 102, 103, 104, 105], \"Category_Code\": [1, 2, 3, 1, 3]}\n",
    ")\n",
    "\n",
    "# Mapping dictionary\n",
    "category_mapping = {1: \"Electronics\", 2: \"Clothing\", 3: \"Furniture\"}\n",
    "\n",
    "# Using map() to replace category codes with names\n",
    "df[\"Category_Name\"] = df[\"Category_Code\"].map(category_mapping)\n",
    "\n",
    "print(df)"
   ]
  },
  {
   "cell_type": "code",
   "execution_count": 183,
   "metadata": {},
   "outputs": [
    {
     "name": "stdout",
     "output_type": "stream",
     "text": [
      "   Price  Price_After_Tax\n",
      "0    100            110.0\n",
      "1    200            220.0\n",
      "2    300            330.0\n",
      "3    400            440.0\n"
     ]
    }
   ],
   "source": [
    "df = pd.DataFrame({\"Price\": [100, 200, 300, 400]})\n",
    "\n",
    "# Using map() to apply a function\n",
    "df[\"Price_After_Tax\"] = df[\"Price\"].map(lambda x: x * 1.1)\n",
    "\n",
    "print(df)"
   ]
  },
  {
   "cell_type": "code",
   "execution_count": 184,
   "metadata": {},
   "outputs": [
    {
     "name": "stdout",
     "output_type": "stream",
     "text": [
      "   Price  Tax  Total\n",
      "0    100   10    110\n",
      "1    200   20    220\n",
      "2    300   30    330\n",
      "3    400   40    440\n"
     ]
    }
   ],
   "source": [
    "df = pd.DataFrame({\"Price\": [100, 200, 300, 400], \"Tax\": [10, 20, 30, 40]})\n",
    "\n",
    "# Use apply() for row-wise operations\n",
    "df[\"Total\"] = df.apply(lambda row: row[\"Price\"] + row[\"Tax\"], axis=1)\n",
    "\n",
    "print(df)"
   ]
  },
  {
   "cell_type": "markdown",
   "metadata": {},
   "source": [
    "group by "
   ]
  },
  {
   "cell_type": "markdown",
   "metadata": {},
   "source": [
    "<dl class=\"field-list\">\n",
    "<dt class=\"field-odd\">Parameters<span class=\"colon\">:</span></dt>\n",
    "<dd class=\"field-odd\"><dl>\n",
    "<dt><strong>by</strong><span class=\"classifier\">mapping, function, label, pd.Grouper or list of such</span></dt><dd><p>Used to determine the groups for the groupby.\n",
    "If <code class=\"docutils literal notranslate\"><span class=\"pre\">by</span></code> is a function, it’s called on each value of the object’s\n",
    "index. If a dict or Series is passed, the Series or dict VALUES\n",
    "will be used to determine the groups (the Series’ values are first\n",
    "aligned; see <code class=\"docutils literal notranslate\"><span class=\"pre\">.align()</span></code> method). If a list or ndarray of length\n",
    "equal to the selected axis is passed (see the <a class=\"reference external\" href=\"https://pandas.pydata.org/pandas-docs/stable/user_guide/groupby.html#splitting-an-object-into-groups\">groupby user guide</a>),\n",
    "the values are used as-is to determine the groups. A label or list\n",
    "of labels may be passed to group by the columns in <code class=\"docutils literal notranslate\"><span class=\"pre\">self</span></code>.\n",
    "Notice that a tuple is interpreted as a (single) key.</p>\n",
    "</dd>\n",
    "<dt><strong>axis</strong><span class=\"classifier\">{0 or ‘index’, 1 or ‘columns’}, default 0</span></dt><dd><p>Split along rows (0) or columns (1). For <cite>Series</cite> this parameter\n",
    "is unused and defaults to 0.</p>\n",
    "<div class=\"deprecated\">\n",
    "<p><span class=\"versionmodified deprecated\">Deprecated since version 2.1.0: </span>Will be removed and behave like axis=0 in a future version.\n",
    "For <code class=\"docutils literal notranslate\"><span class=\"pre\">axis=1</span></code>, do <code class=\"docutils literal notranslate\"><span class=\"pre\">frame.T.groupby(...)</span></code> instead.</p>\n",
    "</div>\n",
    "</dd>\n",
    "<dt><strong>level</strong><span class=\"classifier\">int, level name, or sequence of such, default None</span></dt><dd><p>If the axis is a MultiIndex (hierarchical), group by a particular\n",
    "level or levels. Do not specify both <code class=\"docutils literal notranslate\"><span class=\"pre\">by</span></code> and <code class=\"docutils literal notranslate\"><span class=\"pre\">level</span></code>.</p>\n",
    "</dd>\n",
    "<dt><strong>as_index</strong><span class=\"classifier\">bool, default True</span></dt><dd><p>Return object with group labels as the\n",
    "index. Only relevant for DataFrame input. as_index=False is\n",
    "effectively “SQL-style” grouped output. This argument has no effect\n",
    "on filtrations (see the <a class=\"reference external\" href=\"https://pandas.pydata.org/docs/dev/user_guide/groupby.html#filtration\">filtrations in the user guide</a>),\n",
    "such as <code class=\"docutils literal notranslate\"><span class=\"pre\">head()</span></code>, <code class=\"docutils literal notranslate\"><span class=\"pre\">tail()</span></code>, <code class=\"docutils literal notranslate\"><span class=\"pre\">nth()</span></code> and in transformations\n",
    "(see the <a class=\"reference external\" href=\"https://pandas.pydata.org/docs/dev/user_guide/groupby.html#transformation\">transformations in the user guide</a>).</p>\n",
    "</dd>\n",
    "<dt><strong>sort</strong><span class=\"classifier\">bool, default True</span></dt><dd><p>Sort group keys. Get better performance by turning this off.\n",
    "Note this does not influence the order of observations within each\n",
    "group. Groupby preserves the order of rows within each group. If False,\n",
    "the groups will appear in the same order as they did in the original DataFrame.\n",
    "This argument has no effect on filtrations (see the <a class=\"reference external\" href=\"https://pandas.pydata.org/docs/dev/user_guide/groupby.html#filtration\">filtrations in the user guide</a>),\n",
    "such as <code class=\"docutils literal notranslate\"><span class=\"pre\">head()</span></code>, <code class=\"docutils literal notranslate\"><span class=\"pre\">tail()</span></code>, <code class=\"docutils literal notranslate\"><span class=\"pre\">nth()</span></code> and in transformations\n",
    "(see the <a class=\"reference external\" href=\"https://pandas.pydata.org/docs/dev/user_guide/groupby.html#transformation\">transformations in the user guide</a>).</p>\n",
    "<div class=\"versionchanged\">\n",
    "<p><span class=\"versionmodified changed\">Changed in version 2.0.0: </span>Specifying <code class=\"docutils literal notranslate\"><span class=\"pre\">sort=False</span></code> with an ordered categorical grouper will no\n",
    "longer sort the values.</p>\n",
    "</div>\n",
    "</dd>\n",
    "<dt><strong>group_keys</strong><span class=\"classifier\">bool, default True</span></dt><dd><p>When calling apply and the <code class=\"docutils literal notranslate\"><span class=\"pre\">by</span></code> argument produces a like-indexed\n",
    "(i.e. <a class=\"reference internal\" href=\"../../user_guide/groupby.html#groupby-transform\"><span class=\"std std-ref\">a transform</span></a>) result, add group keys to\n",
    "index to identify pieces. By default group keys are not included\n",
    "when the result’s index (and column) labels match the inputs, and\n",
    "are included otherwise.</p>\n",
    "<div class=\"versionchanged\">\n",
    "<p><span class=\"versionmodified changed\">Changed in version 1.5.0: </span>Warns that <code class=\"docutils literal notranslate\"><span class=\"pre\">group_keys</span></code> will no longer be ignored when the\n",
    "result from <code class=\"docutils literal notranslate\"><span class=\"pre\">apply</span></code> is a like-indexed Series or DataFrame.\n",
    "Specify <code class=\"docutils literal notranslate\"><span class=\"pre\">group_keys</span></code> explicitly to include the group keys or\n",
    "not.</p>\n",
    "</div>\n",
    "<div class=\"versionchanged\">\n",
    "<p><span class=\"versionmodified changed\">Changed in version 2.0.0: </span><code class=\"docutils literal notranslate\"><span class=\"pre\">group_keys</span></code> now defaults to <code class=\"docutils literal notranslate\"><span class=\"pre\">True</span></code>.</p>\n",
    "</div>\n",
    "</dd>\n",
    "<dt><strong>observed</strong><span class=\"classifier\">bool, default False</span></dt><dd><p>This only applies if any of the groupers are Categoricals.\n",
    "If True: only show observed values for categorical groupers.\n",
    "If False: show all values for categorical groupers.</p>\n",
    "<div class=\"deprecated\">\n",
    "<p><span class=\"versionmodified deprecated\">Deprecated since version 2.1.0: </span>The default value will change to True in a future version of pandas.</p>\n",
    "</div>\n",
    "</dd>\n",
    "<dt><strong>dropna</strong><span class=\"classifier\">bool, default True</span></dt><dd><p>If True, and if group keys contain NA values, NA values together\n",
    "with row/column will be dropped.\n",
    "If False, NA values will also be treated as the key in groups.</p>\n",
    "</dd>\n",
    "</dl>\n",
    "</dd>\n",
    "<dt class=\"field-even\">Returns<span class=\"colon\">:</span></dt>\n",
    "<dd class=\"field-even\"><dl class=\"simple\">\n",
    "<dt>pandas.api.typing.SeriesGroupBy</dt><dd><p>Returns a groupby object that contains information about the groups.</p>\n",
    "</dd>\n",
    "</dl>\n",
    "</dd>\n",
    "</dl>"
   ]
  },
  {
   "cell_type": "code",
   "execution_count": 200,
   "metadata": {},
   "outputs": [
    {
     "name": "stdout",
     "output_type": "stream",
     "text": [
      "Original Series:\n",
      " Falcon    390\n",
      "Falcon    350\n",
      "Parrot     30\n",
      "Parrot     20\n",
      "dtype: int64\n",
      "\n",
      "Grouped by index:\n",
      " Falcon    370.0\n",
      "Parrot     25.0\n",
      "dtype: float64\n"
     ]
    }
   ],
   "source": [
    "# Creating a Series\n",
    "ser = pd.Series([390, 350, 30, 20], index=[\"Falcon\", \"Falcon\", \"Parrot\", \"Parrot\"])\n",
    "print(\"Original Series:\\n\", ser)\n",
    "\n",
    "# Grouping by index (animal name) and finding the mean\n",
    "grouped = ser.groupby(level=0).mean()\n",
    "print(\"\\nGrouped by index:\\n\", grouped)"
   ]
  },
  {
   "cell_type": "code",
   "execution_count": 212,
   "metadata": {},
   "outputs": [
    {
     "name": "stdout",
     "output_type": "stream",
     "text": [
      "        Speed\n",
      "Animal       \n",
      "Falcon    390\n",
      "Parrot     30\n"
     ]
    }
   ],
   "source": [
    "# Creating a DataFrame\n",
    "df = pd.DataFrame(\n",
    "    {\n",
    "    \"Animal\": [\"Falcon\", \"Falcon\", \"Parrot\", \"Parrot\"],\n",
    "    \"Speed\": [390, 350, 30, 20]\n",
    "    }\n",
    ")\n",
    "\n",
    "# Grouping by the 'Animal' column and finding the mean speed\n",
    "grouped_df = df.groupby(\"Animal\").first()\n",
    "print(grouped_df)"
   ]
  },
  {
   "cell_type": "code",
   "execution_count": 213,
   "metadata": {},
   "outputs": [
    {
     "name": "stdout",
     "output_type": "stream",
     "text": [
      "        Speed\n",
      "Animal       \n",
      "Falcon  370.0\n",
      "Parrot   25.0\n"
     ]
    }
   ],
   "source": [
    "grouped_df = df.groupby(\"Animal\").mean()\n",
    "print(grouped_df)"
   ]
  },
  {
   "cell_type": "code",
   "execution_count": 214,
   "metadata": {},
   "outputs": [
    {
     "name": "stdout",
     "output_type": "stream",
     "text": [
      "        Speed           \n",
      "         mean  sum count\n",
      "Animal                  \n",
      "Falcon  370.0  740     2\n",
      "Parrot   25.0   50     2\n"
     ]
    }
   ],
   "source": [
    "# Using multiple aggregations\n",
    "agg_results = df.groupby(\"Animal\").agg([\"mean\", \"sum\", \"count\"])\n",
    "print(agg_results)"
   ]
  },
  {
   "cell_type": "code",
   "execution_count": 208,
   "metadata": {},
   "outputs": [
    {
     "name": "stdout",
     "output_type": "stream",
     "text": [
      "   Animal  Speed\n",
      "0  Falcon    390\n",
      "1  Falcon    350\n"
     ]
    }
   ],
   "source": [
    "filtered_groups = df.groupby(\"Animal\").filter(lambda x: x[\"Speed\"].mean() > 50)\n",
    "print(filtered_groups)"
   ]
  },
  {
   "cell_type": "code",
   "execution_count": 216,
   "metadata": {},
   "outputs": [
    {
     "name": "stdout",
     "output_type": "stream",
     "text": [
      "   Animal  Speed Speed Category\n",
      "0  Falcon    390           Fast\n",
      "1  Falcon    350           Fast\n",
      "2  Parrot     30           Slow\n",
      "3  Parrot     20           Slow\n"
     ]
    }
   ],
   "source": [
    "df[\"Speed Category\"] = df[\"Speed\"].map(lambda x: \"Fast\" if x > 100 else \"Slow\")\n",
    "print(df)"
   ]
  },
  {
   "cell_type": "code",
   "execution_count": 217,
   "metadata": {},
   "outputs": [
    {
     "name": "stdout",
     "output_type": "stream",
     "text": [
      "                Animal  Speed\n",
      "Speed Category               \n",
      "Fast                 2      2\n",
      "Slow                 2      2\n"
     ]
    }
   ],
   "source": [
    "# Grouping by the speed category\n",
    "grouped_speed = df.groupby(\"Speed Category\").count()\n",
    "print(grouped_speed)"
   ]
  },
  {
   "cell_type": "code",
   "execution_count": 218,
   "metadata": {},
   "outputs": [],
   "source": [
    "df = pd.DataFrame(\n",
    "    {\n",
    "        \"Animal\": [\"Falcon\", \"Falcon\", \"Parrot\", \"Parrot\", \"Falcon\"],\n",
    "        \"Type\": [\"Wild\", \"Captive\", \"Wild\", \"Captive\", \"Wild\"],\n",
    "        \"Speed\": [390, 350, 30, 20, 400],\n",
    "    }\n",
    ")"
   ]
  },
  {
   "cell_type": "code",
   "execution_count": 219,
   "metadata": {},
   "outputs": [
    {
     "name": "stdout",
     "output_type": "stream",
     "text": [
      "                Speed\n",
      "Animal Type          \n",
      "Falcon Captive    350\n",
      "       Wild       390\n",
      "Parrot Captive     20\n",
      "       Wild        30\n"
     ]
    }
   ],
   "source": [
    "# Grouping by 'Animal' and 'Type'\n",
    "grouped = df.groupby([\"Animal\", \"Type\"]).first()\n",
    "print(grouped)"
   ]
  },
  {
   "cell_type": "markdown",
   "metadata": {},
   "source": [
    "rolling"
   ]
  },
  {
   "cell_type": "code",
   "execution_count": 4,
   "metadata": {},
   "outputs": [],
   "source": [
    "s = pd.Series([1,2,3,4,5,6,7,8,9,10])"
   ]
  },
  {
   "cell_type": "code",
   "execution_count": 8,
   "metadata": {},
   "outputs": [
    {
     "data": {
      "text/plain": [
       "0     1.0\n",
       "1     2.0\n",
       "2     3.0\n",
       "3     4.0\n",
       "4     5.0\n",
       "5     6.0\n",
       "6     7.0\n",
       "7     8.0\n",
       "8     9.0\n",
       "9    10.0\n",
       "dtype: float64"
      ]
     },
     "execution_count": 8,
     "metadata": {},
     "output_type": "execute_result"
    }
   ],
   "source": [
    "s.rolling(1).mean()"
   ]
  },
  {
   "cell_type": "code",
   "execution_count": 13,
   "metadata": {},
   "outputs": [
    {
     "data": {
      "text/plain": [
       "0    NaN\n",
       "1    NaN\n",
       "2    NaN\n",
       "3    NaN\n",
       "4    NaN\n",
       "5    NaN\n",
       "6    NaN\n",
       "7    NaN\n",
       "8    NaN\n",
       "9    5.5\n",
       "dtype: float64"
      ]
     },
     "execution_count": 13,
     "metadata": {},
     "output_type": "execute_result"
    }
   ],
   "source": [
    "s.rolling(10).mean()"
   ]
  },
  {
   "cell_type": "code",
   "execution_count": 14,
   "metadata": {},
   "outputs": [],
   "source": [
    "df = pd.DataFrame(\n",
    "    {\n",
    "        \"A\": [\n",
    "            pd.to_datetime(\"2020-01-01\"),\n",
    "            pd.to_datetime(\"2020-01-01\"),\n",
    "            pd.to_datetime(\"2020-01-02\"),\n",
    "        ],\n",
    "        \"B\": [1, 2, 3],\n",
    "    },\n",
    "    index=pd.date_range(\"2020\", periods=3),\n",
    ")"
   ]
  },
  {
   "cell_type": "code",
   "execution_count": 15,
   "metadata": {},
   "outputs": [
    {
     "data": {
      "application/vnd.microsoft.datawrangler.viewer.v0+json": {
       "columns": [
        {
         "name": "index",
         "rawType": "datetime64[ns]",
         "type": "datetime"
        },
        {
         "name": "A",
         "rawType": "datetime64[ns]",
         "type": "datetime"
        },
        {
         "name": "B",
         "rawType": "float64",
         "type": "float"
        }
       ],
       "conversionMethod": "pd.DataFrame",
       "ref": "0a5a141a-8c6f-4f5c-87fd-be3ec1f16d2b",
       "rows": [
        [
         "2020-01-01 00:00:00",
         "2020-01-01 00:00:00",
         "1.0"
        ],
        [
         "2020-01-02 00:00:00",
         "2020-01-01 00:00:00",
         "3.0"
        ],
        [
         "2020-01-03 00:00:00",
         "2020-01-02 00:00:00",
         "6.0"
        ]
       ],
       "shape": {
        "columns": 2,
        "rows": 3
       }
      },
      "text/html": [
       "<div>\n",
       "<style scoped>\n",
       "    .dataframe tbody tr th:only-of-type {\n",
       "        vertical-align: middle;\n",
       "    }\n",
       "\n",
       "    .dataframe tbody tr th {\n",
       "        vertical-align: top;\n",
       "    }\n",
       "\n",
       "    .dataframe thead th {\n",
       "        text-align: right;\n",
       "    }\n",
       "</style>\n",
       "<table border=\"1\" class=\"dataframe\">\n",
       "  <thead>\n",
       "    <tr style=\"text-align: right;\">\n",
       "      <th></th>\n",
       "      <th>A</th>\n",
       "      <th>B</th>\n",
       "    </tr>\n",
       "  </thead>\n",
       "  <tbody>\n",
       "    <tr>\n",
       "      <th>2020-01-01</th>\n",
       "      <td>2020-01-01</td>\n",
       "      <td>1.0</td>\n",
       "    </tr>\n",
       "    <tr>\n",
       "      <th>2020-01-02</th>\n",
       "      <td>2020-01-01</td>\n",
       "      <td>3.0</td>\n",
       "    </tr>\n",
       "    <tr>\n",
       "      <th>2020-01-03</th>\n",
       "      <td>2020-01-02</td>\n",
       "      <td>6.0</td>\n",
       "    </tr>\n",
       "  </tbody>\n",
       "</table>\n",
       "</div>"
      ],
      "text/plain": [
       "                    A    B\n",
       "2020-01-01 2020-01-01  1.0\n",
       "2020-01-02 2020-01-01  3.0\n",
       "2020-01-03 2020-01-02  6.0"
      ]
     },
     "execution_count": 15,
     "metadata": {},
     "output_type": "execute_result"
    }
   ],
   "source": [
    "df.rolling(\"2D\", on=\"A\").sum()"
   ]
  },
  {
   "cell_type": "markdown",
   "metadata": {},
   "source": [
    "expanding"
   ]
  },
  {
   "cell_type": "markdown",
   "metadata": {},
   "source": [
    "Parameters:\n",
    "- min_periodsint, default 1\n",
    "    Minimum number of observations in window required to have a value; otherwise, result is np.nan.\n",
    "- axisint or str, default 0\n",
    "    - If 0 or 'index', roll across the rows.\n",
    "    - If 1 or 'columns', roll across the columns.\n",
    "    - For Series this parameter is unused and defaults to 0.\n",
    "- methodstr {‘single’, ‘table’}, default ‘single’\n",
    "    - Execute the rolling operation per single column or row ('single') or over the entire object ('table').\n",
    "    - This argument is only implemented when specifying engine='numba' in the method call."
   ]
  },
  {
   "cell_type": "code",
   "execution_count": 16,
   "metadata": {},
   "outputs": [
    {
     "name": "stdout",
     "output_type": "stream",
     "text": [
      "     B  expanding_sum  expanding_mean\n",
      "0  0.0            0.0            0.00\n",
      "1  1.0            1.0            0.50\n",
      "2  2.0            3.0            1.00\n",
      "3  NaN            3.0            1.00\n",
      "4  4.0            7.0            1.75\n"
     ]
    }
   ],
   "source": [
    "df = pd.DataFrame({\"B\": [0, 1, 2, np.nan, 4]})\n",
    "\n",
    "# Applying expanding sum\n",
    "df[\"expanding_sum\"] = df[\"B\"].expanding().sum()\n",
    "\n",
    "# Applying expanding mean\n",
    "df[\"expanding_mean\"] = df[\"B\"].expanding().mean()\n",
    "\n",
    "print(df)"
   ]
  },
  {
   "cell_type": "markdown",
   "metadata": {},
   "source": [
    "abs"
   ]
  },
  {
   "cell_type": "code",
   "execution_count": 18,
   "metadata": {},
   "outputs": [
    {
     "name": "stdout",
     "output_type": "stream",
     "text": [
      "0    1.10\n",
      "1    2.00\n",
      "2    3.33\n",
      "3    4.00\n",
      "dtype: float64\n"
     ]
    }
   ],
   "source": [
    "s = pd.Series([-1.10, 2, -3.33, 4])\n",
    "print(s.abs())"
   ]
  },
  {
   "cell_type": "markdown",
   "metadata": {},
   "source": [
    "all "
   ]
  },
  {
   "cell_type": "code",
   "execution_count": 19,
   "metadata": {},
   "outputs": [
    {
     "name": "stdout",
     "output_type": "stream",
     "text": [
      "True\n",
      "False\n",
      "True\n",
      "True\n"
     ]
    }
   ],
   "source": [
    "s1 = pd.Series([True, True])\n",
    "s2 = pd.Series([True, False])\n",
    "s3 = pd.Series([np.nan])\n",
    "\n",
    "print(s1.all())  # True (all values are True)\n",
    "print(s2.all())  # False (one False value)\n",
    "print(s3.all())  # True (NaN is ignored by default)\n",
    "print(s3.all(skipna=False))"
   ]
  },
  {
   "cell_type": "code",
   "execution_count": null,
   "metadata": {},
   "outputs": [
    {
     "name": "stdout",
     "output_type": "stream",
     "text": [
      "   col1   col2\n",
      "0  True   True\n",
      "1  True  False\n"
     ]
    }
   ],
   "source": [
    "df = pd.DataFrame({\n",
    "    \"col1\": [True, True],\n",
    "    \"col2\": [True, False]\n",
    "    })\n",
    "print(df)"
   ]
  },
  {
   "cell_type": "code",
   "execution_count": 21,
   "metadata": {},
   "outputs": [
    {
     "name": "stdout",
     "output_type": "stream",
     "text": [
      "col1     True\n",
      "col2    False\n",
      "dtype: bool\n"
     ]
    }
   ],
   "source": [
    "print(df.all())  # Default axis=0 (column-wise check)"
   ]
  },
  {
   "cell_type": "code",
   "execution_count": 22,
   "metadata": {},
   "outputs": [
    {
     "name": "stdout",
     "output_type": "stream",
     "text": [
      "0     True\n",
      "1    False\n",
      "dtype: bool\n"
     ]
    }
   ],
   "source": [
    "print(df.all(axis=1))  # axis=1 checks row-wise"
   ]
  },
  {
   "cell_type": "code",
   "execution_count": 23,
   "metadata": {},
   "outputs": [
    {
     "name": "stdout",
     "output_type": "stream",
     "text": [
      "False\n"
     ]
    }
   ],
   "source": [
    "print(df.all(axis=None))  # Checks the entire DataFrame"
   ]
  },
  {
   "cell_type": "markdown",
   "metadata": {},
   "source": [
    "any"
   ]
  },
  {
   "cell_type": "code",
   "execution_count": 24,
   "metadata": {},
   "outputs": [
    {
     "name": "stdout",
     "output_type": "stream",
     "text": [
      "⚠️ Alert: High temperature detected!\n"
     ]
    }
   ],
   "source": [
    "temperature_readings = pd.Series([22, 35, 40, 48, 55, 30, 25])\n",
    "\n",
    "# Check if any reading is greater than 50°C\n",
    "high_temp_warning = (temperature_readings > 50).any()\n",
    "\n",
    "# Display the result\n",
    "if high_temp_warning:\n",
    "    print(\"⚠️ Alert: High temperature detected!\")\n",
    "else:\n",
    "    print(\"✅ All temperatures are normal.\")"
   ]
  },
  {
   "cell_type": "markdown",
   "metadata": {},
   "source": [
    "correlation "
   ]
  },
  {
   "cell_type": "code",
   "execution_count": 25,
   "metadata": {},
   "outputs": [
    {
     "data": {
      "text/plain": [
       "0.10355263309024071"
      ]
     },
     "execution_count": 25,
     "metadata": {},
     "output_type": "execute_result"
    }
   ],
   "source": [
    "s = pd.Series([0.25, 0.5, 0.2, -0.05])\n",
    "s.autocorr()"
   ]
  },
  {
   "cell_type": "code",
   "execution_count": 30,
   "metadata": {},
   "outputs": [
    {
     "data": {
      "text/plain": [
       "<bound method Series.corr of 0    0.25\n",
       "1    0.50\n",
       "2    0.20\n",
       "3   -0.05\n",
       "dtype: float64>"
      ]
     },
     "execution_count": 30,
     "metadata": {},
     "output_type": "execute_result"
    }
   ],
   "source": [
    "s.corr"
   ]
  },
  {
   "cell_type": "markdown",
   "metadata": {},
   "source": [
    "between"
   ]
  },
  {
   "cell_type": "code",
   "execution_count": 26,
   "metadata": {},
   "outputs": [],
   "source": [
    "series = pd.Series([pd.Timestamp('20180101'), pd.Timestamp('20180102'), pd.Timestamp('20180103')])"
   ]
  },
  {
   "cell_type": "code",
   "execution_count": 27,
   "metadata": {},
   "outputs": [
    {
     "data": {
      "text/plain": [
       "0     True\n",
       "1     True\n",
       "2    False\n",
       "dtype: bool"
      ]
     },
     "execution_count": 27,
     "metadata": {},
     "output_type": "execute_result"
    }
   ],
   "source": [
    "series.between(pd.Timestamp('20180101'), pd.Timestamp('20180102'))"
   ]
  },
  {
   "cell_type": "markdown",
   "metadata": {},
   "source": [
    "clip"
   ]
  },
  {
   "cell_type": "code",
   "execution_count": 28,
   "metadata": {},
   "outputs": [
    {
     "name": "stdout",
     "output_type": "stream",
     "text": [
      "Original Readings:\n",
      "0     350\n",
      "1     420\n",
      "2     980\n",
      "3    1050\n",
      "4    1200\n",
      "5     800\n",
      "dtype: int64\n",
      "\n",
      "Clipped (Safe) Readings:\n",
      "0     400\n",
      "1     420\n",
      "2     980\n",
      "3    1000\n",
      "4    1000\n",
      "5     800\n",
      "dtype: int64\n"
     ]
    }
   ],
   "source": [
    "co2_readings = pd.Series([350, 420, 980, 1050, 1200, 800])\n",
    "\n",
    "# Clip values to the safe range (400 - 1000 ppm)\n",
    "safe_co2_readings = co2_readings.clip(lower=400, upper=1000)\n",
    "\n",
    "# Display results\n",
    "print(\"Original Readings:\")\n",
    "print(co2_readings)\n",
    "\n",
    "print(\"\\nClipped (Safe) Readings:\")\n",
    "print(safe_co2_readings)"
   ]
  },
  {
   "cell_type": "markdown",
   "metadata": {},
   "source": [
    "count"
   ]
  },
  {
   "cell_type": "code",
   "execution_count": 32,
   "metadata": {},
   "outputs": [
    {
     "name": "stdout",
     "output_type": "stream",
     "text": [
      "4\n"
     ]
    }
   ],
   "source": [
    "series = pd.Series([1,2,3,4])\n",
    "print(series.count())"
   ]
  },
  {
   "cell_type": "markdown",
   "metadata": {},
   "source": [
    "coveriance"
   ]
  },
  {
   "cell_type": "code",
   "execution_count": 34,
   "metadata": {},
   "outputs": [
    {
     "name": "stdout",
     "output_type": "stream",
     "text": [
      "-0.01685762652715874\n"
     ]
    }
   ],
   "source": [
    "s1 = pd.Series([0.90010907, 0.13484424, 0.62036035])\n",
    "s2 = pd.Series([0.12528585, 0.26962463, 0.51111198])\n",
    "print(s1.cov(s2))"
   ]
  },
  {
   "cell_type": "code",
   "execution_count": null,
   "metadata": {},
   "outputs": [],
   "source": [
    "s = pd.Series([2, np.nan, 5, -1, 0])"
   ]
  },
  {
   "cell_type": "markdown",
   "metadata": {},
   "source": [
    "cummax"
   ]
  },
  {
   "cell_type": "code",
   "execution_count": 35,
   "metadata": {},
   "outputs": [
    {
     "name": "stdout",
     "output_type": "stream",
     "text": [
      "Original Temperature Readings:\n",
      "0    20\n",
      "1    22\n",
      "2    21\n",
      "3    25\n",
      "4    23\n",
      "5    27\n",
      "6    26\n",
      "dtype: int64\n",
      "\n",
      "Cumulative Maximum Temperature Readings:\n",
      "0    20\n",
      "1    22\n",
      "2    22\n",
      "3    25\n",
      "4    25\n",
      "5    27\n",
      "6    27\n",
      "dtype: int64\n"
     ]
    }
   ],
   "source": [
    "# Daily temperature readings (°C)\n",
    "temperature = pd.Series([20, 22, 21, 25, 23, 27, 26])\n",
    "\n",
    "# Compute cumulative maximum temperature\n",
    "max_temperature = temperature.cummax()\n",
    "\n",
    "# Display results\n",
    "print(\"Original Temperature Readings:\")\n",
    "print(temperature)\n",
    "\n",
    "print(\"\\nCumulative Maximum Temperature Readings:\")\n",
    "print(max_temperature)"
   ]
  },
  {
   "cell_type": "code",
   "execution_count": 36,
   "metadata": {},
   "outputs": [
    {
     "name": "stdout",
     "output_type": "stream",
     "text": [
      "Original Temperature Readings:\n",
      "0    20\n",
      "1    22\n",
      "2    21\n",
      "3    25\n",
      "4    23\n",
      "5    27\n",
      "6    26\n",
      "dtype: int64\n",
      "\n",
      "Cumulative Minimum Temperature Readings:\n",
      "0    20\n",
      "1    20\n",
      "2    20\n",
      "3    20\n",
      "4    20\n",
      "5    20\n",
      "6    20\n",
      "dtype: int64\n"
     ]
    }
   ],
   "source": [
    "# Daily temperature readings (°C)\n",
    "temperature = pd.Series([20, 22, 21, 25, 23, 27, 26])\n",
    "\n",
    "# Compute cumulative maximum temperature\n",
    "max_temperature = temperature.cummin()\n",
    "\n",
    "# Display results\n",
    "print(\"Original Temperature Readings:\")\n",
    "print(temperature)\n",
    "\n",
    "print(\"\\nCumulative Minimum Temperature Readings:\")\n",
    "print(max_temperature)"
   ]
  },
  {
   "cell_type": "code",
   "execution_count": 37,
   "metadata": {},
   "outputs": [
    {
     "name": "stdout",
     "output_type": "stream",
     "text": [
      "Original Temperature Readings:\n",
      "0    20\n",
      "1    22\n",
      "2    21\n",
      "3    25\n",
      "4    23\n",
      "5    27\n",
      "6    26\n",
      "dtype: int64\n",
      "\n",
      "Cumulative Sum Temperature Readings:\n",
      "0     20\n",
      "1     42\n",
      "2     63\n",
      "3     88\n",
      "4    111\n",
      "5    138\n",
      "6    164\n",
      "dtype: int64\n"
     ]
    }
   ],
   "source": [
    "# Daily temperature readings (°C)\n",
    "temperature = pd.Series([20, 22, 21, 25, 23, 27, 26])\n",
    "\n",
    "# Compute cumulative maximum temperature\n",
    "max_temperature = temperature.cumsum()\n",
    "\n",
    "# Display results\n",
    "print(\"Original Temperature Readings:\")\n",
    "print(temperature)\n",
    "\n",
    "print(\"\\nCumulative Sum Temperature Readings:\")\n",
    "print(max_temperature)"
   ]
  },
  {
   "cell_type": "code",
   "execution_count": null,
   "metadata": {},
   "outputs": [],
   "source": []
  }
 ],
 "metadata": {
  "kernelspec": {
   "display_name": "Python 3",
   "language": "python",
   "name": "python3"
  },
  "language_info": {
   "codemirror_mode": {
    "name": "ipython",
    "version": 3
   },
   "file_extension": ".py",
   "mimetype": "text/x-python",
   "name": "python",
   "nbconvert_exporter": "python",
   "pygments_lexer": "ipython3",
   "version": "3.12.2"
  }
 },
 "nbformat": 4,
 "nbformat_minor": 2
}
